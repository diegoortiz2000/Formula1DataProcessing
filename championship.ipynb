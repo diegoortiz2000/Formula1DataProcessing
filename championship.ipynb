{
 "cells": [
  {
   "cell_type": "code",
   "execution_count": 17,
   "metadata": {
    "collapsed": true,
    "ExecuteTime": {
     "end_time": "2023-05-31T16:35:34.023837Z",
     "start_time": "2023-05-31T16:35:34.016079Z"
    }
   },
   "outputs": [],
   "source": [
    "import fastf1\n",
    "from fastf1.ergast import Ergast"
   ]
  },
  {
   "cell_type": "code",
   "execution_count": 18,
   "outputs": [],
   "source": [
    "import requests\n",
    "import pandas as pd\n",
    "\n",
    "def get_driver_standings():\n",
    "    url = f\"http://ergast.com/api/f1/{2023}/driverStandings.json\"\n",
    "    response = requests.get(url)\n",
    "\n",
    "    if response.status_code == 200:\n",
    "        data = response.json()\n",
    "\n",
    "        standings_data = data['MRData']['StandingsTable']['StandingsLists'][0]['DriverStandings']\n",
    "\n",
    "        flattened_data = []\n",
    "\n",
    "        for standing in standings_data:\n",
    "            driver_data = standing.get('Driver', {})\n",
    "            constructors = standing.get('Constructors', [])\n",
    "            constructor_data = constructors[0] if constructors else {}\n",
    "\n",
    "            flattened_item = {\n",
    "                'position': standing.get('position'),\n",
    "                'positionText': standing.get('positionText'),\n",
    "                'points': standing.get('points'),\n",
    "                'wins': standing.get('wins'),\n",
    "                'driverId': driver_data.get('driverId'),\n",
    "                'driverPermanentNumber': driver_data.get('permanentNumber'),\n",
    "                'driverCode': driver_data.get('code'),\n",
    "                'driverName': driver_data.get('givenName', '') + ' ' + driver_data.get('familyName', ''),\n",
    "                'driverDOB': driver_data.get('dateOfBirth'),\n",
    "                'driverNationality': driver_data.get('nationality'),\n",
    "                'constructorId': constructor_data.get('constructorId'),\n",
    "                'constructorName': constructor_data.get('name'),\n",
    "                'constructorNationality': constructor_data.get('nationality')\n",
    "            }\n",
    "            flattened_data.append(flattened_item)\n",
    "\n",
    "        df = pd.DataFrame(flattened_data)\n",
    "        return df\n",
    "    else:\n",
    "        print(f\"HTTP request failed with status {response.status_code}.\")\n",
    "        return None\n",
    "\n"
   ],
   "metadata": {
    "collapsed": false,
    "ExecuteTime": {
     "end_time": "2023-05-31T16:35:34.028462Z",
     "start_time": "2023-05-31T16:35:34.025236Z"
    }
   }
  },
  {
   "cell_type": "code",
   "execution_count": 19,
   "outputs": [],
   "source": [
    "def calculate_max_points_for_remaining_season():\n",
    "    POINTS_FOR_SPRINT = 8 + 25 + 1  # Winning the sprint, race and fastest lap\n",
    "    POINTS_FOR_CONVENTIONAL = 25 + 1  # Winning the race and fastest lap\n",
    "\n",
    "    events = fastf1.events.get_events_remaining()\n",
    "    # Count how many sprints and conventional races are left\n",
    "    sprint_events = len(events.loc[events[\"EventFormat\"] == \"sprint\"])\n",
    "    conventional_events = len(events.loc[events[\"EventFormat\"] == \"conventional\"])\n",
    "\n",
    "    # Calculate points for each\n",
    "    sprint_points = sprint_events * POINTS_FOR_SPRINT\n",
    "    conventional_points = conventional_events * POINTS_FOR_CONVENTIONAL\n",
    "\n",
    "    return sprint_points + conventional_points"
   ],
   "metadata": {
    "collapsed": false,
    "ExecuteTime": {
     "end_time": "2023-05-31T16:35:34.036709Z",
     "start_time": "2023-05-31T16:35:34.030602Z"
    }
   }
  },
  {
   "cell_type": "code",
   "execution_count": 22,
   "outputs": [],
   "source": [
    "def calculate_who_can_win(driver_standings, max_points):\n",
    "    LEADER_POINTS = int(driver_standings.loc[0]['points'])\n",
    "\n",
    "    for i, _ in enumerate(driver_standings.iterrows()):\n",
    "        driver = driver_standings.loc[i]\n",
    "        driver_max_points = int(driver[\"points\"]) + max_points\n",
    "        can_win = 'No' if driver_max_points < LEADER_POINTS else 'Yes'\n",
    "\n",
    "        print(f\"{driver['position']}: {driver['driverName']}, \"\n",
    "              f\"Current points: {driver['points']}, \"\n",
    "              f\"Theoretical max points: {driver_max_points}, \"\n",
    "              f\"Can win: {can_win}\")"
   ],
   "metadata": {
    "collapsed": false,
    "ExecuteTime": {
     "end_time": "2023-05-31T16:38:39.457063Z",
     "start_time": "2023-05-31T16:38:39.452666Z"
    }
   }
  },
  {
   "cell_type": "code",
   "execution_count": 23,
   "outputs": [
    {
     "name": "stdout",
     "output_type": "stream",
     "text": [
      "1: Max Verstappen, Current points: 144, Theoretical max points: 430, Can win: Yes\n",
      "2: Sergio Pérez, Current points: 105, Theoretical max points: 391, Can win: Yes\n",
      "3: Fernando Alonso, Current points: 93, Theoretical max points: 379, Can win: Yes\n",
      "4: Lewis Hamilton, Current points: 69, Theoretical max points: 355, Can win: Yes\n",
      "5: George Russell, Current points: 50, Theoretical max points: 336, Can win: Yes\n",
      "6: Carlos Sainz, Current points: 48, Theoretical max points: 334, Can win: Yes\n",
      "7: Charles Leclerc, Current points: 42, Theoretical max points: 328, Can win: Yes\n",
      "8: Lance Stroll, Current points: 27, Theoretical max points: 313, Can win: Yes\n",
      "9: Esteban Ocon, Current points: 21, Theoretical max points: 307, Can win: Yes\n",
      "10: Pierre Gasly, Current points: 14, Theoretical max points: 300, Can win: Yes\n",
      "11: Lando Norris, Current points: 12, Theoretical max points: 298, Can win: Yes\n",
      "12: Nico Hülkenberg, Current points: 6, Theoretical max points: 292, Can win: Yes\n",
      "13: Oscar Piastri, Current points: 5, Theoretical max points: 291, Can win: Yes\n",
      "14: Valtteri Bottas, Current points: 4, Theoretical max points: 290, Can win: Yes\n",
      "15: Guanyu Zhou, Current points: 2, Theoretical max points: 288, Can win: Yes\n",
      "16: Yuki Tsunoda, Current points: 2, Theoretical max points: 288, Can win: Yes\n",
      "17: Kevin Magnussen, Current points: 2, Theoretical max points: 288, Can win: Yes\n",
      "18: Alexander Albon, Current points: 1, Theoretical max points: 287, Can win: Yes\n",
      "19: Nyck de Vries, Current points: 0, Theoretical max points: 286, Can win: Yes\n",
      "20: Logan Sargeant, Current points: 0, Theoretical max points: 286, Can win: Yes\n"
     ]
    }
   ],
   "source": [
    "# Get the current drivers standings\n",
    "driver_standings = get_driver_standings()\n",
    "\n",
    "# Get the maximum amount of points\n",
    "points = calculate_max_points_for_remaining_season()\n",
    "\n",
    "# Print which drivers can still win\n",
    "calculate_who_can_win(driver_standings, points)"
   ],
   "metadata": {
    "collapsed": false,
    "ExecuteTime": {
     "end_time": "2023-05-31T16:38:41.204183Z",
     "start_time": "2023-05-31T16:38:40.741393Z"
    }
   }
  },
  {
   "cell_type": "code",
   "execution_count": null,
   "outputs": [],
   "source": [],
   "metadata": {
    "collapsed": false
   }
  }
 ],
 "metadata": {
  "kernelspec": {
   "display_name": "Python 3",
   "language": "python",
   "name": "python3"
  },
  "language_info": {
   "codemirror_mode": {
    "name": "ipython",
    "version": 2
   },
   "file_extension": ".py",
   "mimetype": "text/x-python",
   "name": "python",
   "nbconvert_exporter": "python",
   "pygments_lexer": "ipython2",
   "version": "2.7.6"
  }
 },
 "nbformat": 4,
 "nbformat_minor": 0
}
