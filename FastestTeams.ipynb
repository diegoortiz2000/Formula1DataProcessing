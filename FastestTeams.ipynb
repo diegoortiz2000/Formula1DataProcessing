{
 "cells": [
  {
   "cell_type": "code",
   "execution_count": 3,
   "outputs": [],
   "source": [
    "from matplotlib import pyplot as plt\n",
    "import fastf1\n",
    "import fastf1.plotting\n",
    "from fastf1.ergast import Ergast\n",
    "import numpy as np\n",
    "import pandas as pd"
   ],
   "metadata": {
    "collapsed": false,
    "ExecuteTime": {
     "end_time": "2023-05-30T15:33:40.976192Z",
     "start_time": "2023-05-30T15:33:40.973044Z"
    }
   }
  },
  {
   "cell_type": "code",
   "execution_count": 17,
   "outputs": [],
   "source": [
    "fastf1.Cache.enable_cache('cache')\n",
    "year = 2023"
   ],
   "metadata": {
    "collapsed": false,
    "ExecuteTime": {
     "end_time": "2023-05-30T15:47:56.363878Z",
     "start_time": "2023-05-30T15:47:56.350583Z"
    }
   }
  },
  {
   "cell_type": "code",
   "execution_count": 40,
   "outputs": [],
   "source": [
    "schedule2023 = fastf1.get_event_schedule(year)"
   ],
   "metadata": {
    "collapsed": false,
    "ExecuteTime": {
     "end_time": "2023-05-30T17:07:39.079909Z",
     "start_time": "2023-05-30T17:07:38.882905Z"
    }
   }
  },
  {
   "cell_type": "code",
   "execution_count": 41,
   "outputs": [
    {
     "data": {
      "text/plain": "    RoundNumber        Country           Location  \\\n0             0        Bahrain             Sakhir   \n1             1        Bahrain             Sakhir   \n2             2   Saudi Arabia             Jeddah   \n3             3      Australia          Melbourne   \n4             4     Azerbaijan               Baku   \n5             5  United States              Miami   \n6             6          Italy              Imola   \n7             7         Monaco             Monaco   \n8             8          Spain          Barcelona   \n9             9         Canada           Montréal   \n10           10        Austria          Spielberg   \n11           11  Great Britain        Silverstone   \n12           12        Hungary           Budapest   \n13           13        Belgium  Spa-Francorchamps   \n14           14    Netherlands          Zandvoort   \n15           15          Italy              Monza   \n16           16      Singapore         Marina Bay   \n17           17          Japan             Suzuka   \n18           18          Qatar             Lusail   \n19           19  United States             Austin   \n20           20         Mexico        Mexico City   \n21           21         Brazil          São Paulo   \n22           22  United States          Las Vegas   \n23           23      Abu Dhabi         Yas Island   \n\n                                    OfficialEventName  EventDate  \\\n0            FORMULA 1 ARAMCO PRE-SEASON TESTING 2023 2023-02-25   \n1          FORMULA 1 GULF AIR BAHRAIN GRAND PRIX 2023 2023-03-05   \n2         FORMULA 1 STC SAUDI ARABIAN GRAND PRIX 2023 2023-03-19   \n3          FORMULA 1 ROLEX AUSTRALIAN GRAND PRIX 2023 2023-04-02   \n4                FORMULA 1 AZERBAIJAN GRAND PRIX 2023 2023-04-30   \n5          FORMULA 1 CRYPTO.COM MIAMI GRAND PRIX 2023 2023-05-07   \n6   FORMULA 1 QATAR AIRWAYS GRAN PREMIO DEL MADE I... 2023-05-21   \n7                 FORMULA 1 GRAND PRIX DE MONACO 2023 2023-05-28   \n8            FORMULA 1 AWS GRAN PREMIO DE ESPAÑA 2023 2023-06-04   \n9         FORMULA 1 PIRELLI GRAND PRIX DU CANADA 2023 2023-06-18   \n10        FORMULA 1 GROSSER PREIS VON ÖSTERREICH 2023 2023-07-02   \n11           FORMULA 1 ARAMCO BRITISH GRAND PRIX 2023 2023-07-09   \n12  FORMULA 1 QATAR AIRWAYS HUNGARIAN GRAND PRIX 2023 2023-07-23   \n13      FORMULA 1 MSC CRUISES BELGIAN GRAND PRIX 2023 2023-07-30   \n14           FORMULA 1 HEINEKEN DUTCH GRAND PRIX 2023 2023-08-27   \n15       FORMULA 1 PIRELLI GRAN PREMIO D’ITALIA 2023  2023-09-03   \n16  FORMULA 1 SINGAPORE AIRLINES SINGAPORE GRAND P... 2023-09-17   \n17         FORMULA 1 LENOVO JAPANESE GRAND PRIX 2023  2023-09-24   \n18      FORMULA 1 QATAR AIRWAYS QATAR GRAND PRIX 2023 2023-10-08   \n19     FORMULA 1 LENOVO UNITED STATES GRAND PRIX 2023 2023-10-22   \n20  FORMULA 1 GRAN PREMIO DE LA CIUDAD DE MÉXICO 2023 2023-10-29   \n21    FORMULA 1 ROLEX GRANDE PRÊMIO DE SÃO PAULO 2023 2023-11-05   \n22  FORMULA 1 HEINEKEN SILVER LAS VEGAS GRAND PRIX... 2023-11-18   \n23  FORMULA 1 ETIHAD AIRWAYS ABU DHABI GRAND PRIX ... 2023-11-26   \n\n                    EventName      EventFormat    Session1  \\\n0          Pre-Season Testing          testing  Practice 1   \n1          Bahrain Grand Prix     conventional  Practice 1   \n2    Saudi Arabian Grand Prix     conventional  Practice 1   \n3       Australian Grand Prix     conventional  Practice 1   \n4       Azerbaijan Grand Prix  sprint_shootout  Practice 1   \n5            Miami Grand Prix     conventional  Practice 1   \n6   Emilia Romagna Grand Prix     conventional  Practice 1   \n7           Monaco Grand Prix     conventional  Practice 1   \n8          Spanish Grand Prix     conventional  Practice 1   \n9         Canadian Grand Prix     conventional  Practice 1   \n10        Austrian Grand Prix  sprint_shootout  Practice 1   \n11         British Grand Prix     conventional  Practice 1   \n12       Hungarian Grand Prix     conventional  Practice 1   \n13         Belgian Grand Prix  sprint_shootout  Practice 1   \n14           Dutch Grand Prix     conventional  Practice 1   \n15         Italian Grand Prix     conventional  Practice 1   \n16       Singapore Grand Prix     conventional  Practice 1   \n17        Japanese Grand Prix     conventional  Practice 1   \n18           Qatar Grand Prix  sprint_shootout  Practice 1   \n19   United States Grand Prix  sprint_shootout  Practice 1   \n20     Mexico City Grand Prix     conventional  Practice 1   \n21       São Paulo Grand Prix  sprint_shootout  Practice 1   \n22       Las Vegas Grand Prix     conventional  Practice 1   \n23       Abu Dhabi Grand Prix     conventional  Practice 1   \n\n                 Session1Date     Session1DateUtc  ...         Session3  \\\n0   2023-02-23 10:00:00+03:00 2023-02-23 07:00:00  ...       Practice 3   \n1   2023-03-03 14:30:00+03:00 2023-03-03 11:30:00  ...       Practice 3   \n2   2023-03-17 16:30:00+03:00 2023-03-17 13:30:00  ...       Practice 3   \n3   2023-03-31 12:30:00+10:00 2023-03-31 02:30:00  ...       Practice 3   \n4   2023-04-28 13:30:00+04:00 2023-04-28 09:30:00  ...  Sprint Shootout   \n5   2023-05-05 14:00:00-04:00 2023-05-05 18:00:00  ...       Practice 3   \n6   2023-05-19 13:30:00+02:00 2023-05-19 11:30:00  ...       Practice 3   \n7   2023-05-26 13:30:00+02:00 2023-05-26 11:30:00  ...       Practice 3   \n8   2023-06-02 13:30:00+02:00 2023-06-02 11:30:00  ...       Practice 3   \n9   2023-06-16 13:30:00-04:00 2023-06-16 17:30:00  ...       Practice 3   \n10  2023-06-30 13:30:00+02:00 2023-06-30 11:30:00  ...  Sprint Shootout   \n11  2023-07-07 12:30:00+01:00 2023-07-07 11:30:00  ...       Practice 3   \n12  2023-07-21 13:30:00+02:00 2023-07-21 11:30:00  ...       Practice 3   \n13  2023-07-28 13:30:00+02:00 2023-07-28 11:30:00  ...  Sprint Shootout   \n14  2023-08-25 12:30:00+02:00 2023-08-25 10:30:00  ...       Practice 3   \n15  2023-09-01 13:30:00+02:00 2023-09-01 11:30:00  ...       Practice 3   \n16  2023-09-15 17:30:00+08:00 2023-09-15 09:30:00  ...       Practice 3   \n17  2023-09-22 11:30:00+09:00 2023-09-22 02:30:00  ...       Practice 3   \n18  2023-10-06 16:30:00+03:00 2023-10-06 13:30:00  ...  Sprint Shootout   \n19  2023-10-20 12:30:00-05:00 2023-10-20 17:30:00  ...  Sprint Shootout   \n20  2023-10-27 12:30:00-06:00 2023-10-27 18:30:00  ...       Practice 3   \n21  2023-11-03 11:30:00-03:00 2023-11-03 14:30:00  ...  Sprint Shootout   \n22  2023-11-16 20:30:00-08:00 2023-11-17 04:30:00  ...       Practice 3   \n23  2023-11-24 13:30:00+04:00 2023-11-24 09:30:00  ...       Practice 3   \n\n                 Session3Date     Session3DateUtc    Session4  \\\n0   2023-02-25 10:00:00+03:00 2023-02-25 07:00:00        None   \n1   2023-03-04 14:30:00+03:00 2023-03-04 11:30:00  Qualifying   \n2   2023-03-18 16:30:00+03:00 2023-03-18 13:30:00  Qualifying   \n3   2023-04-01 12:30:00+10:00 2023-04-01 02:30:00  Qualifying   \n4   2023-04-29 12:30:00+04:00 2023-04-29 08:30:00      Sprint   \n5   2023-05-06 12:30:00-04:00 2023-05-06 16:30:00  Qualifying   \n6   2023-05-20 12:30:00+02:00 2023-05-20 10:30:00  Qualifying   \n7   2023-05-27 12:30:00+02:00 2023-05-27 10:30:00  Qualifying   \n8   2023-06-03 12:30:00+02:00 2023-06-03 10:30:00  Qualifying   \n9   2023-06-17 12:30:00-04:00 2023-06-17 16:30:00  Qualifying   \n10  2023-07-01 12:00:00+02:00 2023-07-01 10:00:00      Sprint   \n11  2023-07-08 11:30:00+01:00 2023-07-08 10:30:00  Qualifying   \n12  2023-07-22 12:30:00+02:00 2023-07-22 10:30:00  Qualifying   \n13  2023-07-29 12:00:00+02:00 2023-07-29 10:00:00      Sprint   \n14  2023-08-26 11:30:00+02:00 2023-08-26 09:30:00  Qualifying   \n15  2023-09-02 12:30:00+02:00 2023-09-02 10:30:00  Qualifying   \n16  2023-09-16 17:30:00+08:00 2023-09-16 09:30:00  Qualifying   \n17  2023-09-23 11:30:00+09:00 2023-09-23 02:30:00  Qualifying   \n18  2023-10-07 16:00:00+03:00 2023-10-07 13:00:00      Sprint   \n19  2023-10-21 12:30:00-05:00 2023-10-21 17:30:00      Sprint   \n20  2023-10-28 11:30:00-06:00 2023-10-28 17:30:00  Qualifying   \n21  2023-11-04 11:00:00-03:00 2023-11-04 14:00:00      Sprint   \n22  2023-11-17 20:30:00-08:00 2023-11-18 04:30:00  Qualifying   \n23  2023-11-25 14:30:00+04:00 2023-11-25 10:30:00  Qualifying   \n\n                 Session4Date     Session4DateUtc Session5  \\\n0                         NaT                 NaT     None   \n1   2023-03-04 18:00:00+03:00 2023-03-04 15:00:00     Race   \n2   2023-03-18 20:00:00+03:00 2023-03-18 17:00:00     Race   \n3   2023-04-01 16:00:00+10:00 2023-04-01 06:00:00     Race   \n4   2023-04-29 17:30:00+04:00 2023-04-29 13:30:00     Race   \n5   2023-05-06 16:00:00-04:00 2023-05-06 20:00:00     Race   \n6   2023-05-20 16:00:00+02:00 2023-05-20 14:00:00     Race   \n7   2023-05-27 16:00:00+02:00 2023-05-27 14:00:00     Race   \n8   2023-06-03 16:00:00+02:00 2023-06-03 14:00:00     Race   \n9   2023-06-17 16:00:00-04:00 2023-06-17 20:00:00     Race   \n10  2023-07-01 16:30:00+02:00 2023-07-01 14:30:00     Race   \n11  2023-07-08 15:00:00+01:00 2023-07-08 14:00:00     Race   \n12  2023-07-22 16:00:00+02:00 2023-07-22 14:00:00     Race   \n13  2023-07-29 16:30:00+02:00 2023-07-29 14:30:00     Race   \n14  2023-08-26 15:00:00+02:00 2023-08-26 13:00:00     Race   \n15  2023-09-02 16:00:00+02:00 2023-09-02 14:00:00     Race   \n16  2023-09-16 21:00:00+08:00 2023-09-16 13:00:00     Race   \n17  2023-09-23 15:00:00+09:00 2023-09-23 06:00:00     Race   \n18  2023-10-07 20:30:00+03:00 2023-10-07 17:30:00     Race   \n19  2023-10-21 17:00:00-05:00 2023-10-21 22:00:00     Race   \n20  2023-10-28 15:00:00-06:00 2023-10-28 21:00:00     Race   \n21  2023-11-04 15:30:00-03:00 2023-11-04 18:30:00     Race   \n22  2023-11-18 00:00:00-08:00 2023-11-18 08:00:00     Race   \n23  2023-11-25 18:00:00+04:00 2023-11-25 14:00:00     Race   \n\n                 Session5Date     Session5DateUtc F1ApiSupport  \n0                         NaT                 NaT         True  \n1   2023-03-05 18:00:00+03:00 2023-03-05 15:00:00         True  \n2   2023-03-19 20:00:00+03:00 2023-03-19 17:00:00         True  \n3   2023-04-02 15:00:00+10:00 2023-04-02 05:00:00         True  \n4   2023-04-30 15:00:00+04:00 2023-04-30 11:00:00         True  \n5   2023-05-07 15:30:00-04:00 2023-05-07 19:30:00         True  \n6   2023-05-21 15:00:00+02:00 2023-05-21 13:00:00         True  \n7   2023-05-28 15:00:00+02:00 2023-05-28 13:00:00         True  \n8   2023-06-04 15:00:00+02:00 2023-06-04 13:00:00         True  \n9   2023-06-18 14:00:00-04:00 2023-06-18 18:00:00         True  \n10  2023-07-02 15:00:00+02:00 2023-07-02 13:00:00         True  \n11  2023-07-09 15:00:00+01:00 2023-07-09 14:00:00         True  \n12  2023-07-23 15:00:00+02:00 2023-07-23 13:00:00         True  \n13  2023-07-30 15:00:00+02:00 2023-07-30 13:00:00         True  \n14  2023-08-27 15:00:00+02:00 2023-08-27 13:00:00         True  \n15  2023-09-03 15:00:00+02:00 2023-09-03 13:00:00         True  \n16  2023-09-17 20:00:00+08:00 2023-09-17 12:00:00         True  \n17  2023-09-24 14:00:00+09:00 2023-09-24 05:00:00         True  \n18  2023-10-08 20:00:00+03:00 2023-10-08 17:00:00         True  \n19  2023-10-22 14:00:00-05:00 2023-10-22 19:00:00         True  \n20  2023-10-29 14:00:00-06:00 2023-10-29 20:00:00         True  \n21  2023-11-05 14:00:00-03:00 2023-11-05 17:00:00         True  \n22  2023-11-18 22:00:00-08:00 2023-11-19 06:00:00         True  \n23  2023-11-26 17:00:00+04:00 2023-11-26 13:00:00         True  \n\n[24 rows x 23 columns]",
      "text/html": "<div>\n<style scoped>\n    .dataframe tbody tr th:only-of-type {\n        vertical-align: middle;\n    }\n\n    .dataframe tbody tr th {\n        vertical-align: top;\n    }\n\n    .dataframe thead th {\n        text-align: right;\n    }\n</style>\n<table border=\"1\" class=\"dataframe\">\n  <thead>\n    <tr style=\"text-align: right;\">\n      <th></th>\n      <th>RoundNumber</th>\n      <th>Country</th>\n      <th>Location</th>\n      <th>OfficialEventName</th>\n      <th>EventDate</th>\n      <th>EventName</th>\n      <th>EventFormat</th>\n      <th>Session1</th>\n      <th>Session1Date</th>\n      <th>Session1DateUtc</th>\n      <th>...</th>\n      <th>Session3</th>\n      <th>Session3Date</th>\n      <th>Session3DateUtc</th>\n      <th>Session4</th>\n      <th>Session4Date</th>\n      <th>Session4DateUtc</th>\n      <th>Session5</th>\n      <th>Session5Date</th>\n      <th>Session5DateUtc</th>\n      <th>F1ApiSupport</th>\n    </tr>\n  </thead>\n  <tbody>\n    <tr>\n      <th>0</th>\n      <td>0</td>\n      <td>Bahrain</td>\n      <td>Sakhir</td>\n      <td>FORMULA 1 ARAMCO PRE-SEASON TESTING 2023</td>\n      <td>2023-02-25</td>\n      <td>Pre-Season Testing</td>\n      <td>testing</td>\n      <td>Practice 1</td>\n      <td>2023-02-23 10:00:00+03:00</td>\n      <td>2023-02-23 07:00:00</td>\n      <td>...</td>\n      <td>Practice 3</td>\n      <td>2023-02-25 10:00:00+03:00</td>\n      <td>2023-02-25 07:00:00</td>\n      <td>None</td>\n      <td>NaT</td>\n      <td>NaT</td>\n      <td>None</td>\n      <td>NaT</td>\n      <td>NaT</td>\n      <td>True</td>\n    </tr>\n    <tr>\n      <th>1</th>\n      <td>1</td>\n      <td>Bahrain</td>\n      <td>Sakhir</td>\n      <td>FORMULA 1 GULF AIR BAHRAIN GRAND PRIX 2023</td>\n      <td>2023-03-05</td>\n      <td>Bahrain Grand Prix</td>\n      <td>conventional</td>\n      <td>Practice 1</td>\n      <td>2023-03-03 14:30:00+03:00</td>\n      <td>2023-03-03 11:30:00</td>\n      <td>...</td>\n      <td>Practice 3</td>\n      <td>2023-03-04 14:30:00+03:00</td>\n      <td>2023-03-04 11:30:00</td>\n      <td>Qualifying</td>\n      <td>2023-03-04 18:00:00+03:00</td>\n      <td>2023-03-04 15:00:00</td>\n      <td>Race</td>\n      <td>2023-03-05 18:00:00+03:00</td>\n      <td>2023-03-05 15:00:00</td>\n      <td>True</td>\n    </tr>\n    <tr>\n      <th>2</th>\n      <td>2</td>\n      <td>Saudi Arabia</td>\n      <td>Jeddah</td>\n      <td>FORMULA 1 STC SAUDI ARABIAN GRAND PRIX 2023</td>\n      <td>2023-03-19</td>\n      <td>Saudi Arabian Grand Prix</td>\n      <td>conventional</td>\n      <td>Practice 1</td>\n      <td>2023-03-17 16:30:00+03:00</td>\n      <td>2023-03-17 13:30:00</td>\n      <td>...</td>\n      <td>Practice 3</td>\n      <td>2023-03-18 16:30:00+03:00</td>\n      <td>2023-03-18 13:30:00</td>\n      <td>Qualifying</td>\n      <td>2023-03-18 20:00:00+03:00</td>\n      <td>2023-03-18 17:00:00</td>\n      <td>Race</td>\n      <td>2023-03-19 20:00:00+03:00</td>\n      <td>2023-03-19 17:00:00</td>\n      <td>True</td>\n    </tr>\n    <tr>\n      <th>3</th>\n      <td>3</td>\n      <td>Australia</td>\n      <td>Melbourne</td>\n      <td>FORMULA 1 ROLEX AUSTRALIAN GRAND PRIX 2023</td>\n      <td>2023-04-02</td>\n      <td>Australian Grand Prix</td>\n      <td>conventional</td>\n      <td>Practice 1</td>\n      <td>2023-03-31 12:30:00+10:00</td>\n      <td>2023-03-31 02:30:00</td>\n      <td>...</td>\n      <td>Practice 3</td>\n      <td>2023-04-01 12:30:00+10:00</td>\n      <td>2023-04-01 02:30:00</td>\n      <td>Qualifying</td>\n      <td>2023-04-01 16:00:00+10:00</td>\n      <td>2023-04-01 06:00:00</td>\n      <td>Race</td>\n      <td>2023-04-02 15:00:00+10:00</td>\n      <td>2023-04-02 05:00:00</td>\n      <td>True</td>\n    </tr>\n    <tr>\n      <th>4</th>\n      <td>4</td>\n      <td>Azerbaijan</td>\n      <td>Baku</td>\n      <td>FORMULA 1 AZERBAIJAN GRAND PRIX 2023</td>\n      <td>2023-04-30</td>\n      <td>Azerbaijan Grand Prix</td>\n      <td>sprint_shootout</td>\n      <td>Practice 1</td>\n      <td>2023-04-28 13:30:00+04:00</td>\n      <td>2023-04-28 09:30:00</td>\n      <td>...</td>\n      <td>Sprint Shootout</td>\n      <td>2023-04-29 12:30:00+04:00</td>\n      <td>2023-04-29 08:30:00</td>\n      <td>Sprint</td>\n      <td>2023-04-29 17:30:00+04:00</td>\n      <td>2023-04-29 13:30:00</td>\n      <td>Race</td>\n      <td>2023-04-30 15:00:00+04:00</td>\n      <td>2023-04-30 11:00:00</td>\n      <td>True</td>\n    </tr>\n    <tr>\n      <th>5</th>\n      <td>5</td>\n      <td>United States</td>\n      <td>Miami</td>\n      <td>FORMULA 1 CRYPTO.COM MIAMI GRAND PRIX 2023</td>\n      <td>2023-05-07</td>\n      <td>Miami Grand Prix</td>\n      <td>conventional</td>\n      <td>Practice 1</td>\n      <td>2023-05-05 14:00:00-04:00</td>\n      <td>2023-05-05 18:00:00</td>\n      <td>...</td>\n      <td>Practice 3</td>\n      <td>2023-05-06 12:30:00-04:00</td>\n      <td>2023-05-06 16:30:00</td>\n      <td>Qualifying</td>\n      <td>2023-05-06 16:00:00-04:00</td>\n      <td>2023-05-06 20:00:00</td>\n      <td>Race</td>\n      <td>2023-05-07 15:30:00-04:00</td>\n      <td>2023-05-07 19:30:00</td>\n      <td>True</td>\n    </tr>\n    <tr>\n      <th>6</th>\n      <td>6</td>\n      <td>Italy</td>\n      <td>Imola</td>\n      <td>FORMULA 1 QATAR AIRWAYS GRAN PREMIO DEL MADE I...</td>\n      <td>2023-05-21</td>\n      <td>Emilia Romagna Grand Prix</td>\n      <td>conventional</td>\n      <td>Practice 1</td>\n      <td>2023-05-19 13:30:00+02:00</td>\n      <td>2023-05-19 11:30:00</td>\n      <td>...</td>\n      <td>Practice 3</td>\n      <td>2023-05-20 12:30:00+02:00</td>\n      <td>2023-05-20 10:30:00</td>\n      <td>Qualifying</td>\n      <td>2023-05-20 16:00:00+02:00</td>\n      <td>2023-05-20 14:00:00</td>\n      <td>Race</td>\n      <td>2023-05-21 15:00:00+02:00</td>\n      <td>2023-05-21 13:00:00</td>\n      <td>True</td>\n    </tr>\n    <tr>\n      <th>7</th>\n      <td>7</td>\n      <td>Monaco</td>\n      <td>Monaco</td>\n      <td>FORMULA 1 GRAND PRIX DE MONACO 2023</td>\n      <td>2023-05-28</td>\n      <td>Monaco Grand Prix</td>\n      <td>conventional</td>\n      <td>Practice 1</td>\n      <td>2023-05-26 13:30:00+02:00</td>\n      <td>2023-05-26 11:30:00</td>\n      <td>...</td>\n      <td>Practice 3</td>\n      <td>2023-05-27 12:30:00+02:00</td>\n      <td>2023-05-27 10:30:00</td>\n      <td>Qualifying</td>\n      <td>2023-05-27 16:00:00+02:00</td>\n      <td>2023-05-27 14:00:00</td>\n      <td>Race</td>\n      <td>2023-05-28 15:00:00+02:00</td>\n      <td>2023-05-28 13:00:00</td>\n      <td>True</td>\n    </tr>\n    <tr>\n      <th>8</th>\n      <td>8</td>\n      <td>Spain</td>\n      <td>Barcelona</td>\n      <td>FORMULA 1 AWS GRAN PREMIO DE ESPAÑA 2023</td>\n      <td>2023-06-04</td>\n      <td>Spanish Grand Prix</td>\n      <td>conventional</td>\n      <td>Practice 1</td>\n      <td>2023-06-02 13:30:00+02:00</td>\n      <td>2023-06-02 11:30:00</td>\n      <td>...</td>\n      <td>Practice 3</td>\n      <td>2023-06-03 12:30:00+02:00</td>\n      <td>2023-06-03 10:30:00</td>\n      <td>Qualifying</td>\n      <td>2023-06-03 16:00:00+02:00</td>\n      <td>2023-06-03 14:00:00</td>\n      <td>Race</td>\n      <td>2023-06-04 15:00:00+02:00</td>\n      <td>2023-06-04 13:00:00</td>\n      <td>True</td>\n    </tr>\n    <tr>\n      <th>9</th>\n      <td>9</td>\n      <td>Canada</td>\n      <td>Montréal</td>\n      <td>FORMULA 1 PIRELLI GRAND PRIX DU CANADA 2023</td>\n      <td>2023-06-18</td>\n      <td>Canadian Grand Prix</td>\n      <td>conventional</td>\n      <td>Practice 1</td>\n      <td>2023-06-16 13:30:00-04:00</td>\n      <td>2023-06-16 17:30:00</td>\n      <td>...</td>\n      <td>Practice 3</td>\n      <td>2023-06-17 12:30:00-04:00</td>\n      <td>2023-06-17 16:30:00</td>\n      <td>Qualifying</td>\n      <td>2023-06-17 16:00:00-04:00</td>\n      <td>2023-06-17 20:00:00</td>\n      <td>Race</td>\n      <td>2023-06-18 14:00:00-04:00</td>\n      <td>2023-06-18 18:00:00</td>\n      <td>True</td>\n    </tr>\n    <tr>\n      <th>10</th>\n      <td>10</td>\n      <td>Austria</td>\n      <td>Spielberg</td>\n      <td>FORMULA 1 GROSSER PREIS VON ÖSTERREICH 2023</td>\n      <td>2023-07-02</td>\n      <td>Austrian Grand Prix</td>\n      <td>sprint_shootout</td>\n      <td>Practice 1</td>\n      <td>2023-06-30 13:30:00+02:00</td>\n      <td>2023-06-30 11:30:00</td>\n      <td>...</td>\n      <td>Sprint Shootout</td>\n      <td>2023-07-01 12:00:00+02:00</td>\n      <td>2023-07-01 10:00:00</td>\n      <td>Sprint</td>\n      <td>2023-07-01 16:30:00+02:00</td>\n      <td>2023-07-01 14:30:00</td>\n      <td>Race</td>\n      <td>2023-07-02 15:00:00+02:00</td>\n      <td>2023-07-02 13:00:00</td>\n      <td>True</td>\n    </tr>\n    <tr>\n      <th>11</th>\n      <td>11</td>\n      <td>Great Britain</td>\n      <td>Silverstone</td>\n      <td>FORMULA 1 ARAMCO BRITISH GRAND PRIX 2023</td>\n      <td>2023-07-09</td>\n      <td>British Grand Prix</td>\n      <td>conventional</td>\n      <td>Practice 1</td>\n      <td>2023-07-07 12:30:00+01:00</td>\n      <td>2023-07-07 11:30:00</td>\n      <td>...</td>\n      <td>Practice 3</td>\n      <td>2023-07-08 11:30:00+01:00</td>\n      <td>2023-07-08 10:30:00</td>\n      <td>Qualifying</td>\n      <td>2023-07-08 15:00:00+01:00</td>\n      <td>2023-07-08 14:00:00</td>\n      <td>Race</td>\n      <td>2023-07-09 15:00:00+01:00</td>\n      <td>2023-07-09 14:00:00</td>\n      <td>True</td>\n    </tr>\n    <tr>\n      <th>12</th>\n      <td>12</td>\n      <td>Hungary</td>\n      <td>Budapest</td>\n      <td>FORMULA 1 QATAR AIRWAYS HUNGARIAN GRAND PRIX 2023</td>\n      <td>2023-07-23</td>\n      <td>Hungarian Grand Prix</td>\n      <td>conventional</td>\n      <td>Practice 1</td>\n      <td>2023-07-21 13:30:00+02:00</td>\n      <td>2023-07-21 11:30:00</td>\n      <td>...</td>\n      <td>Practice 3</td>\n      <td>2023-07-22 12:30:00+02:00</td>\n      <td>2023-07-22 10:30:00</td>\n      <td>Qualifying</td>\n      <td>2023-07-22 16:00:00+02:00</td>\n      <td>2023-07-22 14:00:00</td>\n      <td>Race</td>\n      <td>2023-07-23 15:00:00+02:00</td>\n      <td>2023-07-23 13:00:00</td>\n      <td>True</td>\n    </tr>\n    <tr>\n      <th>13</th>\n      <td>13</td>\n      <td>Belgium</td>\n      <td>Spa-Francorchamps</td>\n      <td>FORMULA 1 MSC CRUISES BELGIAN GRAND PRIX 2023</td>\n      <td>2023-07-30</td>\n      <td>Belgian Grand Prix</td>\n      <td>sprint_shootout</td>\n      <td>Practice 1</td>\n      <td>2023-07-28 13:30:00+02:00</td>\n      <td>2023-07-28 11:30:00</td>\n      <td>...</td>\n      <td>Sprint Shootout</td>\n      <td>2023-07-29 12:00:00+02:00</td>\n      <td>2023-07-29 10:00:00</td>\n      <td>Sprint</td>\n      <td>2023-07-29 16:30:00+02:00</td>\n      <td>2023-07-29 14:30:00</td>\n      <td>Race</td>\n      <td>2023-07-30 15:00:00+02:00</td>\n      <td>2023-07-30 13:00:00</td>\n      <td>True</td>\n    </tr>\n    <tr>\n      <th>14</th>\n      <td>14</td>\n      <td>Netherlands</td>\n      <td>Zandvoort</td>\n      <td>FORMULA 1 HEINEKEN DUTCH GRAND PRIX 2023</td>\n      <td>2023-08-27</td>\n      <td>Dutch Grand Prix</td>\n      <td>conventional</td>\n      <td>Practice 1</td>\n      <td>2023-08-25 12:30:00+02:00</td>\n      <td>2023-08-25 10:30:00</td>\n      <td>...</td>\n      <td>Practice 3</td>\n      <td>2023-08-26 11:30:00+02:00</td>\n      <td>2023-08-26 09:30:00</td>\n      <td>Qualifying</td>\n      <td>2023-08-26 15:00:00+02:00</td>\n      <td>2023-08-26 13:00:00</td>\n      <td>Race</td>\n      <td>2023-08-27 15:00:00+02:00</td>\n      <td>2023-08-27 13:00:00</td>\n      <td>True</td>\n    </tr>\n    <tr>\n      <th>15</th>\n      <td>15</td>\n      <td>Italy</td>\n      <td>Monza</td>\n      <td>FORMULA 1 PIRELLI GRAN PREMIO D’ITALIA 2023</td>\n      <td>2023-09-03</td>\n      <td>Italian Grand Prix</td>\n      <td>conventional</td>\n      <td>Practice 1</td>\n      <td>2023-09-01 13:30:00+02:00</td>\n      <td>2023-09-01 11:30:00</td>\n      <td>...</td>\n      <td>Practice 3</td>\n      <td>2023-09-02 12:30:00+02:00</td>\n      <td>2023-09-02 10:30:00</td>\n      <td>Qualifying</td>\n      <td>2023-09-02 16:00:00+02:00</td>\n      <td>2023-09-02 14:00:00</td>\n      <td>Race</td>\n      <td>2023-09-03 15:00:00+02:00</td>\n      <td>2023-09-03 13:00:00</td>\n      <td>True</td>\n    </tr>\n    <tr>\n      <th>16</th>\n      <td>16</td>\n      <td>Singapore</td>\n      <td>Marina Bay</td>\n      <td>FORMULA 1 SINGAPORE AIRLINES SINGAPORE GRAND P...</td>\n      <td>2023-09-17</td>\n      <td>Singapore Grand Prix</td>\n      <td>conventional</td>\n      <td>Practice 1</td>\n      <td>2023-09-15 17:30:00+08:00</td>\n      <td>2023-09-15 09:30:00</td>\n      <td>...</td>\n      <td>Practice 3</td>\n      <td>2023-09-16 17:30:00+08:00</td>\n      <td>2023-09-16 09:30:00</td>\n      <td>Qualifying</td>\n      <td>2023-09-16 21:00:00+08:00</td>\n      <td>2023-09-16 13:00:00</td>\n      <td>Race</td>\n      <td>2023-09-17 20:00:00+08:00</td>\n      <td>2023-09-17 12:00:00</td>\n      <td>True</td>\n    </tr>\n    <tr>\n      <th>17</th>\n      <td>17</td>\n      <td>Japan</td>\n      <td>Suzuka</td>\n      <td>FORMULA 1 LENOVO JAPANESE GRAND PRIX 2023</td>\n      <td>2023-09-24</td>\n      <td>Japanese Grand Prix</td>\n      <td>conventional</td>\n      <td>Practice 1</td>\n      <td>2023-09-22 11:30:00+09:00</td>\n      <td>2023-09-22 02:30:00</td>\n      <td>...</td>\n      <td>Practice 3</td>\n      <td>2023-09-23 11:30:00+09:00</td>\n      <td>2023-09-23 02:30:00</td>\n      <td>Qualifying</td>\n      <td>2023-09-23 15:00:00+09:00</td>\n      <td>2023-09-23 06:00:00</td>\n      <td>Race</td>\n      <td>2023-09-24 14:00:00+09:00</td>\n      <td>2023-09-24 05:00:00</td>\n      <td>True</td>\n    </tr>\n    <tr>\n      <th>18</th>\n      <td>18</td>\n      <td>Qatar</td>\n      <td>Lusail</td>\n      <td>FORMULA 1 QATAR AIRWAYS QATAR GRAND PRIX 2023</td>\n      <td>2023-10-08</td>\n      <td>Qatar Grand Prix</td>\n      <td>sprint_shootout</td>\n      <td>Practice 1</td>\n      <td>2023-10-06 16:30:00+03:00</td>\n      <td>2023-10-06 13:30:00</td>\n      <td>...</td>\n      <td>Sprint Shootout</td>\n      <td>2023-10-07 16:00:00+03:00</td>\n      <td>2023-10-07 13:00:00</td>\n      <td>Sprint</td>\n      <td>2023-10-07 20:30:00+03:00</td>\n      <td>2023-10-07 17:30:00</td>\n      <td>Race</td>\n      <td>2023-10-08 20:00:00+03:00</td>\n      <td>2023-10-08 17:00:00</td>\n      <td>True</td>\n    </tr>\n    <tr>\n      <th>19</th>\n      <td>19</td>\n      <td>United States</td>\n      <td>Austin</td>\n      <td>FORMULA 1 LENOVO UNITED STATES GRAND PRIX 2023</td>\n      <td>2023-10-22</td>\n      <td>United States Grand Prix</td>\n      <td>sprint_shootout</td>\n      <td>Practice 1</td>\n      <td>2023-10-20 12:30:00-05:00</td>\n      <td>2023-10-20 17:30:00</td>\n      <td>...</td>\n      <td>Sprint Shootout</td>\n      <td>2023-10-21 12:30:00-05:00</td>\n      <td>2023-10-21 17:30:00</td>\n      <td>Sprint</td>\n      <td>2023-10-21 17:00:00-05:00</td>\n      <td>2023-10-21 22:00:00</td>\n      <td>Race</td>\n      <td>2023-10-22 14:00:00-05:00</td>\n      <td>2023-10-22 19:00:00</td>\n      <td>True</td>\n    </tr>\n    <tr>\n      <th>20</th>\n      <td>20</td>\n      <td>Mexico</td>\n      <td>Mexico City</td>\n      <td>FORMULA 1 GRAN PREMIO DE LA CIUDAD DE MÉXICO 2023</td>\n      <td>2023-10-29</td>\n      <td>Mexico City Grand Prix</td>\n      <td>conventional</td>\n      <td>Practice 1</td>\n      <td>2023-10-27 12:30:00-06:00</td>\n      <td>2023-10-27 18:30:00</td>\n      <td>...</td>\n      <td>Practice 3</td>\n      <td>2023-10-28 11:30:00-06:00</td>\n      <td>2023-10-28 17:30:00</td>\n      <td>Qualifying</td>\n      <td>2023-10-28 15:00:00-06:00</td>\n      <td>2023-10-28 21:00:00</td>\n      <td>Race</td>\n      <td>2023-10-29 14:00:00-06:00</td>\n      <td>2023-10-29 20:00:00</td>\n      <td>True</td>\n    </tr>\n    <tr>\n      <th>21</th>\n      <td>21</td>\n      <td>Brazil</td>\n      <td>São Paulo</td>\n      <td>FORMULA 1 ROLEX GRANDE PRÊMIO DE SÃO PAULO 2023</td>\n      <td>2023-11-05</td>\n      <td>São Paulo Grand Prix</td>\n      <td>sprint_shootout</td>\n      <td>Practice 1</td>\n      <td>2023-11-03 11:30:00-03:00</td>\n      <td>2023-11-03 14:30:00</td>\n      <td>...</td>\n      <td>Sprint Shootout</td>\n      <td>2023-11-04 11:00:00-03:00</td>\n      <td>2023-11-04 14:00:00</td>\n      <td>Sprint</td>\n      <td>2023-11-04 15:30:00-03:00</td>\n      <td>2023-11-04 18:30:00</td>\n      <td>Race</td>\n      <td>2023-11-05 14:00:00-03:00</td>\n      <td>2023-11-05 17:00:00</td>\n      <td>True</td>\n    </tr>\n    <tr>\n      <th>22</th>\n      <td>22</td>\n      <td>United States</td>\n      <td>Las Vegas</td>\n      <td>FORMULA 1 HEINEKEN SILVER LAS VEGAS GRAND PRIX...</td>\n      <td>2023-11-18</td>\n      <td>Las Vegas Grand Prix</td>\n      <td>conventional</td>\n      <td>Practice 1</td>\n      <td>2023-11-16 20:30:00-08:00</td>\n      <td>2023-11-17 04:30:00</td>\n      <td>...</td>\n      <td>Practice 3</td>\n      <td>2023-11-17 20:30:00-08:00</td>\n      <td>2023-11-18 04:30:00</td>\n      <td>Qualifying</td>\n      <td>2023-11-18 00:00:00-08:00</td>\n      <td>2023-11-18 08:00:00</td>\n      <td>Race</td>\n      <td>2023-11-18 22:00:00-08:00</td>\n      <td>2023-11-19 06:00:00</td>\n      <td>True</td>\n    </tr>\n    <tr>\n      <th>23</th>\n      <td>23</td>\n      <td>Abu Dhabi</td>\n      <td>Yas Island</td>\n      <td>FORMULA 1 ETIHAD AIRWAYS ABU DHABI GRAND PRIX ...</td>\n      <td>2023-11-26</td>\n      <td>Abu Dhabi Grand Prix</td>\n      <td>conventional</td>\n      <td>Practice 1</td>\n      <td>2023-11-24 13:30:00+04:00</td>\n      <td>2023-11-24 09:30:00</td>\n      <td>...</td>\n      <td>Practice 3</td>\n      <td>2023-11-25 14:30:00+04:00</td>\n      <td>2023-11-25 10:30:00</td>\n      <td>Qualifying</td>\n      <td>2023-11-25 18:00:00+04:00</td>\n      <td>2023-11-25 14:00:00</td>\n      <td>Race</td>\n      <td>2023-11-26 17:00:00+04:00</td>\n      <td>2023-11-26 13:00:00</td>\n      <td>True</td>\n    </tr>\n  </tbody>\n</table>\n<p>24 rows × 23 columns</p>\n</div>"
     },
     "execution_count": 41,
     "metadata": {},
     "output_type": "execute_result"
    }
   ],
   "source": [
    "schedule2023"
   ],
   "metadata": {
    "collapsed": false,
    "ExecuteTime": {
     "end_time": "2023-05-30T17:07:40.952959Z",
     "start_time": "2023-05-30T17:07:40.948426Z"
    }
   }
  },
  {
   "cell_type": "code",
   "execution_count": 13,
   "outputs": [
    {
     "data": {
      "text/plain": "   RoundNumber        Country   Location  \\\n0            0        Bahrain     Sakhir   \n1            1        Bahrain     Sakhir   \n2            2   Saudi Arabia     Jeddah   \n3            3      Australia  Melbourne   \n4            4     Azerbaijan       Baku   \n5            5  United States      Miami   \n6            6          Italy      Imola   \n7            7         Monaco     Monaco   \n\n                                   OfficialEventName  EventDate  \\\n0           FORMULA 1 ARAMCO PRE-SEASON TESTING 2023 2023-02-25   \n1         FORMULA 1 GULF AIR BAHRAIN GRAND PRIX 2023 2023-03-05   \n2        FORMULA 1 STC SAUDI ARABIAN GRAND PRIX 2023 2023-03-19   \n3         FORMULA 1 ROLEX AUSTRALIAN GRAND PRIX 2023 2023-04-02   \n4               FORMULA 1 AZERBAIJAN GRAND PRIX 2023 2023-04-30   \n5         FORMULA 1 CRYPTO.COM MIAMI GRAND PRIX 2023 2023-05-07   \n6  FORMULA 1 QATAR AIRWAYS GRAN PREMIO DEL MADE I... 2023-05-21   \n7                FORMULA 1 GRAND PRIX DE MONACO 2023 2023-05-28   \n\n                   EventName      EventFormat    Session1  \\\n0         Pre-Season Testing          testing  Practice 1   \n1         Bahrain Grand Prix     conventional  Practice 1   \n2   Saudi Arabian Grand Prix     conventional  Practice 1   \n3      Australian Grand Prix     conventional  Practice 1   \n4      Azerbaijan Grand Prix  sprint_shootout  Practice 1   \n5           Miami Grand Prix     conventional  Practice 1   \n6  Emilia Romagna Grand Prix     conventional  Practice 1   \n7          Monaco Grand Prix     conventional  Practice 1   \n\n                Session1Date     Session1DateUtc  ...         Session3  \\\n0  2023-02-23 10:00:00+03:00 2023-02-23 07:00:00  ...       Practice 3   \n1  2023-03-03 14:30:00+03:00 2023-03-03 11:30:00  ...       Practice 3   \n2  2023-03-17 16:30:00+03:00 2023-03-17 13:30:00  ...       Practice 3   \n3  2023-03-31 12:30:00+10:00 2023-03-31 02:30:00  ...       Practice 3   \n4  2023-04-28 13:30:00+04:00 2023-04-28 09:30:00  ...  Sprint Shootout   \n5  2023-05-05 14:00:00-04:00 2023-05-05 18:00:00  ...       Practice 3   \n6  2023-05-19 13:30:00+02:00 2023-05-19 11:30:00  ...       Practice 3   \n7  2023-05-26 13:30:00+02:00 2023-05-26 11:30:00  ...       Practice 3   \n\n                Session3Date     Session3DateUtc    Session4  \\\n0  2023-02-25 10:00:00+03:00 2023-02-25 07:00:00        None   \n1  2023-03-04 14:30:00+03:00 2023-03-04 11:30:00  Qualifying   \n2  2023-03-18 16:30:00+03:00 2023-03-18 13:30:00  Qualifying   \n3  2023-04-01 12:30:00+10:00 2023-04-01 02:30:00  Qualifying   \n4  2023-04-29 12:30:00+04:00 2023-04-29 08:30:00      Sprint   \n5  2023-05-06 12:30:00-04:00 2023-05-06 16:30:00  Qualifying   \n6  2023-05-20 12:30:00+02:00 2023-05-20 10:30:00  Qualifying   \n7  2023-05-27 12:30:00+02:00 2023-05-27 10:30:00  Qualifying   \n\n                Session4Date     Session4DateUtc Session5  \\\n0                        NaT                 NaT     None   \n1  2023-03-04 18:00:00+03:00 2023-03-04 15:00:00     Race   \n2  2023-03-18 20:00:00+03:00 2023-03-18 17:00:00     Race   \n3  2023-04-01 16:00:00+10:00 2023-04-01 06:00:00     Race   \n4  2023-04-29 17:30:00+04:00 2023-04-29 13:30:00     Race   \n5  2023-05-06 16:00:00-04:00 2023-05-06 20:00:00     Race   \n6  2023-05-20 16:00:00+02:00 2023-05-20 14:00:00     Race   \n7  2023-05-27 16:00:00+02:00 2023-05-27 14:00:00     Race   \n\n                Session5Date     Session5DateUtc F1ApiSupport  \n0                        NaT                 NaT         True  \n1  2023-03-05 18:00:00+03:00 2023-03-05 15:00:00         True  \n2  2023-03-19 20:00:00+03:00 2023-03-19 17:00:00         True  \n3  2023-04-02 15:00:00+10:00 2023-04-02 05:00:00         True  \n4  2023-04-30 15:00:00+04:00 2023-04-30 11:00:00         True  \n5  2023-05-07 15:30:00-04:00 2023-05-07 19:30:00         True  \n6  2023-05-21 15:00:00+02:00 2023-05-21 13:00:00         True  \n7  2023-05-28 15:00:00+02:00 2023-05-28 13:00:00         True  \n\n[8 rows x 23 columns]",
      "text/html": "<div>\n<style scoped>\n    .dataframe tbody tr th:only-of-type {\n        vertical-align: middle;\n    }\n\n    .dataframe tbody tr th {\n        vertical-align: top;\n    }\n\n    .dataframe thead th {\n        text-align: right;\n    }\n</style>\n<table border=\"1\" class=\"dataframe\">\n  <thead>\n    <tr style=\"text-align: right;\">\n      <th></th>\n      <th>RoundNumber</th>\n      <th>Country</th>\n      <th>Location</th>\n      <th>OfficialEventName</th>\n      <th>EventDate</th>\n      <th>EventName</th>\n      <th>EventFormat</th>\n      <th>Session1</th>\n      <th>Session1Date</th>\n      <th>Session1DateUtc</th>\n      <th>...</th>\n      <th>Session3</th>\n      <th>Session3Date</th>\n      <th>Session3DateUtc</th>\n      <th>Session4</th>\n      <th>Session4Date</th>\n      <th>Session4DateUtc</th>\n      <th>Session5</th>\n      <th>Session5Date</th>\n      <th>Session5DateUtc</th>\n      <th>F1ApiSupport</th>\n    </tr>\n  </thead>\n  <tbody>\n    <tr>\n      <th>0</th>\n      <td>0</td>\n      <td>Bahrain</td>\n      <td>Sakhir</td>\n      <td>FORMULA 1 ARAMCO PRE-SEASON TESTING 2023</td>\n      <td>2023-02-25</td>\n      <td>Pre-Season Testing</td>\n      <td>testing</td>\n      <td>Practice 1</td>\n      <td>2023-02-23 10:00:00+03:00</td>\n      <td>2023-02-23 07:00:00</td>\n      <td>...</td>\n      <td>Practice 3</td>\n      <td>2023-02-25 10:00:00+03:00</td>\n      <td>2023-02-25 07:00:00</td>\n      <td>None</td>\n      <td>NaT</td>\n      <td>NaT</td>\n      <td>None</td>\n      <td>NaT</td>\n      <td>NaT</td>\n      <td>True</td>\n    </tr>\n    <tr>\n      <th>1</th>\n      <td>1</td>\n      <td>Bahrain</td>\n      <td>Sakhir</td>\n      <td>FORMULA 1 GULF AIR BAHRAIN GRAND PRIX 2023</td>\n      <td>2023-03-05</td>\n      <td>Bahrain Grand Prix</td>\n      <td>conventional</td>\n      <td>Practice 1</td>\n      <td>2023-03-03 14:30:00+03:00</td>\n      <td>2023-03-03 11:30:00</td>\n      <td>...</td>\n      <td>Practice 3</td>\n      <td>2023-03-04 14:30:00+03:00</td>\n      <td>2023-03-04 11:30:00</td>\n      <td>Qualifying</td>\n      <td>2023-03-04 18:00:00+03:00</td>\n      <td>2023-03-04 15:00:00</td>\n      <td>Race</td>\n      <td>2023-03-05 18:00:00+03:00</td>\n      <td>2023-03-05 15:00:00</td>\n      <td>True</td>\n    </tr>\n    <tr>\n      <th>2</th>\n      <td>2</td>\n      <td>Saudi Arabia</td>\n      <td>Jeddah</td>\n      <td>FORMULA 1 STC SAUDI ARABIAN GRAND PRIX 2023</td>\n      <td>2023-03-19</td>\n      <td>Saudi Arabian Grand Prix</td>\n      <td>conventional</td>\n      <td>Practice 1</td>\n      <td>2023-03-17 16:30:00+03:00</td>\n      <td>2023-03-17 13:30:00</td>\n      <td>...</td>\n      <td>Practice 3</td>\n      <td>2023-03-18 16:30:00+03:00</td>\n      <td>2023-03-18 13:30:00</td>\n      <td>Qualifying</td>\n      <td>2023-03-18 20:00:00+03:00</td>\n      <td>2023-03-18 17:00:00</td>\n      <td>Race</td>\n      <td>2023-03-19 20:00:00+03:00</td>\n      <td>2023-03-19 17:00:00</td>\n      <td>True</td>\n    </tr>\n    <tr>\n      <th>3</th>\n      <td>3</td>\n      <td>Australia</td>\n      <td>Melbourne</td>\n      <td>FORMULA 1 ROLEX AUSTRALIAN GRAND PRIX 2023</td>\n      <td>2023-04-02</td>\n      <td>Australian Grand Prix</td>\n      <td>conventional</td>\n      <td>Practice 1</td>\n      <td>2023-03-31 12:30:00+10:00</td>\n      <td>2023-03-31 02:30:00</td>\n      <td>...</td>\n      <td>Practice 3</td>\n      <td>2023-04-01 12:30:00+10:00</td>\n      <td>2023-04-01 02:30:00</td>\n      <td>Qualifying</td>\n      <td>2023-04-01 16:00:00+10:00</td>\n      <td>2023-04-01 06:00:00</td>\n      <td>Race</td>\n      <td>2023-04-02 15:00:00+10:00</td>\n      <td>2023-04-02 05:00:00</td>\n      <td>True</td>\n    </tr>\n    <tr>\n      <th>4</th>\n      <td>4</td>\n      <td>Azerbaijan</td>\n      <td>Baku</td>\n      <td>FORMULA 1 AZERBAIJAN GRAND PRIX 2023</td>\n      <td>2023-04-30</td>\n      <td>Azerbaijan Grand Prix</td>\n      <td>sprint_shootout</td>\n      <td>Practice 1</td>\n      <td>2023-04-28 13:30:00+04:00</td>\n      <td>2023-04-28 09:30:00</td>\n      <td>...</td>\n      <td>Sprint Shootout</td>\n      <td>2023-04-29 12:30:00+04:00</td>\n      <td>2023-04-29 08:30:00</td>\n      <td>Sprint</td>\n      <td>2023-04-29 17:30:00+04:00</td>\n      <td>2023-04-29 13:30:00</td>\n      <td>Race</td>\n      <td>2023-04-30 15:00:00+04:00</td>\n      <td>2023-04-30 11:00:00</td>\n      <td>True</td>\n    </tr>\n    <tr>\n      <th>5</th>\n      <td>5</td>\n      <td>United States</td>\n      <td>Miami</td>\n      <td>FORMULA 1 CRYPTO.COM MIAMI GRAND PRIX 2023</td>\n      <td>2023-05-07</td>\n      <td>Miami Grand Prix</td>\n      <td>conventional</td>\n      <td>Practice 1</td>\n      <td>2023-05-05 14:00:00-04:00</td>\n      <td>2023-05-05 18:00:00</td>\n      <td>...</td>\n      <td>Practice 3</td>\n      <td>2023-05-06 12:30:00-04:00</td>\n      <td>2023-05-06 16:30:00</td>\n      <td>Qualifying</td>\n      <td>2023-05-06 16:00:00-04:00</td>\n      <td>2023-05-06 20:00:00</td>\n      <td>Race</td>\n      <td>2023-05-07 15:30:00-04:00</td>\n      <td>2023-05-07 19:30:00</td>\n      <td>True</td>\n    </tr>\n    <tr>\n      <th>6</th>\n      <td>6</td>\n      <td>Italy</td>\n      <td>Imola</td>\n      <td>FORMULA 1 QATAR AIRWAYS GRAN PREMIO DEL MADE I...</td>\n      <td>2023-05-21</td>\n      <td>Emilia Romagna Grand Prix</td>\n      <td>conventional</td>\n      <td>Practice 1</td>\n      <td>2023-05-19 13:30:00+02:00</td>\n      <td>2023-05-19 11:30:00</td>\n      <td>...</td>\n      <td>Practice 3</td>\n      <td>2023-05-20 12:30:00+02:00</td>\n      <td>2023-05-20 10:30:00</td>\n      <td>Qualifying</td>\n      <td>2023-05-20 16:00:00+02:00</td>\n      <td>2023-05-20 14:00:00</td>\n      <td>Race</td>\n      <td>2023-05-21 15:00:00+02:00</td>\n      <td>2023-05-21 13:00:00</td>\n      <td>True</td>\n    </tr>\n    <tr>\n      <th>7</th>\n      <td>7</td>\n      <td>Monaco</td>\n      <td>Monaco</td>\n      <td>FORMULA 1 GRAND PRIX DE MONACO 2023</td>\n      <td>2023-05-28</td>\n      <td>Monaco Grand Prix</td>\n      <td>conventional</td>\n      <td>Practice 1</td>\n      <td>2023-05-26 13:30:00+02:00</td>\n      <td>2023-05-26 11:30:00</td>\n      <td>...</td>\n      <td>Practice 3</td>\n      <td>2023-05-27 12:30:00+02:00</td>\n      <td>2023-05-27 10:30:00</td>\n      <td>Qualifying</td>\n      <td>2023-05-27 16:00:00+02:00</td>\n      <td>2023-05-27 14:00:00</td>\n      <td>Race</td>\n      <td>2023-05-28 15:00:00+02:00</td>\n      <td>2023-05-28 13:00:00</td>\n      <td>True</td>\n    </tr>\n  </tbody>\n</table>\n<p>8 rows × 23 columns</p>\n</div>"
     },
     "execution_count": 13,
     "metadata": {},
     "output_type": "execute_result"
    }
   ],
   "source": [
    "schedule2023 = schedule2023[schedule2023['EventDate'].dt.date < pd.to_datetime('today').date()]"
   ],
   "metadata": {
    "collapsed": false,
    "ExecuteTime": {
     "end_time": "2023-05-30T15:39:26.473047Z",
     "start_time": "2023-05-30T15:39:26.468233Z"
    }
   }
  },
  {
   "cell_type": "code",
   "execution_count": 35,
   "outputs": [
    {
     "name": "stderr",
     "output_type": "stream",
     "text": [
      "core           INFO \tLoading data for Bahrain Grand Prix - Qualifying [v3.0.3]\n",
      "req            INFO \tUsing cached data for driver_info\n",
      "logger      WARNING \tFailed to load result data from Ergast!\n",
      "core        WARNING \tNo result data for this session available on Ergast! (This is expected for recent sessions)\n",
      "req            INFO \tUsing cached data for session_status_data\n",
      "req            INFO \tUsing cached data for track_status_data\n",
      "req            INFO \tUsing cached data for timing_data\n",
      "req            INFO \tUsing cached data for timing_app_data\n",
      "core           INFO \tProcessing timing data...\n",
      "req            INFO \tUsing cached data for car_data\n",
      "req            INFO \tUsing cached data for position_data\n",
      "req            INFO \tUsing cached data for weather_data\n",
      "req            INFO \tUsing cached data for race_control_messages\n",
      "core           INFO \tFinished loading data for 20 drivers: ['14', '1', '11', '44', '16', '63', '18', '55', '81', '10', '31', '24', '4', '20', '27', '22', '77', '2', '23', '21']\n",
      "core           INFO \tLoading data for Bahrain Grand Prix - Qualifying [v3.0.3]\n",
      "req            INFO \tUsing cached data for driver_info\n"
     ]
    },
    {
     "name": "stdout",
     "output_type": "stream",
     "text": [
      "                Team              TimeDelta\n",
      "28   Red Bull Racing        0 days 00:00:00\n",
      "75           Ferrari 0 days 00:00:00.292000\n",
      "13      Aston Martin 0 days 00:00:00.628000\n",
      "90          Mercedes 0 days 00:00:00.632000\n",
      "199     Haas F1 Team 0 days 00:00:01.101000\n",
      "151           Alpine 0 days 00:00:01.206000\n",
      "179          McLaren 0 days 00:00:01.673000\n",
      "211       AlphaTauri 0 days 00:00:01.692000\n",
      "229       Alfa Romeo 0 days 00:00:01.735000\n",
      "241         Williams 0 days 00:00:01.753000\n"
     ]
    },
    {
     "name": "stderr",
     "output_type": "stream",
     "text": [
      "logger      WARNING \tFailed to load result data from Ergast!\n",
      "core        WARNING \tNo result data for this session available on Ergast! (This is expected for recent sessions)\n",
      "req            INFO \tUsing cached data for session_status_data\n",
      "req            INFO \tUsing cached data for track_status_data\n",
      "req            INFO \tUsing cached data for timing_data\n",
      "req            INFO \tUsing cached data for timing_app_data\n",
      "core           INFO \tProcessing timing data...\n",
      "req            INFO \tUsing cached data for car_data\n",
      "req            INFO \tUsing cached data for position_data\n",
      "req            INFO \tUsing cached data for weather_data\n",
      "req            INFO \tUsing cached data for race_control_messages\n",
      "core           INFO \tFinished loading data for 20 drivers: ['14', '1', '11', '44', '16', '63', '18', '55', '81', '10', '31', '24', '4', '20', '27', '22', '77', '2', '23', '21']\n",
      "core           INFO \tLoading data for Saudi Arabian Grand Prix - Qualifying [v3.0.3]\n",
      "req            INFO \tUsing cached data for driver_info\n"
     ]
    },
    {
     "name": "stdout",
     "output_type": "stream",
     "text": [
      "                Team              TimeDelta\n",
      "28   Red Bull Racing        0 days 00:00:00\n",
      "75           Ferrari 0 days 00:00:00.292000\n",
      "13      Aston Martin 0 days 00:00:00.628000\n",
      "90          Mercedes 0 days 00:00:00.632000\n",
      "199     Haas F1 Team 0 days 00:00:01.101000\n",
      "151           Alpine 0 days 00:00:01.206000\n",
      "179          McLaren 0 days 00:00:01.673000\n",
      "211       AlphaTauri 0 days 00:00:01.692000\n",
      "229       Alfa Romeo 0 days 00:00:01.735000\n",
      "241         Williams 0 days 00:00:01.753000\n"
     ]
    },
    {
     "name": "stderr",
     "output_type": "stream",
     "text": [
      "logger      WARNING \tFailed to load result data from Ergast!\n",
      "core        WARNING \tNo result data for this session available on Ergast! (This is expected for recent sessions)\n",
      "req            INFO \tUsing cached data for session_status_data\n",
      "req            INFO \tUsing cached data for track_status_data\n",
      "req            INFO \tUsing cached data for timing_data\n",
      "req            INFO \tUsing cached data for timing_app_data\n",
      "core           INFO \tProcessing timing data...\n",
      "req            INFO \tUsing cached data for car_data\n",
      "req            INFO \tUsing cached data for position_data\n",
      "req            INFO \tUsing cached data for weather_data\n",
      "req            INFO \tUsing cached data for race_control_messages\n",
      "core           INFO \tFinished loading data for 20 drivers: ['1', '11', '14', '18', '44', '16', '4', '81', '10', '55', '63', '24', '27', '31', '23', '2', '20', '77', '22', '21']\n",
      "core           INFO \tLoading data for Australian Grand Prix - Qualifying [v3.0.3]\n",
      "req            INFO \tUsing cached data for driver_info\n"
     ]
    },
    {
     "name": "stdout",
     "output_type": "stream",
     "text": [
      "                Team              TimeDelta\n",
      "20   Red Bull Racing        0 days 00:00:00\n",
      "100          Ferrari 0 days 00:00:00.155000\n",
      "40      Aston Martin 0 days 00:00:00.465000\n",
      "195         Mercedes 0 days 00:00:00.592000\n",
      "255           Alpine 0 days 00:00:00.813000\n",
      "127          McLaren 0 days 00:00:00.978000\n",
      "231     Haas F1 Team 0 days 00:00:01.186000\n",
      "213       Alfa Romeo 0 days 00:00:01.196000\n",
      "267         Williams 0 days 00:00:01.456000\n",
      "317       AlphaTauri 0 days 00:00:01.674000\n"
     ]
    },
    {
     "name": "stderr",
     "output_type": "stream",
     "text": [
      "logger      WARNING \tFailed to load result data from Ergast!\n",
      "core        WARNING \tNo result data for this session available on Ergast! (This is expected for recent sessions)\n",
      "req            INFO \tUsing cached data for session_status_data\n",
      "req            INFO \tUsing cached data for track_status_data\n",
      "req            INFO \tUsing cached data for timing_data\n",
      "req            INFO \tUsing cached data for timing_app_data\n",
      "core           INFO \tProcessing timing data...\n",
      "req            INFO \tUsing cached data for car_data\n",
      "req            INFO \tUsing cached data for position_data\n",
      "req            INFO \tUsing cached data for weather_data\n",
      "req            INFO \tUsing cached data for race_control_messages\n",
      "core           INFO \tFinished loading data for 20 drivers: ['1', '14', '31', '63', '10', '11', '55', '44', '18', '24', '27', '23', '16', '81', '77', '22', '2', '20', '21', '4']\n",
      "core           INFO \tLoading data for Azerbaijan Grand Prix - Qualifying [v3.0.3]\n",
      "req            INFO \tUsing cached data for driver_info\n"
     ]
    },
    {
     "name": "stdout",
     "output_type": "stream",
     "text": [
      "                Team              TimeDelta\n",
      "22   Red Bull Racing        0 days 00:00:00\n",
      "95          Mercedes 0 days 00:00:00.236000\n",
      "48      Aston Martin 0 days 00:00:00.407000\n",
      "150          Ferrari 0 days 00:00:00.538000\n",
      "235     Haas F1 Team 0 days 00:00:00.680000\n",
      "112           Alpine 0 days 00:00:00.842000\n",
      "269         Williams 0 days 00:00:00.877000\n",
      "340       AlphaTauri 0 days 00:00:01.367000\n",
      "417          McLaren 0 days 00:00:01.387000\n",
      "214       Alfa Romeo 0 days 00:00:01.808000\n"
     ]
    },
    {
     "name": "stderr",
     "output_type": "stream",
     "text": [
      "logger      WARNING \tFailed to load result data from Ergast!\n",
      "core        WARNING \tNo result data for this session available on Ergast! (This is expected for recent sessions)\n",
      "req            INFO \tUsing cached data for session_status_data\n",
      "req            INFO \tUsing cached data for track_status_data\n",
      "req            INFO \tUsing cached data for timing_data\n",
      "req            INFO \tUsing cached data for timing_app_data\n",
      "core           INFO \tProcessing timing data...\n",
      "req            INFO \tUsing cached data for car_data\n",
      "req            INFO \tUsing cached data for position_data\n",
      "req            INFO \tUsing cached data for weather_data\n",
      "req            INFO \tUsing cached data for race_control_messages\n",
      "core           INFO \tFinished loading data for 20 drivers: ['1', '16', '11', '55', '4', '21', '18', '14', '23', '24', '44', '81', '77', '22', '27', '2', '63', '31', '10', '20']\n",
      "core           INFO \tLoading data for Miami Grand Prix - Qualifying [v3.0.3]\n",
      "req            INFO \tUsing cached data for driver_info\n"
     ]
    },
    {
     "name": "stdout",
     "output_type": "stream",
     "text": [
      "                Team              TimeDelta\n",
      "39           Ferrari        0 days 00:00:00\n",
      "18   Red Bull Racing 0 days 00:00:00.188000\n",
      "204         Mercedes 0 days 00:00:00.974000\n",
      "153     Aston Martin 0 days 00:00:01.050000\n",
      "104          McLaren 0 days 00:00:01.078000\n",
      "267       AlphaTauri 0 days 00:00:01.366000\n",
      "339           Alpine 0 days 00:00:01.595000\n",
      "172         Williams 0 days 00:00:01.615000\n",
      "248       Alfa Romeo 0 days 00:00:02.056000\n",
      "283     Haas F1 Team 0 days 00:00:02.552000\n"
     ]
    },
    {
     "name": "stderr",
     "output_type": "stream",
     "text": [
      "logger      WARNING \tFailed to load result data from Ergast!\n",
      "core        WARNING \tNo result data for this session available on Ergast! (This is expected for recent sessions)\n",
      "req            INFO \tUsing cached data for session_status_data\n",
      "req            INFO \tUsing cached data for track_status_data\n",
      "req            INFO \tUsing cached data for timing_data\n",
      "req            INFO \tUsing cached data for timing_app_data\n",
      "core           INFO \tProcessing timing data...\n",
      "req            INFO \tUsing cached data for car_data\n",
      "req            INFO \tUsing cached data for position_data\n",
      "req            INFO \tUsing cached data for weather_data\n",
      "req            INFO \tUsing cached data for race_control_messages\n",
      "core           INFO \tFinished loading data for 20 drivers: ['1', '16', '11', '55', '31', '10', '77', '27', '23', '63', '20', '14', '44', '18', '24', '22', '2', '81', '4', '21']\n",
      "core           INFO \tLoading data for Emilia Romagna Grand Prix - Qualifying [v3.0.3]\n",
      "req            INFO \tNo cached data found for driver_info. Loading data...\n",
      "_api           INFO \tFetching driver list...\n"
     ]
    },
    {
     "name": "stdout",
     "output_type": "stream",
     "text": [
      "                Team              TimeDelta\n",
      "10   Red Bull Racing        0 days 00:00:00\n",
      "27           Ferrari 0 days 00:00:00.150000\n",
      "205     Aston Martin 0 days 00:00:00.283000\n",
      "84            Alpine 0 days 00:00:00.630000\n",
      "120       Alfa Romeo 0 days 00:00:00.750000\n",
      "187     Haas F1 Team 0 days 00:00:00.859000\n",
      "167         Mercedes 0 days 00:00:00.929000\n",
      "149         Williams 0 days 00:00:00.981000\n",
      "294       AlphaTauri 0 days 00:00:01.511000\n",
      "286          McLaren 0 days 00:00:01.580000\n"
     ]
    },
    {
     "name": "stderr",
     "output_type": "stream",
     "text": [
      "core        WARNING \tFailed to load extended driver information!\n",
      "logger      WARNING \tFailed to load result data from Ergast!\n",
      "core        WARNING \tNo result data for this session available on Ergast! (This is expected for recent sessions)\n",
      "logger      WARNING \tFailed to load results data!\n",
      "req            INFO \tNo cached data found for session_status_data. Loading data...\n",
      "_api           INFO \tFetching session status data...\n",
      "logger      WARNING \tFailed to load session status data!\n",
      "req            INFO \tNo cached data found for track_status_data. Loading data...\n",
      "_api           INFO \tFetching track status data...\n",
      "logger      WARNING \tFailed to load track status data!\n",
      "req            INFO \tNo cached data found for timing_data. Loading data...\n",
      "_api           INFO \tFetching timing data...\n",
      "logger      WARNING \tFailed to load timing data!\n",
      "req            INFO \tNo cached data found for car_data. Loading data...\n",
      "_api           INFO \tFetching car data...\n",
      "logger      WARNING \tFailed to load telemetry data!\n",
      "req            INFO \tNo cached data found for weather_data. Loading data...\n",
      "_api           INFO \tFetching weather data...\n",
      "logger      WARNING \tFailed to load weather data!\n",
      "req            INFO \tNo cached data found for race_control_messages. Loading data...\n",
      "_api           INFO \tFetching race control messages...\n",
      "logger      WARNING \tFailed to load race control messages!\n",
      "core           INFO \tLoading data for Monaco Grand Prix - Qualifying [v3.0.3]\n",
      "req            INFO \tUsing cached data for driver_info\n"
     ]
    },
    {
     "name": "stdout",
     "output_type": "stream",
     "text": [
      "No data for Imola\n"
     ]
    },
    {
     "name": "stderr",
     "output_type": "stream",
     "text": [
      "logger      WARNING \tFailed to load result data from Ergast!\n",
      "core        WARNING \tNo result data for this session available on Ergast! (This is expected for recent sessions)\n",
      "req            INFO \tUsing cached data for session_status_data\n",
      "req            INFO \tUsing cached data for track_status_data\n",
      "req            INFO \tUsing cached data for timing_data\n",
      "req            INFO \tUsing cached data for timing_app_data\n",
      "core           INFO \tProcessing timing data...\n",
      "req            INFO \tUsing cached data for car_data\n",
      "req            INFO \tUsing cached data for position_data\n",
      "req            INFO \tUsing cached data for weather_data\n",
      "req            INFO \tUsing cached data for race_control_messages\n",
      "core           INFO \tFinished loading data for 20 drivers: ['1', '11', '18', '55', '4', '10', '16', '44', '31', '77', '63', '20', '27', '14', '22', '24', '2', '23', '81', '21']\n"
     ]
    },
    {
     "name": "stdout",
     "output_type": "stream",
     "text": [
      "                Team              TimeDelta\n",
      "28   Red Bull Racing        0 days 00:00:00\n",
      "302     Aston Martin 0 days 00:00:00.084000\n",
      "153          Ferrari 0 days 00:00:00.106000\n",
      "209           Alpine 0 days 00:00:00.188000\n",
      "183         Mercedes 0 days 00:00:00.360000\n",
      "331       AlphaTauri 0 days 00:00:00.717000\n",
      "101          McLaren 0 days 00:00:00.889000\n",
      "376         Williams 0 days 00:00:01.162000\n",
      "231       Alfa Romeo 0 days 00:00:01.260000\n",
      "267     Haas F1 Team 0 days 00:00:01.905000\n"
     ]
    }
   ],
   "source": [
    "# initialize an empty list to store DataFrames\n",
    "dfs = []\n",
    "\n",
    "for index, row in schedule2023.iterrows():\n",
    "    event = row['Location']\n",
    "    session = fastf1.get_session(year, event, 'Q')\n",
    "\n",
    "    try:\n",
    "        session.load()\n",
    "    except:\n",
    "        print('No data for ' + event)\n",
    "        continue\n",
    "\n",
    "    # Create a DataFrame with the lap times sorted\n",
    "    df = session.laps.sort_values(by='LapTime').drop_duplicates(subset='Team', keep='first')\n",
    "\n",
    "    # Determine the fastest lap time\n",
    "    fastest_lap = df['LapTime'].min()\n",
    "\n",
    "    # Calculate the time delta compared to the fastest lap\n",
    "    df['TimeDelta'] = df['LapTime'] - fastest_lap\n",
    "\n",
    "    # Only keep necessary columns\n",
    "    df = df[['Team', 'TimeDelta']]\n",
    "    print(df)\n",
    "\n",
    "    # add DataFrame to the list\n",
    "    dfs.append(df)\n",
    "\n",
    "# concatenate all DataFrames\n",
    "total_df = pd.concat(dfs)\n",
    "\n",
    "# Group by team and sum time deltas\n",
    "total_df = total_df.groupby('Team').sum().reset_index()\n"
   ],
   "metadata": {
    "collapsed": false,
    "ExecuteTime": {
     "end_time": "2023-05-30T16:39:35.174066Z",
     "start_time": "2023-05-30T16:38:35.736631Z"
    }
   }
  },
  {
   "cell_type": "code",
   "execution_count": 36,
   "outputs": [
    {
     "data": {
      "text/plain": "              Team              TimeDelta\n8  Red Bull Racing 0 days 00:00:00.188000\n4          Ferrari 0 days 00:00:01.533000\n3     Aston Martin 0 days 00:00:03.545000\n7         Mercedes 0 days 00:00:04.355000\n2           Alpine 0 days 00:00:06.480000\n6          McLaren 0 days 00:00:09.258000\n5     Haas F1 Team 0 days 00:00:09.384000\n9         Williams 0 days 00:00:09.597000\n1       AlphaTauri 0 days 00:00:10.019000\n0       Alfa Romeo 0 days 00:00:10.540000",
      "text/html": "<div>\n<style scoped>\n    .dataframe tbody tr th:only-of-type {\n        vertical-align: middle;\n    }\n\n    .dataframe tbody tr th {\n        vertical-align: top;\n    }\n\n    .dataframe thead th {\n        text-align: right;\n    }\n</style>\n<table border=\"1\" class=\"dataframe\">\n  <thead>\n    <tr style=\"text-align: right;\">\n      <th></th>\n      <th>Team</th>\n      <th>TimeDelta</th>\n    </tr>\n  </thead>\n  <tbody>\n    <tr>\n      <th>8</th>\n      <td>Red Bull Racing</td>\n      <td>0 days 00:00:00.188000</td>\n    </tr>\n    <tr>\n      <th>4</th>\n      <td>Ferrari</td>\n      <td>0 days 00:00:01.533000</td>\n    </tr>\n    <tr>\n      <th>3</th>\n      <td>Aston Martin</td>\n      <td>0 days 00:00:03.545000</td>\n    </tr>\n    <tr>\n      <th>7</th>\n      <td>Mercedes</td>\n      <td>0 days 00:00:04.355000</td>\n    </tr>\n    <tr>\n      <th>2</th>\n      <td>Alpine</td>\n      <td>0 days 00:00:06.480000</td>\n    </tr>\n    <tr>\n      <th>6</th>\n      <td>McLaren</td>\n      <td>0 days 00:00:09.258000</td>\n    </tr>\n    <tr>\n      <th>5</th>\n      <td>Haas F1 Team</td>\n      <td>0 days 00:00:09.384000</td>\n    </tr>\n    <tr>\n      <th>9</th>\n      <td>Williams</td>\n      <td>0 days 00:00:09.597000</td>\n    </tr>\n    <tr>\n      <th>1</th>\n      <td>AlphaTauri</td>\n      <td>0 days 00:00:10.019000</td>\n    </tr>\n    <tr>\n      <th>0</th>\n      <td>Alfa Romeo</td>\n      <td>0 days 00:00:10.540000</td>\n    </tr>\n  </tbody>\n</table>\n</div>"
     },
     "execution_count": 36,
     "metadata": {},
     "output_type": "execute_result"
    }
   ],
   "source": [
    "total_df = total_df.sort_values(by='TimeDelta')\n",
    "total_df"
   ],
   "metadata": {
    "collapsed": false,
    "ExecuteTime": {
     "end_time": "2023-05-30T16:43:08.845800Z",
     "start_time": "2023-05-30T16:43:08.841792Z"
    }
   }
  },
  {
   "cell_type": "code",
   "execution_count": 37,
   "outputs": [
    {
     "name": "stderr",
     "output_type": "stream",
     "text": [
      "core           INFO \tLoading data for Bahrain Grand Prix - Race [v3.0.3]\n",
      "req            INFO \tNo cached data found for driver_info. Loading data...\n",
      "_api           INFO \tFetching driver list...\n",
      "req            INFO \tData has been written to cache!\n",
      "logger      WARNING \tFailed to load result data from Ergast!\n",
      "core        WARNING \tNo result data for this session available on Ergast! (This is expected for recent sessions)\n",
      "req            INFO \tNo cached data found for session_status_data. Loading data...\n",
      "_api           INFO \tFetching session status data...\n",
      "req            INFO \tData has been written to cache!\n",
      "req            INFO \tNo cached data found for lap_count. Loading data...\n",
      "_api           INFO \tFetching lap count data...\n",
      "req            INFO \tData has been written to cache!\n",
      "req            INFO \tNo cached data found for track_status_data. Loading data...\n",
      "_api           INFO \tFetching track status data...\n",
      "req            INFO \tData has been written to cache!\n",
      "req            INFO \tNo cached data found for timing_data. Loading data...\n",
      "_api           INFO \tFetching timing data...\n",
      "_api           INFO \tParsing timing data...\n",
      "req            INFO \tData has been written to cache!\n",
      "req            INFO \tNo cached data found for timing_app_data. Loading data...\n",
      "_api           INFO \tFetching timing app data...\n",
      "req            INFO \tData has been written to cache!\n",
      "core           INFO \tProcessing timing data...\n",
      "logger      WARNING \tFailed to add first lap time from Ergast!\n",
      "req            INFO \tNo cached data found for car_data. Loading data...\n",
      "_api           INFO \tFetching car data...\n",
      "_api           INFO \tParsing car data...\n",
      "req            INFO \tData has been written to cache!\n",
      "req            INFO \tNo cached data found for position_data. Loading data...\n",
      "_api           INFO \tFetching position data...\n",
      "_api           INFO \tParsing position data...\n",
      "req            INFO \tData has been written to cache!\n",
      "req            INFO \tNo cached data found for weather_data. Loading data...\n",
      "_api           INFO \tFetching weather data...\n",
      "req            INFO \tData has been written to cache!\n",
      "req            INFO \tNo cached data found for race_control_messages. Loading data...\n",
      "_api           INFO \tFetching race control messages...\n",
      "req            INFO \tData has been written to cache!\n",
      "core           INFO \tFinished loading data for 20 drivers: ['1', '11', '16', '55', '14', '63', '44', '18', '31', '27', '4', '77', '24', '22', '23', '2', '20', '81', '21', '10']\n",
      "core           INFO \tLoading data for Bahrain Grand Prix - Race [v3.0.3]\n",
      "req            INFO \tUsing cached data for driver_info\n"
     ]
    },
    {
     "name": "stdout",
     "output_type": "stream",
     "text": [
      "                Team              TimeDelta\n",
      "662       Alfa Romeo        0 days 00:00:00\n",
      "98            Alpine 0 days 00:00:01.072000\n",
      "809          McLaren 0 days 00:00:01.261000\n",
      "366         Williams 0 days 00:00:02.041000\n",
      "206     Aston Martin 0 days 00:00:02.160000\n",
      "43   Red Bull Racing 0 days 00:00:02.240000\n",
      "422     Haas F1 Team 0 days 00:00:02.475000\n",
      "850         Mercedes 0 days 00:00:02.550000\n",
      "534       AlphaTauri 0 days 00:00:02.641000\n",
      "908          Ferrari 0 days 00:00:03.134000\n"
     ]
    },
    {
     "name": "stderr",
     "output_type": "stream",
     "text": [
      "logger      WARNING \tFailed to load result data from Ergast!\n",
      "core        WARNING \tNo result data for this session available on Ergast! (This is expected for recent sessions)\n",
      "req            INFO \tUsing cached data for session_status_data\n",
      "req            INFO \tUsing cached data for lap_count\n",
      "req            INFO \tUsing cached data for track_status_data\n",
      "req            INFO \tUsing cached data for timing_data\n",
      "req            INFO \tUsing cached data for timing_app_data\n",
      "core           INFO \tProcessing timing data...\n",
      "logger      WARNING \tFailed to add first lap time from Ergast!\n",
      "req            INFO \tUsing cached data for car_data\n",
      "req            INFO \tUsing cached data for position_data\n",
      "req            INFO \tUsing cached data for weather_data\n",
      "req            INFO \tUsing cached data for race_control_messages\n",
      "core           INFO \tFinished loading data for 20 drivers: ['1', '11', '16', '55', '14', '63', '44', '18', '31', '27', '4', '77', '24', '22', '23', '2', '20', '81', '21', '10']\n",
      "core           INFO \tLoading data for Saudi Arabian Grand Prix - Race [v3.0.3]\n",
      "req            INFO \tNo cached data found for driver_info. Loading data...\n",
      "_api           INFO \tFetching driver list...\n"
     ]
    },
    {
     "name": "stdout",
     "output_type": "stream",
     "text": [
      "                Team              TimeDelta\n",
      "662       Alfa Romeo        0 days 00:00:00\n",
      "98            Alpine 0 days 00:00:01.072000\n",
      "809          McLaren 0 days 00:00:01.261000\n",
      "366         Williams 0 days 00:00:02.041000\n",
      "206     Aston Martin 0 days 00:00:02.160000\n",
      "43   Red Bull Racing 0 days 00:00:02.240000\n",
      "422     Haas F1 Team 0 days 00:00:02.475000\n",
      "850         Mercedes 0 days 00:00:02.550000\n",
      "534       AlphaTauri 0 days 00:00:02.641000\n",
      "908          Ferrari 0 days 00:00:03.134000\n"
     ]
    },
    {
     "name": "stderr",
     "output_type": "stream",
     "text": [
      "req            INFO \tData has been written to cache!\n",
      "logger      WARNING \tFailed to load result data from Ergast!\n",
      "core        WARNING \tNo result data for this session available on Ergast! (This is expected for recent sessions)\n",
      "req            INFO \tNo cached data found for session_status_data. Loading data...\n",
      "_api           INFO \tFetching session status data...\n",
      "req            INFO \tData has been written to cache!\n",
      "req            INFO \tNo cached data found for lap_count. Loading data...\n",
      "_api           INFO \tFetching lap count data...\n",
      "req            INFO \tData has been written to cache!\n",
      "req            INFO \tNo cached data found for track_status_data. Loading data...\n",
      "_api           INFO \tFetching track status data...\n",
      "req            INFO \tData has been written to cache!\n",
      "req            INFO \tNo cached data found for timing_data. Loading data...\n",
      "_api           INFO \tFetching timing data...\n",
      "_api           INFO \tParsing timing data...\n",
      "req            INFO \tData has been written to cache!\n",
      "req            INFO \tNo cached data found for timing_app_data. Loading data...\n",
      "_api           INFO \tFetching timing app data...\n",
      "req            INFO \tData has been written to cache!\n",
      "core           INFO \tProcessing timing data...\n",
      "logger      WARNING \tFailed to add first lap time from Ergast!\n",
      "req            INFO \tNo cached data found for car_data. Loading data...\n",
      "_api           INFO \tFetching car data...\n",
      "_api           INFO \tParsing car data...\n",
      "req            INFO \tData has been written to cache!\n",
      "req            INFO \tNo cached data found for position_data. Loading data...\n",
      "_api           INFO \tFetching position data...\n",
      "_api           INFO \tParsing position data...\n",
      "_api        WARNING \tDriver 241: Position data is incomplete!\n",
      "_api        WARNING \tDriver 242: Position data is incomplete!\n",
      "_api        WARNING \tDriver 243: Position data is incomplete!\n",
      "req            INFO \tData has been written to cache!\n",
      "req            INFO \tNo cached data found for weather_data. Loading data...\n",
      "_api           INFO \tFetching weather data...\n",
      "req            INFO \tData has been written to cache!\n",
      "req            INFO \tNo cached data found for race_control_messages. Loading data...\n",
      "_api           INFO \tFetching race control messages...\n",
      "req            INFO \tData has been written to cache!\n",
      "core           INFO \tFinished loading data for 20 drivers: ['11', '14', '63', '55', '18', '31', '44', '81', '10', '27', '24', '16', '20', '77', '1', '22', '23', '21', '4', '2']\n",
      "core           INFO \tLoading data for Australian Grand Prix - Race [v3.0.3]\n",
      "req            INFO \tNo cached data found for driver_info. Loading data...\n",
      "_api           INFO \tFetching driver list...\n"
     ]
    },
    {
     "name": "stdout",
     "output_type": "stream",
     "text": [
      "                Team              TimeDelta\n",
      "49   Red Bull Racing        0 days 00:00:00\n",
      "199     Aston Martin 0 days 00:00:00.334000\n",
      "843         Mercedes 0 days 00:00:00.527000\n",
      "793          Ferrari 0 days 00:00:00.916000\n",
      "642           Alpine 0 days 00:00:01.316000\n",
      "360     Haas F1 Team 0 days 00:00:01.468000\n",
      "415       AlphaTauri 0 days 00:00:01.703000\n",
      "542       Alfa Romeo 0 days 00:00:01.988000\n",
      "692          McLaren 0 days 00:00:02.216000\n",
      "315         Williams 0 days 00:00:02.563000\n"
     ]
    },
    {
     "name": "stderr",
     "output_type": "stream",
     "text": [
      "req            INFO \tData has been written to cache!\n",
      "logger      WARNING \tFailed to load result data from Ergast!\n",
      "core        WARNING \tNo result data for this session available on Ergast! (This is expected for recent sessions)\n",
      "req            INFO \tNo cached data found for session_status_data. Loading data...\n",
      "_api           INFO \tFetching session status data...\n",
      "req            INFO \tData has been written to cache!\n",
      "req            INFO \tNo cached data found for lap_count. Loading data...\n",
      "_api           INFO \tFetching lap count data...\n",
      "req            INFO \tData has been written to cache!\n",
      "req            INFO \tNo cached data found for track_status_data. Loading data...\n",
      "_api           INFO \tFetching track status data...\n",
      "req            INFO \tData has been written to cache!\n",
      "req            INFO \tNo cached data found for timing_data. Loading data...\n",
      "_api           INFO \tFetching timing data...\n",
      "_api           INFO \tParsing timing data...\n",
      "req            INFO \tData has been written to cache!\n",
      "req            INFO \tNo cached data found for timing_app_data. Loading data...\n",
      "_api           INFO \tFetching timing app data...\n",
      "req            INFO \tData has been written to cache!\n",
      "core           INFO \tProcessing timing data...\n",
      "logger      WARNING \tFailed to add first lap time from Ergast!\n",
      "req            INFO \tNo cached data found for car_data. Loading data...\n",
      "_api           INFO \tFetching car data...\n",
      "_api           INFO \tParsing car data...\n",
      "req            INFO \tData has been written to cache!\n",
      "req            INFO \tNo cached data found for position_data. Loading data...\n",
      "_api           INFO \tFetching position data...\n",
      "_api           INFO \tParsing position data...\n",
      "_api        WARNING \tDriver 241: Position data is incomplete!\n",
      "_api        WARNING \tDriver 242: Position data is incomplete!\n",
      "_api        WARNING \tDriver 243: Position data is incomplete!\n",
      "req            INFO \tData has been written to cache!\n",
      "req            INFO \tNo cached data found for weather_data. Loading data...\n",
      "_api           INFO \tFetching weather data...\n",
      "req            INFO \tData has been written to cache!\n",
      "req            INFO \tNo cached data found for race_control_messages. Loading data...\n",
      "_api           INFO \tFetching race control messages...\n",
      "req            INFO \tData has been written to cache!\n",
      "core           INFO \tFinished loading data for 20 drivers: ['1', '63', '44', '14', '55', '18', '16', '23', '10', '27', '31', '22', '4', '20', '21', '81', '24', '2', '77', '11']\n",
      "core           INFO \tLoading data for Azerbaijan Grand Prix - Race [v3.0.3]\n",
      "req            INFO \tNo cached data found for driver_info. Loading data...\n",
      "_api           INFO \tFetching driver list...\n"
     ]
    },
    {
     "name": "stdout",
     "output_type": "stream",
     "text": [
      "                Team              TimeDelta\n",
      "167  Red Bull Racing        0 days 00:00:00\n",
      "863          Ferrari 0 days 00:00:00.232000\n",
      "225     Aston Martin 0 days 00:00:00.241000\n",
      "801         Mercedes 0 days 00:00:00.378000\n",
      "104           Alpine 0 days 00:00:00.760000\n",
      "625     Haas F1 Team 0 days 00:00:00.889000\n",
      "740          McLaren 0 days 00:00:00.938000\n",
      "449       AlphaTauri 0 days 00:00:00.948000\n",
      "339         Williams 0 days 00:00:01.221000\n",
      "569       Alfa Romeo 0 days 00:00:01.584000\n"
     ]
    },
    {
     "name": "stderr",
     "output_type": "stream",
     "text": [
      "req            INFO \tData has been written to cache!\n",
      "logger      WARNING \tFailed to load result data from Ergast!\n",
      "core        WARNING \tNo result data for this session available on Ergast! (This is expected for recent sessions)\n",
      "req            INFO \tNo cached data found for session_status_data. Loading data...\n",
      "_api           INFO \tFetching session status data...\n",
      "req            INFO \tData has been written to cache!\n",
      "req            INFO \tNo cached data found for lap_count. Loading data...\n",
      "_api           INFO \tFetching lap count data...\n",
      "req            INFO \tData has been written to cache!\n",
      "req            INFO \tNo cached data found for track_status_data. Loading data...\n",
      "_api           INFO \tFetching track status data...\n",
      "req            INFO \tData has been written to cache!\n",
      "req            INFO \tNo cached data found for timing_data. Loading data...\n",
      "_api           INFO \tFetching timing data...\n",
      "_api           INFO \tParsing timing data...\n",
      "req            INFO \tData has been written to cache!\n",
      "req            INFO \tNo cached data found for timing_app_data. Loading data...\n",
      "_api           INFO \tFetching timing app data...\n",
      "req            INFO \tData has been written to cache!\n",
      "core           INFO \tProcessing timing data...\n",
      "logger      WARNING \tFailed to add first lap time from Ergast!\n",
      "req            INFO \tNo cached data found for car_data. Loading data...\n",
      "_api           INFO \tFetching car data...\n",
      "_api           INFO \tParsing car data...\n",
      "req            INFO \tData has been written to cache!\n",
      "req            INFO \tNo cached data found for position_data. Loading data...\n",
      "_api           INFO \tFetching position data...\n",
      "_api           INFO \tParsing position data...\n",
      "_api        WARNING \tDriver 241: Position data is incomplete!\n",
      "_api        WARNING \tDriver 242: Position data is incomplete!\n",
      "_api        WARNING \tDriver 243: Position data is incomplete!\n",
      "req            INFO \tData has been written to cache!\n",
      "req            INFO \tNo cached data found for weather_data. Loading data...\n",
      "_api           INFO \tFetching weather data...\n",
      "req            INFO \tData has been written to cache!\n",
      "req            INFO \tNo cached data found for race_control_messages. Loading data...\n",
      "_api           INFO \tFetching race control messages...\n",
      "req            INFO \tData has been written to cache!\n",
      "core           INFO \tFinished loading data for 20 drivers: ['16', '1', '11', '55', '44', '14', '4', '22', '18', '81', '63', '23', '77', '2', '24', '20', '10', '21', '31', '27']\n",
      "core           INFO \tLoading data for Miami Grand Prix - Race [v3.0.3]\n",
      "req            INFO \tNo cached data found for driver_info. Loading data...\n",
      "_api           INFO \tFetching driver list...\n"
     ]
    },
    {
     "name": "stdout",
     "output_type": "stream",
     "text": [
      "                Team              TimeDelta\n",
      "860         Mercedes        0 days 00:00:00\n",
      "50   Red Bull Racing 0 days 00:00:00.862000\n",
      "201     Aston Martin 0 days 00:00:00.871000\n",
      "252          Ferrari 0 days 00:00:01.191000\n",
      "97            Alpine 0 days 00:00:02.170000\n",
      "961          McLaren 0 days 00:00:02.261000\n",
      "468       AlphaTauri 0 days 00:00:02.357000\n",
      "407     Haas F1 Team 0 days 00:00:02.480000\n",
      "519         Williams 0 days 00:00:02.555000\n",
      "896       Alfa Romeo 0 days 00:00:02.934000\n"
     ]
    },
    {
     "name": "stderr",
     "output_type": "stream",
     "text": [
      "req            INFO \tData has been written to cache!\n",
      "logger      WARNING \tFailed to load result data from Ergast!\n",
      "core        WARNING \tNo result data for this session available on Ergast! (This is expected for recent sessions)\n",
      "req            INFO \tNo cached data found for session_status_data. Loading data...\n",
      "_api           INFO \tFetching session status data...\n",
      "req            INFO \tData has been written to cache!\n",
      "req            INFO \tNo cached data found for lap_count. Loading data...\n",
      "_api           INFO \tFetching lap count data...\n",
      "req            INFO \tData has been written to cache!\n",
      "req            INFO \tNo cached data found for track_status_data. Loading data...\n",
      "_api           INFO \tFetching track status data...\n",
      "req            INFO \tData has been written to cache!\n",
      "req            INFO \tNo cached data found for timing_data. Loading data...\n",
      "_api           INFO \tFetching timing data...\n",
      "_api           INFO \tParsing timing data...\n",
      "req            INFO \tData has been written to cache!\n",
      "req            INFO \tNo cached data found for timing_app_data. Loading data...\n",
      "_api           INFO \tFetching timing app data...\n",
      "req            INFO \tData has been written to cache!\n",
      "core           INFO \tProcessing timing data...\n",
      "logger      WARNING \tFailed to add first lap time from Ergast!\n",
      "req            INFO \tNo cached data found for car_data. Loading data...\n",
      "_api           INFO \tFetching car data...\n",
      "_api           INFO \tParsing car data...\n",
      "req            INFO \tData has been written to cache!\n",
      "req            INFO \tNo cached data found for position_data. Loading data...\n",
      "_api           INFO \tFetching position data...\n",
      "_api           INFO \tParsing position data...\n",
      "req            INFO \tData has been written to cache!\n",
      "req            INFO \tNo cached data found for weather_data. Loading data...\n",
      "_api           INFO \tFetching weather data...\n",
      "req            INFO \tData has been written to cache!\n",
      "req            INFO \tNo cached data found for race_control_messages. Loading data...\n",
      "_api           INFO \tFetching race control messages...\n",
      "req            INFO \tData has been written to cache!\n",
      "core           INFO \tFinished loading data for 20 drivers: ['11', '14', '55', '20', '10', '63', '16', '31', '1', '77', '23', '27', '44', '24', '21', '4', '22', '18', '81', '2']\n",
      "core           INFO \tLoading data for Emilia Romagna Grand Prix - Race [v3.0.3]\n",
      "req            INFO \tNo cached data found for driver_info. Loading data...\n",
      "_api           INFO \tFetching driver list...\n"
     ]
    },
    {
     "name": "stdout",
     "output_type": "stream",
     "text": [
      "                 Team              TimeDelta\n",
      "511   Red Bull Racing        0 days 00:00:00\n",
      "113      Aston Martin 0 days 00:00:00.811000\n",
      "740          Mercedes 0 days 00:00:00.961000\n",
      "662      Haas F1 Team 0 days 00:00:01.193000\n",
      "967        AlphaTauri 0 days 00:00:01.330000\n",
      "454            Alpine 0 days 00:00:01.435000\n",
      "168           Ferrari 0 days 00:00:01.654000\n",
      "796        Alfa Romeo 0 days 00:00:02.028000\n",
      "624          Williams 0 days 00:00:02.144000\n",
      "1081          McLaren 0 days 00:00:02.298000\n"
     ]
    },
    {
     "name": "stderr",
     "output_type": "stream",
     "text": [
      "core        WARNING \tFailed to load extended driver information!\n",
      "logger      WARNING \tFailed to load result data from Ergast!\n",
      "core        WARNING \tNo result data for this session available on Ergast! (This is expected for recent sessions)\n",
      "logger      WARNING \tFailed to load results data!\n",
      "req            INFO \tNo cached data found for session_status_data. Loading data...\n",
      "_api           INFO \tFetching session status data...\n",
      "logger      WARNING \tFailed to load session status data!\n",
      "req            INFO \tNo cached data found for lap_count. Loading data...\n",
      "_api           INFO \tFetching lap count data...\n",
      "logger      WARNING \tFailed to load total lap count!\n",
      "req            INFO \tNo cached data found for track_status_data. Loading data...\n",
      "_api           INFO \tFetching track status data...\n",
      "logger      WARNING \tFailed to load track status data!\n",
      "req            INFO \tNo cached data found for timing_data. Loading data...\n",
      "_api           INFO \tFetching timing data...\n",
      "logger      WARNING \tFailed to load timing data!\n",
      "logger      WARNING \tFailed to add first lap time from Ergast!\n",
      "req            INFO \tNo cached data found for car_data. Loading data...\n",
      "_api           INFO \tFetching car data...\n",
      "logger      WARNING \tFailed to load telemetry data!\n",
      "req            INFO \tNo cached data found for weather_data. Loading data...\n",
      "_api           INFO \tFetching weather data...\n",
      "logger      WARNING \tFailed to load weather data!\n",
      "req            INFO \tNo cached data found for race_control_messages. Loading data...\n",
      "_api           INFO \tFetching race control messages...\n",
      "logger      WARNING \tFailed to load race control messages!\n"
     ]
    },
    {
     "name": "stdout",
     "output_type": "stream",
     "text": [
      "No data for Imola\n"
     ]
    },
    {
     "name": "stderr",
     "output_type": "stream",
     "text": [
      "core           INFO \tLoading data for Monaco Grand Prix - Race [v3.0.3]\n",
      "req            INFO \tUsing cached data for driver_info\n",
      "logger      WARNING \tFailed to load result data from Ergast!\n",
      "core        WARNING \tNo result data for this session available on Ergast! (This is expected for recent sessions)\n",
      "req            INFO \tUsing cached data for session_status_data\n",
      "req            INFO \tUsing cached data for lap_count\n",
      "req            INFO \tUsing cached data for track_status_data\n",
      "req            INFO \tUsing cached data for timing_data\n",
      "req            INFO \tUsing cached data for timing_app_data\n",
      "core           INFO \tProcessing timing data...\n",
      "logger      WARNING \tFailed to add first lap time from Ergast!\n",
      "req            INFO \tUsing cached data for car_data\n",
      "req            INFO \tUsing cached data for position_data\n",
      "req            INFO \tUsing cached data for weather_data\n",
      "req            INFO \tUsing cached data for race_control_messages\n",
      "core           INFO \tFinished loading data for 20 drivers: ['1', '14', '31', '55', '44', '16', '10', '63', '22', '4', '81', '21', '23', '18', '77', '2', '20', '27', '24', '11']\n"
     ]
    },
    {
     "name": "stdout",
     "output_type": "stream",
     "text": [
      "                 Team              TimeDelta\n",
      "1159         Mercedes        0 days 00:00:00\n",
      "355           Ferrari 0 days 00:00:00.123000\n",
      "126            Alpine 0 days 00:00:00.181000\n",
      "160   Red Bull Racing 0 days 00:00:00.619000\n",
      "765          Williams 0 days 00:00:01.022000\n",
      "274      Aston Martin 0 days 00:00:01.024000\n",
      "823        Alfa Romeo 0 days 00:00:01.276000\n",
      "901      Haas F1 Team 0 days 00:00:01.341000\n",
      "1484          McLaren 0 days 00:00:01.863000\n",
      "631        AlphaTauri 0 days 00:00:01.911000\n"
     ]
    }
   ],
   "source": [
    "# initialize an empty list to store DataFrames\n",
    "dfs = []\n",
    "\n",
    "for index, row in schedule2023.iterrows():\n",
    "    event = row['Location']\n",
    "    session = fastf1.get_session(year, event, 'R')\n",
    "\n",
    "    try:\n",
    "        session.load()\n",
    "    except:\n",
    "        print('No data for ' + event)\n",
    "        continue\n",
    "\n",
    "    # Create a DataFrame with the lap times sorted\n",
    "    df = session.laps.sort_values(by='LapTime').drop_duplicates(subset='Team', keep='first')\n",
    "\n",
    "    # Determine the fastest lap time\n",
    "    fastest_lap = df['LapTime'].min()\n",
    "\n",
    "    # Calculate the time delta compared to the fastest lap\n",
    "    df['TimeDelta'] = df['LapTime'] - fastest_lap\n",
    "\n",
    "    # Only keep necessary columns\n",
    "    df = df[['Team', 'TimeDelta']]\n",
    "    print(df)\n",
    "\n",
    "    # add DataFrame to the list\n",
    "    dfs.append(df)\n",
    "\n",
    "# concatenate all DataFrames\n",
    "total_df = pd.concat(dfs)\n",
    "\n",
    "# Group by team and sum time deltas\n",
    "total_df = total_df.groupby('Team').sum().reset_index()"
   ],
   "metadata": {
    "collapsed": false,
    "ExecuteTime": {
     "end_time": "2023-05-30T16:58:18.921871Z",
     "start_time": "2023-05-30T16:52:37.304927Z"
    }
   }
  },
  {
   "cell_type": "code",
   "execution_count": 38,
   "outputs": [
    {
     "data": {
      "text/plain": "              Team              TimeDelta\n8  Red Bull Racing 0 days 00:00:05.961000\n7         Mercedes 0 days 00:00:06.966000\n3     Aston Martin 0 days 00:00:07.601000\n2           Alpine 0 days 00:00:08.006000\n0       Alfa Romeo 0 days 00:00:09.810000\n4          Ferrari 0 days 00:00:10.384000\n6          McLaren 0 days 00:00:12.098000\n5     Haas F1 Team 0 days 00:00:12.321000\n1       AlphaTauri 0 days 00:00:13.531000\n9         Williams 0 days 00:00:13.587000",
      "text/html": "<div>\n<style scoped>\n    .dataframe tbody tr th:only-of-type {\n        vertical-align: middle;\n    }\n\n    .dataframe tbody tr th {\n        vertical-align: top;\n    }\n\n    .dataframe thead th {\n        text-align: right;\n    }\n</style>\n<table border=\"1\" class=\"dataframe\">\n  <thead>\n    <tr style=\"text-align: right;\">\n      <th></th>\n      <th>Team</th>\n      <th>TimeDelta</th>\n    </tr>\n  </thead>\n  <tbody>\n    <tr>\n      <th>8</th>\n      <td>Red Bull Racing</td>\n      <td>0 days 00:00:05.961000</td>\n    </tr>\n    <tr>\n      <th>7</th>\n      <td>Mercedes</td>\n      <td>0 days 00:00:06.966000</td>\n    </tr>\n    <tr>\n      <th>3</th>\n      <td>Aston Martin</td>\n      <td>0 days 00:00:07.601000</td>\n    </tr>\n    <tr>\n      <th>2</th>\n      <td>Alpine</td>\n      <td>0 days 00:00:08.006000</td>\n    </tr>\n    <tr>\n      <th>0</th>\n      <td>Alfa Romeo</td>\n      <td>0 days 00:00:09.810000</td>\n    </tr>\n    <tr>\n      <th>4</th>\n      <td>Ferrari</td>\n      <td>0 days 00:00:10.384000</td>\n    </tr>\n    <tr>\n      <th>6</th>\n      <td>McLaren</td>\n      <td>0 days 00:00:12.098000</td>\n    </tr>\n    <tr>\n      <th>5</th>\n      <td>Haas F1 Team</td>\n      <td>0 days 00:00:12.321000</td>\n    </tr>\n    <tr>\n      <th>1</th>\n      <td>AlphaTauri</td>\n      <td>0 days 00:00:13.531000</td>\n    </tr>\n    <tr>\n      <th>9</th>\n      <td>Williams</td>\n      <td>0 days 00:00:13.587000</td>\n    </tr>\n  </tbody>\n</table>\n</div>"
     },
     "execution_count": 38,
     "metadata": {},
     "output_type": "execute_result"
    }
   ],
   "source": [
    "total_df = total_df.sort_values(by='TimeDelta')\n",
    "total_df"
   ],
   "metadata": {
    "collapsed": false,
    "ExecuteTime": {
     "end_time": "2023-05-30T16:58:18.958208Z",
     "start_time": "2023-05-30T16:58:18.927910Z"
    }
   }
  },
  {
   "cell_type": "code",
   "execution_count": null,
   "outputs": [],
   "source": [],
   "metadata": {
    "collapsed": false
   }
  }
 ],
 "metadata": {
  "kernelspec": {
   "display_name": "Python 3",
   "language": "python",
   "name": "python3"
  },
  "language_info": {
   "codemirror_mode": {
    "name": "ipython",
    "version": 2
   },
   "file_extension": ".py",
   "mimetype": "text/x-python",
   "name": "python",
   "nbconvert_exporter": "python",
   "pygments_lexer": "ipython2",
   "version": "2.7.6"
  }
 },
 "nbformat": 4,
 "nbformat_minor": 0
}
