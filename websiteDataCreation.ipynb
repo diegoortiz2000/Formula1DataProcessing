{
 "cells": [
  {
   "cell_type": "code",
   "execution_count": 1,
   "metadata": {
    "collapsed": true,
    "ExecuteTime": {
     "end_time": "2023-06-07T02:17:58.985730Z",
     "start_time": "2023-06-07T02:17:58.309544Z"
    }
   },
   "outputs": [],
   "source": [
    "import fastf1\n",
    "import numpy as np\n",
    "import pandas as pd\n",
    "import json\n",
    "import os"
   ]
  },
  {
   "cell_type": "code",
   "execution_count": 2,
   "outputs": [],
   "source": [
    "fastf1.Cache.enable_cache('cache')"
   ],
   "metadata": {
    "collapsed": false,
    "ExecuteTime": {
     "end_time": "2023-06-07T02:17:59.905155Z",
     "start_time": "2023-06-07T02:17:59.893090Z"
    }
   }
  },
  {
   "cell_type": "code",
   "execution_count": 3,
   "outputs": [],
   "source": [
    "schedule2022 = fastf1.get_event_schedule(2022)\n",
    "schedule2023 = fastf1.get_event_schedule(2023)"
   ],
   "metadata": {
    "collapsed": false,
    "ExecuteTime": {
     "end_time": "2023-06-07T02:18:01.837751Z",
     "start_time": "2023-06-07T02:18:01.372601Z"
    }
   }
  },
  {
   "cell_type": "code",
   "execution_count": 4,
   "outputs": [
    {
     "data": {
      "text/plain": "    RoundNumber        Country           Location  \\\n0             0        Bahrain             Sakhir   \n1             1        Bahrain             Sakhir   \n2             2   Saudi Arabia             Jeddah   \n3             3      Australia          Melbourne   \n4             4     Azerbaijan               Baku   \n5             5  United States              Miami   \n6             6         Monaco             Monaco   \n7             7          Spain          Barcelona   \n8             8         Canada           Montréal   \n9             9        Austria          Spielberg   \n10           10  Great Britain        Silverstone   \n11           11        Hungary           Budapest   \n12           12        Belgium  Spa-Francorchamps   \n13           13    Netherlands          Zandvoort   \n14           14          Italy              Monza   \n15           15      Singapore         Marina Bay   \n16           16          Japan             Suzuka   \n17           17          Qatar             Lusail   \n18           18  United States             Austin   \n19           19         Mexico        Mexico City   \n20           20         Brazil          São Paulo   \n21           21  United States          Las Vegas   \n22           22      Abu Dhabi         Yas Island   \n\n                                    OfficialEventName  EventDate  \\\n0            FORMULA 1 ARAMCO PRE-SEASON TESTING 2023 2023-02-25   \n1          FORMULA 1 GULF AIR BAHRAIN GRAND PRIX 2023 2023-03-05   \n2         FORMULA 1 STC SAUDI ARABIAN GRAND PRIX 2023 2023-03-19   \n3          FORMULA 1 ROLEX AUSTRALIAN GRAND PRIX 2023 2023-04-02   \n4                FORMULA 1 AZERBAIJAN GRAND PRIX 2023 2023-04-30   \n5          FORMULA 1 CRYPTO.COM MIAMI GRAND PRIX 2023 2023-05-07   \n6                 FORMULA 1 GRAND PRIX DE MONACO 2023 2023-05-28   \n7            FORMULA 1 AWS GRAN PREMIO DE ESPAÑA 2023 2023-06-04   \n8         FORMULA 1 PIRELLI GRAND PRIX DU CANADA 2023 2023-06-18   \n9   FORMULA 1 ROLEX GROSSER PREIS VON ÖSTERREICH 2023 2023-07-02   \n10           FORMULA 1 ARAMCO BRITISH GRAND PRIX 2023 2023-07-09   \n11  FORMULA 1 QATAR AIRWAYS HUNGARIAN GRAND PRIX 2023 2023-07-23   \n12      FORMULA 1 MSC CRUISES BELGIAN GRAND PRIX 2023 2023-07-30   \n13           FORMULA 1 HEINEKEN DUTCH GRAND PRIX 2023 2023-08-27   \n14       FORMULA 1 PIRELLI GRAN PREMIO D’ITALIA 2023  2023-09-03   \n15  FORMULA 1 SINGAPORE AIRLINES SINGAPORE GRAND P... 2023-09-17   \n16         FORMULA 1 LENOVO JAPANESE GRAND PRIX 2023  2023-09-24   \n17      FORMULA 1 QATAR AIRWAYS QATAR GRAND PRIX 2023 2023-10-08   \n18     FORMULA 1 LENOVO UNITED STATES GRAND PRIX 2023 2023-10-22   \n19  FORMULA 1 GRAN PREMIO DE LA CIUDAD DE MÉXICO 2023 2023-10-29   \n20    FORMULA 1 ROLEX GRANDE PRÊMIO DE SÃO PAULO 2023 2023-11-05   \n21  FORMULA 1 HEINEKEN SILVER LAS VEGAS GRAND PRIX... 2023-11-18   \n22  FORMULA 1 ETIHAD AIRWAYS ABU DHABI GRAND PRIX ... 2023-11-26   \n\n                   EventName      EventFormat    Session1  \\\n0         Pre-Season Testing          testing  Practice 1   \n1         Bahrain Grand Prix     conventional  Practice 1   \n2   Saudi Arabian Grand Prix     conventional  Practice 1   \n3      Australian Grand Prix     conventional  Practice 1   \n4      Azerbaijan Grand Prix  sprint_shootout  Practice 1   \n5           Miami Grand Prix     conventional  Practice 1   \n6          Monaco Grand Prix     conventional  Practice 1   \n7         Spanish Grand Prix     conventional  Practice 1   \n8        Canadian Grand Prix     conventional  Practice 1   \n9        Austrian Grand Prix  sprint_shootout  Practice 1   \n10        British Grand Prix     conventional  Practice 1   \n11      Hungarian Grand Prix     conventional  Practice 1   \n12        Belgian Grand Prix  sprint_shootout  Practice 1   \n13          Dutch Grand Prix     conventional  Practice 1   \n14        Italian Grand Prix     conventional  Practice 1   \n15      Singapore Grand Prix     conventional  Practice 1   \n16       Japanese Grand Prix     conventional  Practice 1   \n17          Qatar Grand Prix  sprint_shootout  Practice 1   \n18  United States Grand Prix  sprint_shootout  Practice 1   \n19    Mexico City Grand Prix     conventional  Practice 1   \n20      São Paulo Grand Prix  sprint_shootout  Practice 1   \n21      Las Vegas Grand Prix     conventional  Practice 1   \n22      Abu Dhabi Grand Prix     conventional  Practice 1   \n\n                 Session1Date     Session1DateUtc  ...         Session3  \\\n0   2023-02-23 10:00:00+03:00 2023-02-23 07:00:00  ...       Practice 3   \n1   2023-03-03 14:30:00+03:00 2023-03-03 11:30:00  ...       Practice 3   \n2   2023-03-17 16:30:00+03:00 2023-03-17 13:30:00  ...       Practice 3   \n3   2023-03-31 12:30:00+10:00 2023-03-31 02:30:00  ...       Practice 3   \n4   2023-04-28 13:30:00+04:00 2023-04-28 09:30:00  ...  Sprint Shootout   \n5   2023-05-05 14:00:00-04:00 2023-05-05 18:00:00  ...       Practice 3   \n6   2023-05-26 13:30:00+02:00 2023-05-26 11:30:00  ...       Practice 3   \n7   2023-06-02 13:30:00+02:00 2023-06-02 11:30:00  ...       Practice 3   \n8   2023-06-16 13:30:00-04:00 2023-06-16 17:30:00  ...       Practice 3   \n9   2023-06-30 13:30:00+02:00 2023-06-30 11:30:00  ...  Sprint Shootout   \n10  2023-07-07 12:30:00+01:00 2023-07-07 11:30:00  ...       Practice 3   \n11  2023-07-21 13:30:00+02:00 2023-07-21 11:30:00  ...       Practice 3   \n12  2023-07-28 13:30:00+02:00 2023-07-28 11:30:00  ...  Sprint Shootout   \n13  2023-08-25 12:30:00+02:00 2023-08-25 10:30:00  ...       Practice 3   \n14  2023-09-01 13:30:00+02:00 2023-09-01 11:30:00  ...       Practice 3   \n15  2023-09-15 17:30:00+08:00 2023-09-15 09:30:00  ...       Practice 3   \n16  2023-09-22 11:30:00+09:00 2023-09-22 02:30:00  ...       Practice 3   \n17  2023-10-06 16:30:00+03:00 2023-10-06 13:30:00  ...  Sprint Shootout   \n18  2023-10-20 12:30:00-05:00 2023-10-20 17:30:00  ...  Sprint Shootout   \n19  2023-10-27 12:30:00-06:00 2023-10-27 18:30:00  ...       Practice 3   \n20  2023-11-03 11:30:00-03:00 2023-11-03 14:30:00  ...  Sprint Shootout   \n21  2023-11-16 20:30:00-08:00 2023-11-17 04:30:00  ...       Practice 3   \n22  2023-11-24 13:30:00+04:00 2023-11-24 09:30:00  ...       Practice 3   \n\n                 Session3Date     Session3DateUtc    Session4  \\\n0   2023-02-25 10:00:00+03:00 2023-02-25 07:00:00        None   \n1   2023-03-04 14:30:00+03:00 2023-03-04 11:30:00  Qualifying   \n2   2023-03-18 16:30:00+03:00 2023-03-18 13:30:00  Qualifying   \n3   2023-04-01 12:30:00+10:00 2023-04-01 02:30:00  Qualifying   \n4   2023-04-29 12:30:00+04:00 2023-04-29 08:30:00      Sprint   \n5   2023-05-06 12:30:00-04:00 2023-05-06 16:30:00  Qualifying   \n6   2023-05-27 12:30:00+02:00 2023-05-27 10:30:00  Qualifying   \n7   2023-06-03 12:30:00+02:00 2023-06-03 10:30:00  Qualifying   \n8   2023-06-17 12:30:00-04:00 2023-06-17 16:30:00  Qualifying   \n9   2023-07-01 12:00:00+02:00 2023-07-01 10:00:00      Sprint   \n10  2023-07-08 11:30:00+01:00 2023-07-08 10:30:00  Qualifying   \n11  2023-07-22 12:30:00+02:00 2023-07-22 10:30:00  Qualifying   \n12  2023-07-29 12:00:00+02:00 2023-07-29 10:00:00      Sprint   \n13  2023-08-26 11:30:00+02:00 2023-08-26 09:30:00  Qualifying   \n14  2023-09-02 12:30:00+02:00 2023-09-02 10:30:00  Qualifying   \n15  2023-09-16 17:30:00+08:00 2023-09-16 09:30:00  Qualifying   \n16  2023-09-23 11:30:00+09:00 2023-09-23 02:30:00  Qualifying   \n17  2023-10-07 16:00:00+03:00 2023-10-07 13:00:00      Sprint   \n18  2023-10-21 12:30:00-05:00 2023-10-21 17:30:00      Sprint   \n19  2023-10-28 11:30:00-06:00 2023-10-28 17:30:00  Qualifying   \n20  2023-11-04 11:00:00-03:00 2023-11-04 14:00:00      Sprint   \n21  2023-11-17 20:30:00-08:00 2023-11-18 04:30:00  Qualifying   \n22  2023-11-25 14:30:00+04:00 2023-11-25 10:30:00  Qualifying   \n\n                 Session4Date     Session4DateUtc Session5  \\\n0                         NaT                 NaT     None   \n1   2023-03-04 18:00:00+03:00 2023-03-04 15:00:00     Race   \n2   2023-03-18 20:00:00+03:00 2023-03-18 17:00:00     Race   \n3   2023-04-01 16:00:00+10:00 2023-04-01 06:00:00     Race   \n4   2023-04-29 17:30:00+04:00 2023-04-29 13:30:00     Race   \n5   2023-05-06 16:00:00-04:00 2023-05-06 20:00:00     Race   \n6   2023-05-27 16:00:00+02:00 2023-05-27 14:00:00     Race   \n7   2023-06-03 16:00:00+02:00 2023-06-03 14:00:00     Race   \n8   2023-06-17 16:00:00-04:00 2023-06-17 20:00:00     Race   \n9   2023-07-01 16:30:00+02:00 2023-07-01 14:30:00     Race   \n10  2023-07-08 15:00:00+01:00 2023-07-08 14:00:00     Race   \n11  2023-07-22 16:00:00+02:00 2023-07-22 14:00:00     Race   \n12  2023-07-29 16:30:00+02:00 2023-07-29 14:30:00     Race   \n13  2023-08-26 15:00:00+02:00 2023-08-26 13:00:00     Race   \n14  2023-09-02 16:00:00+02:00 2023-09-02 14:00:00     Race   \n15  2023-09-16 21:00:00+08:00 2023-09-16 13:00:00     Race   \n16  2023-09-23 15:00:00+09:00 2023-09-23 06:00:00     Race   \n17  2023-10-07 20:30:00+03:00 2023-10-07 17:30:00     Race   \n18  2023-10-21 17:00:00-05:00 2023-10-21 22:00:00     Race   \n19  2023-10-28 15:00:00-06:00 2023-10-28 21:00:00     Race   \n20  2023-11-04 15:30:00-03:00 2023-11-04 18:30:00     Race   \n21  2023-11-18 00:00:00-08:00 2023-11-18 08:00:00     Race   \n22  2023-11-25 18:00:00+04:00 2023-11-25 14:00:00     Race   \n\n                 Session5Date     Session5DateUtc F1ApiSupport  \n0                         NaT                 NaT         True  \n1   2023-03-05 18:00:00+03:00 2023-03-05 15:00:00         True  \n2   2023-03-19 20:00:00+03:00 2023-03-19 17:00:00         True  \n3   2023-04-02 15:00:00+10:00 2023-04-02 05:00:00         True  \n4   2023-04-30 15:00:00+04:00 2023-04-30 11:00:00         True  \n5   2023-05-07 15:30:00-04:00 2023-05-07 19:30:00         True  \n6   2023-05-28 15:00:00+02:00 2023-05-28 13:00:00         True  \n7   2023-06-04 15:00:00+02:00 2023-06-04 13:00:00         True  \n8   2023-06-18 14:00:00-04:00 2023-06-18 18:00:00         True  \n9   2023-07-02 15:00:00+02:00 2023-07-02 13:00:00         True  \n10  2023-07-09 15:00:00+01:00 2023-07-09 14:00:00         True  \n11  2023-07-23 15:00:00+02:00 2023-07-23 13:00:00         True  \n12  2023-07-30 15:00:00+02:00 2023-07-30 13:00:00         True  \n13  2023-08-27 15:00:00+02:00 2023-08-27 13:00:00         True  \n14  2023-09-03 15:00:00+02:00 2023-09-03 13:00:00         True  \n15  2023-09-17 20:00:00+08:00 2023-09-17 12:00:00         True  \n16  2023-09-24 14:00:00+09:00 2023-09-24 05:00:00         True  \n17  2023-10-08 20:00:00+03:00 2023-10-08 17:00:00         True  \n18  2023-10-22 14:00:00-05:00 2023-10-22 19:00:00         True  \n19  2023-10-29 14:00:00-06:00 2023-10-29 20:00:00         True  \n20  2023-11-05 14:00:00-03:00 2023-11-05 17:00:00         True  \n21  2023-11-18 22:00:00-08:00 2023-11-19 06:00:00         True  \n22  2023-11-26 17:00:00+04:00 2023-11-26 13:00:00         True  \n\n[23 rows x 23 columns]",
      "text/html": "<div>\n<style scoped>\n    .dataframe tbody tr th:only-of-type {\n        vertical-align: middle;\n    }\n\n    .dataframe tbody tr th {\n        vertical-align: top;\n    }\n\n    .dataframe thead th {\n        text-align: right;\n    }\n</style>\n<table border=\"1\" class=\"dataframe\">\n  <thead>\n    <tr style=\"text-align: right;\">\n      <th></th>\n      <th>RoundNumber</th>\n      <th>Country</th>\n      <th>Location</th>\n      <th>OfficialEventName</th>\n      <th>EventDate</th>\n      <th>EventName</th>\n      <th>EventFormat</th>\n      <th>Session1</th>\n      <th>Session1Date</th>\n      <th>Session1DateUtc</th>\n      <th>...</th>\n      <th>Session3</th>\n      <th>Session3Date</th>\n      <th>Session3DateUtc</th>\n      <th>Session4</th>\n      <th>Session4Date</th>\n      <th>Session4DateUtc</th>\n      <th>Session5</th>\n      <th>Session5Date</th>\n      <th>Session5DateUtc</th>\n      <th>F1ApiSupport</th>\n    </tr>\n  </thead>\n  <tbody>\n    <tr>\n      <th>0</th>\n      <td>0</td>\n      <td>Bahrain</td>\n      <td>Sakhir</td>\n      <td>FORMULA 1 ARAMCO PRE-SEASON TESTING 2023</td>\n      <td>2023-02-25</td>\n      <td>Pre-Season Testing</td>\n      <td>testing</td>\n      <td>Practice 1</td>\n      <td>2023-02-23 10:00:00+03:00</td>\n      <td>2023-02-23 07:00:00</td>\n      <td>...</td>\n      <td>Practice 3</td>\n      <td>2023-02-25 10:00:00+03:00</td>\n      <td>2023-02-25 07:00:00</td>\n      <td>None</td>\n      <td>NaT</td>\n      <td>NaT</td>\n      <td>None</td>\n      <td>NaT</td>\n      <td>NaT</td>\n      <td>True</td>\n    </tr>\n    <tr>\n      <th>1</th>\n      <td>1</td>\n      <td>Bahrain</td>\n      <td>Sakhir</td>\n      <td>FORMULA 1 GULF AIR BAHRAIN GRAND PRIX 2023</td>\n      <td>2023-03-05</td>\n      <td>Bahrain Grand Prix</td>\n      <td>conventional</td>\n      <td>Practice 1</td>\n      <td>2023-03-03 14:30:00+03:00</td>\n      <td>2023-03-03 11:30:00</td>\n      <td>...</td>\n      <td>Practice 3</td>\n      <td>2023-03-04 14:30:00+03:00</td>\n      <td>2023-03-04 11:30:00</td>\n      <td>Qualifying</td>\n      <td>2023-03-04 18:00:00+03:00</td>\n      <td>2023-03-04 15:00:00</td>\n      <td>Race</td>\n      <td>2023-03-05 18:00:00+03:00</td>\n      <td>2023-03-05 15:00:00</td>\n      <td>True</td>\n    </tr>\n    <tr>\n      <th>2</th>\n      <td>2</td>\n      <td>Saudi Arabia</td>\n      <td>Jeddah</td>\n      <td>FORMULA 1 STC SAUDI ARABIAN GRAND PRIX 2023</td>\n      <td>2023-03-19</td>\n      <td>Saudi Arabian Grand Prix</td>\n      <td>conventional</td>\n      <td>Practice 1</td>\n      <td>2023-03-17 16:30:00+03:00</td>\n      <td>2023-03-17 13:30:00</td>\n      <td>...</td>\n      <td>Practice 3</td>\n      <td>2023-03-18 16:30:00+03:00</td>\n      <td>2023-03-18 13:30:00</td>\n      <td>Qualifying</td>\n      <td>2023-03-18 20:00:00+03:00</td>\n      <td>2023-03-18 17:00:00</td>\n      <td>Race</td>\n      <td>2023-03-19 20:00:00+03:00</td>\n      <td>2023-03-19 17:00:00</td>\n      <td>True</td>\n    </tr>\n    <tr>\n      <th>3</th>\n      <td>3</td>\n      <td>Australia</td>\n      <td>Melbourne</td>\n      <td>FORMULA 1 ROLEX AUSTRALIAN GRAND PRIX 2023</td>\n      <td>2023-04-02</td>\n      <td>Australian Grand Prix</td>\n      <td>conventional</td>\n      <td>Practice 1</td>\n      <td>2023-03-31 12:30:00+10:00</td>\n      <td>2023-03-31 02:30:00</td>\n      <td>...</td>\n      <td>Practice 3</td>\n      <td>2023-04-01 12:30:00+10:00</td>\n      <td>2023-04-01 02:30:00</td>\n      <td>Qualifying</td>\n      <td>2023-04-01 16:00:00+10:00</td>\n      <td>2023-04-01 06:00:00</td>\n      <td>Race</td>\n      <td>2023-04-02 15:00:00+10:00</td>\n      <td>2023-04-02 05:00:00</td>\n      <td>True</td>\n    </tr>\n    <tr>\n      <th>4</th>\n      <td>4</td>\n      <td>Azerbaijan</td>\n      <td>Baku</td>\n      <td>FORMULA 1 AZERBAIJAN GRAND PRIX 2023</td>\n      <td>2023-04-30</td>\n      <td>Azerbaijan Grand Prix</td>\n      <td>sprint_shootout</td>\n      <td>Practice 1</td>\n      <td>2023-04-28 13:30:00+04:00</td>\n      <td>2023-04-28 09:30:00</td>\n      <td>...</td>\n      <td>Sprint Shootout</td>\n      <td>2023-04-29 12:30:00+04:00</td>\n      <td>2023-04-29 08:30:00</td>\n      <td>Sprint</td>\n      <td>2023-04-29 17:30:00+04:00</td>\n      <td>2023-04-29 13:30:00</td>\n      <td>Race</td>\n      <td>2023-04-30 15:00:00+04:00</td>\n      <td>2023-04-30 11:00:00</td>\n      <td>True</td>\n    </tr>\n    <tr>\n      <th>5</th>\n      <td>5</td>\n      <td>United States</td>\n      <td>Miami</td>\n      <td>FORMULA 1 CRYPTO.COM MIAMI GRAND PRIX 2023</td>\n      <td>2023-05-07</td>\n      <td>Miami Grand Prix</td>\n      <td>conventional</td>\n      <td>Practice 1</td>\n      <td>2023-05-05 14:00:00-04:00</td>\n      <td>2023-05-05 18:00:00</td>\n      <td>...</td>\n      <td>Practice 3</td>\n      <td>2023-05-06 12:30:00-04:00</td>\n      <td>2023-05-06 16:30:00</td>\n      <td>Qualifying</td>\n      <td>2023-05-06 16:00:00-04:00</td>\n      <td>2023-05-06 20:00:00</td>\n      <td>Race</td>\n      <td>2023-05-07 15:30:00-04:00</td>\n      <td>2023-05-07 19:30:00</td>\n      <td>True</td>\n    </tr>\n    <tr>\n      <th>6</th>\n      <td>6</td>\n      <td>Monaco</td>\n      <td>Monaco</td>\n      <td>FORMULA 1 GRAND PRIX DE MONACO 2023</td>\n      <td>2023-05-28</td>\n      <td>Monaco Grand Prix</td>\n      <td>conventional</td>\n      <td>Practice 1</td>\n      <td>2023-05-26 13:30:00+02:00</td>\n      <td>2023-05-26 11:30:00</td>\n      <td>...</td>\n      <td>Practice 3</td>\n      <td>2023-05-27 12:30:00+02:00</td>\n      <td>2023-05-27 10:30:00</td>\n      <td>Qualifying</td>\n      <td>2023-05-27 16:00:00+02:00</td>\n      <td>2023-05-27 14:00:00</td>\n      <td>Race</td>\n      <td>2023-05-28 15:00:00+02:00</td>\n      <td>2023-05-28 13:00:00</td>\n      <td>True</td>\n    </tr>\n    <tr>\n      <th>7</th>\n      <td>7</td>\n      <td>Spain</td>\n      <td>Barcelona</td>\n      <td>FORMULA 1 AWS GRAN PREMIO DE ESPAÑA 2023</td>\n      <td>2023-06-04</td>\n      <td>Spanish Grand Prix</td>\n      <td>conventional</td>\n      <td>Practice 1</td>\n      <td>2023-06-02 13:30:00+02:00</td>\n      <td>2023-06-02 11:30:00</td>\n      <td>...</td>\n      <td>Practice 3</td>\n      <td>2023-06-03 12:30:00+02:00</td>\n      <td>2023-06-03 10:30:00</td>\n      <td>Qualifying</td>\n      <td>2023-06-03 16:00:00+02:00</td>\n      <td>2023-06-03 14:00:00</td>\n      <td>Race</td>\n      <td>2023-06-04 15:00:00+02:00</td>\n      <td>2023-06-04 13:00:00</td>\n      <td>True</td>\n    </tr>\n    <tr>\n      <th>8</th>\n      <td>8</td>\n      <td>Canada</td>\n      <td>Montréal</td>\n      <td>FORMULA 1 PIRELLI GRAND PRIX DU CANADA 2023</td>\n      <td>2023-06-18</td>\n      <td>Canadian Grand Prix</td>\n      <td>conventional</td>\n      <td>Practice 1</td>\n      <td>2023-06-16 13:30:00-04:00</td>\n      <td>2023-06-16 17:30:00</td>\n      <td>...</td>\n      <td>Practice 3</td>\n      <td>2023-06-17 12:30:00-04:00</td>\n      <td>2023-06-17 16:30:00</td>\n      <td>Qualifying</td>\n      <td>2023-06-17 16:00:00-04:00</td>\n      <td>2023-06-17 20:00:00</td>\n      <td>Race</td>\n      <td>2023-06-18 14:00:00-04:00</td>\n      <td>2023-06-18 18:00:00</td>\n      <td>True</td>\n    </tr>\n    <tr>\n      <th>9</th>\n      <td>9</td>\n      <td>Austria</td>\n      <td>Spielberg</td>\n      <td>FORMULA 1 ROLEX GROSSER PREIS VON ÖSTERREICH 2023</td>\n      <td>2023-07-02</td>\n      <td>Austrian Grand Prix</td>\n      <td>sprint_shootout</td>\n      <td>Practice 1</td>\n      <td>2023-06-30 13:30:00+02:00</td>\n      <td>2023-06-30 11:30:00</td>\n      <td>...</td>\n      <td>Sprint Shootout</td>\n      <td>2023-07-01 12:00:00+02:00</td>\n      <td>2023-07-01 10:00:00</td>\n      <td>Sprint</td>\n      <td>2023-07-01 16:30:00+02:00</td>\n      <td>2023-07-01 14:30:00</td>\n      <td>Race</td>\n      <td>2023-07-02 15:00:00+02:00</td>\n      <td>2023-07-02 13:00:00</td>\n      <td>True</td>\n    </tr>\n    <tr>\n      <th>10</th>\n      <td>10</td>\n      <td>Great Britain</td>\n      <td>Silverstone</td>\n      <td>FORMULA 1 ARAMCO BRITISH GRAND PRIX 2023</td>\n      <td>2023-07-09</td>\n      <td>British Grand Prix</td>\n      <td>conventional</td>\n      <td>Practice 1</td>\n      <td>2023-07-07 12:30:00+01:00</td>\n      <td>2023-07-07 11:30:00</td>\n      <td>...</td>\n      <td>Practice 3</td>\n      <td>2023-07-08 11:30:00+01:00</td>\n      <td>2023-07-08 10:30:00</td>\n      <td>Qualifying</td>\n      <td>2023-07-08 15:00:00+01:00</td>\n      <td>2023-07-08 14:00:00</td>\n      <td>Race</td>\n      <td>2023-07-09 15:00:00+01:00</td>\n      <td>2023-07-09 14:00:00</td>\n      <td>True</td>\n    </tr>\n    <tr>\n      <th>11</th>\n      <td>11</td>\n      <td>Hungary</td>\n      <td>Budapest</td>\n      <td>FORMULA 1 QATAR AIRWAYS HUNGARIAN GRAND PRIX 2023</td>\n      <td>2023-07-23</td>\n      <td>Hungarian Grand Prix</td>\n      <td>conventional</td>\n      <td>Practice 1</td>\n      <td>2023-07-21 13:30:00+02:00</td>\n      <td>2023-07-21 11:30:00</td>\n      <td>...</td>\n      <td>Practice 3</td>\n      <td>2023-07-22 12:30:00+02:00</td>\n      <td>2023-07-22 10:30:00</td>\n      <td>Qualifying</td>\n      <td>2023-07-22 16:00:00+02:00</td>\n      <td>2023-07-22 14:00:00</td>\n      <td>Race</td>\n      <td>2023-07-23 15:00:00+02:00</td>\n      <td>2023-07-23 13:00:00</td>\n      <td>True</td>\n    </tr>\n    <tr>\n      <th>12</th>\n      <td>12</td>\n      <td>Belgium</td>\n      <td>Spa-Francorchamps</td>\n      <td>FORMULA 1 MSC CRUISES BELGIAN GRAND PRIX 2023</td>\n      <td>2023-07-30</td>\n      <td>Belgian Grand Prix</td>\n      <td>sprint_shootout</td>\n      <td>Practice 1</td>\n      <td>2023-07-28 13:30:00+02:00</td>\n      <td>2023-07-28 11:30:00</td>\n      <td>...</td>\n      <td>Sprint Shootout</td>\n      <td>2023-07-29 12:00:00+02:00</td>\n      <td>2023-07-29 10:00:00</td>\n      <td>Sprint</td>\n      <td>2023-07-29 16:30:00+02:00</td>\n      <td>2023-07-29 14:30:00</td>\n      <td>Race</td>\n      <td>2023-07-30 15:00:00+02:00</td>\n      <td>2023-07-30 13:00:00</td>\n      <td>True</td>\n    </tr>\n    <tr>\n      <th>13</th>\n      <td>13</td>\n      <td>Netherlands</td>\n      <td>Zandvoort</td>\n      <td>FORMULA 1 HEINEKEN DUTCH GRAND PRIX 2023</td>\n      <td>2023-08-27</td>\n      <td>Dutch Grand Prix</td>\n      <td>conventional</td>\n      <td>Practice 1</td>\n      <td>2023-08-25 12:30:00+02:00</td>\n      <td>2023-08-25 10:30:00</td>\n      <td>...</td>\n      <td>Practice 3</td>\n      <td>2023-08-26 11:30:00+02:00</td>\n      <td>2023-08-26 09:30:00</td>\n      <td>Qualifying</td>\n      <td>2023-08-26 15:00:00+02:00</td>\n      <td>2023-08-26 13:00:00</td>\n      <td>Race</td>\n      <td>2023-08-27 15:00:00+02:00</td>\n      <td>2023-08-27 13:00:00</td>\n      <td>True</td>\n    </tr>\n    <tr>\n      <th>14</th>\n      <td>14</td>\n      <td>Italy</td>\n      <td>Monza</td>\n      <td>FORMULA 1 PIRELLI GRAN PREMIO D’ITALIA 2023</td>\n      <td>2023-09-03</td>\n      <td>Italian Grand Prix</td>\n      <td>conventional</td>\n      <td>Practice 1</td>\n      <td>2023-09-01 13:30:00+02:00</td>\n      <td>2023-09-01 11:30:00</td>\n      <td>...</td>\n      <td>Practice 3</td>\n      <td>2023-09-02 12:30:00+02:00</td>\n      <td>2023-09-02 10:30:00</td>\n      <td>Qualifying</td>\n      <td>2023-09-02 16:00:00+02:00</td>\n      <td>2023-09-02 14:00:00</td>\n      <td>Race</td>\n      <td>2023-09-03 15:00:00+02:00</td>\n      <td>2023-09-03 13:00:00</td>\n      <td>True</td>\n    </tr>\n    <tr>\n      <th>15</th>\n      <td>15</td>\n      <td>Singapore</td>\n      <td>Marina Bay</td>\n      <td>FORMULA 1 SINGAPORE AIRLINES SINGAPORE GRAND P...</td>\n      <td>2023-09-17</td>\n      <td>Singapore Grand Prix</td>\n      <td>conventional</td>\n      <td>Practice 1</td>\n      <td>2023-09-15 17:30:00+08:00</td>\n      <td>2023-09-15 09:30:00</td>\n      <td>...</td>\n      <td>Practice 3</td>\n      <td>2023-09-16 17:30:00+08:00</td>\n      <td>2023-09-16 09:30:00</td>\n      <td>Qualifying</td>\n      <td>2023-09-16 21:00:00+08:00</td>\n      <td>2023-09-16 13:00:00</td>\n      <td>Race</td>\n      <td>2023-09-17 20:00:00+08:00</td>\n      <td>2023-09-17 12:00:00</td>\n      <td>True</td>\n    </tr>\n    <tr>\n      <th>16</th>\n      <td>16</td>\n      <td>Japan</td>\n      <td>Suzuka</td>\n      <td>FORMULA 1 LENOVO JAPANESE GRAND PRIX 2023</td>\n      <td>2023-09-24</td>\n      <td>Japanese Grand Prix</td>\n      <td>conventional</td>\n      <td>Practice 1</td>\n      <td>2023-09-22 11:30:00+09:00</td>\n      <td>2023-09-22 02:30:00</td>\n      <td>...</td>\n      <td>Practice 3</td>\n      <td>2023-09-23 11:30:00+09:00</td>\n      <td>2023-09-23 02:30:00</td>\n      <td>Qualifying</td>\n      <td>2023-09-23 15:00:00+09:00</td>\n      <td>2023-09-23 06:00:00</td>\n      <td>Race</td>\n      <td>2023-09-24 14:00:00+09:00</td>\n      <td>2023-09-24 05:00:00</td>\n      <td>True</td>\n    </tr>\n    <tr>\n      <th>17</th>\n      <td>17</td>\n      <td>Qatar</td>\n      <td>Lusail</td>\n      <td>FORMULA 1 QATAR AIRWAYS QATAR GRAND PRIX 2023</td>\n      <td>2023-10-08</td>\n      <td>Qatar Grand Prix</td>\n      <td>sprint_shootout</td>\n      <td>Practice 1</td>\n      <td>2023-10-06 16:30:00+03:00</td>\n      <td>2023-10-06 13:30:00</td>\n      <td>...</td>\n      <td>Sprint Shootout</td>\n      <td>2023-10-07 16:00:00+03:00</td>\n      <td>2023-10-07 13:00:00</td>\n      <td>Sprint</td>\n      <td>2023-10-07 20:30:00+03:00</td>\n      <td>2023-10-07 17:30:00</td>\n      <td>Race</td>\n      <td>2023-10-08 20:00:00+03:00</td>\n      <td>2023-10-08 17:00:00</td>\n      <td>True</td>\n    </tr>\n    <tr>\n      <th>18</th>\n      <td>18</td>\n      <td>United States</td>\n      <td>Austin</td>\n      <td>FORMULA 1 LENOVO UNITED STATES GRAND PRIX 2023</td>\n      <td>2023-10-22</td>\n      <td>United States Grand Prix</td>\n      <td>sprint_shootout</td>\n      <td>Practice 1</td>\n      <td>2023-10-20 12:30:00-05:00</td>\n      <td>2023-10-20 17:30:00</td>\n      <td>...</td>\n      <td>Sprint Shootout</td>\n      <td>2023-10-21 12:30:00-05:00</td>\n      <td>2023-10-21 17:30:00</td>\n      <td>Sprint</td>\n      <td>2023-10-21 17:00:00-05:00</td>\n      <td>2023-10-21 22:00:00</td>\n      <td>Race</td>\n      <td>2023-10-22 14:00:00-05:00</td>\n      <td>2023-10-22 19:00:00</td>\n      <td>True</td>\n    </tr>\n    <tr>\n      <th>19</th>\n      <td>19</td>\n      <td>Mexico</td>\n      <td>Mexico City</td>\n      <td>FORMULA 1 GRAN PREMIO DE LA CIUDAD DE MÉXICO 2023</td>\n      <td>2023-10-29</td>\n      <td>Mexico City Grand Prix</td>\n      <td>conventional</td>\n      <td>Practice 1</td>\n      <td>2023-10-27 12:30:00-06:00</td>\n      <td>2023-10-27 18:30:00</td>\n      <td>...</td>\n      <td>Practice 3</td>\n      <td>2023-10-28 11:30:00-06:00</td>\n      <td>2023-10-28 17:30:00</td>\n      <td>Qualifying</td>\n      <td>2023-10-28 15:00:00-06:00</td>\n      <td>2023-10-28 21:00:00</td>\n      <td>Race</td>\n      <td>2023-10-29 14:00:00-06:00</td>\n      <td>2023-10-29 20:00:00</td>\n      <td>True</td>\n    </tr>\n    <tr>\n      <th>20</th>\n      <td>20</td>\n      <td>Brazil</td>\n      <td>São Paulo</td>\n      <td>FORMULA 1 ROLEX GRANDE PRÊMIO DE SÃO PAULO 2023</td>\n      <td>2023-11-05</td>\n      <td>São Paulo Grand Prix</td>\n      <td>sprint_shootout</td>\n      <td>Practice 1</td>\n      <td>2023-11-03 11:30:00-03:00</td>\n      <td>2023-11-03 14:30:00</td>\n      <td>...</td>\n      <td>Sprint Shootout</td>\n      <td>2023-11-04 11:00:00-03:00</td>\n      <td>2023-11-04 14:00:00</td>\n      <td>Sprint</td>\n      <td>2023-11-04 15:30:00-03:00</td>\n      <td>2023-11-04 18:30:00</td>\n      <td>Race</td>\n      <td>2023-11-05 14:00:00-03:00</td>\n      <td>2023-11-05 17:00:00</td>\n      <td>True</td>\n    </tr>\n    <tr>\n      <th>21</th>\n      <td>21</td>\n      <td>United States</td>\n      <td>Las Vegas</td>\n      <td>FORMULA 1 HEINEKEN SILVER LAS VEGAS GRAND PRIX...</td>\n      <td>2023-11-18</td>\n      <td>Las Vegas Grand Prix</td>\n      <td>conventional</td>\n      <td>Practice 1</td>\n      <td>2023-11-16 20:30:00-08:00</td>\n      <td>2023-11-17 04:30:00</td>\n      <td>...</td>\n      <td>Practice 3</td>\n      <td>2023-11-17 20:30:00-08:00</td>\n      <td>2023-11-18 04:30:00</td>\n      <td>Qualifying</td>\n      <td>2023-11-18 00:00:00-08:00</td>\n      <td>2023-11-18 08:00:00</td>\n      <td>Race</td>\n      <td>2023-11-18 22:00:00-08:00</td>\n      <td>2023-11-19 06:00:00</td>\n      <td>True</td>\n    </tr>\n    <tr>\n      <th>22</th>\n      <td>22</td>\n      <td>Abu Dhabi</td>\n      <td>Yas Island</td>\n      <td>FORMULA 1 ETIHAD AIRWAYS ABU DHABI GRAND PRIX ...</td>\n      <td>2023-11-26</td>\n      <td>Abu Dhabi Grand Prix</td>\n      <td>conventional</td>\n      <td>Practice 1</td>\n      <td>2023-11-24 13:30:00+04:00</td>\n      <td>2023-11-24 09:30:00</td>\n      <td>...</td>\n      <td>Practice 3</td>\n      <td>2023-11-25 14:30:00+04:00</td>\n      <td>2023-11-25 10:30:00</td>\n      <td>Qualifying</td>\n      <td>2023-11-25 18:00:00+04:00</td>\n      <td>2023-11-25 14:00:00</td>\n      <td>Race</td>\n      <td>2023-11-26 17:00:00+04:00</td>\n      <td>2023-11-26 13:00:00</td>\n      <td>True</td>\n    </tr>\n  </tbody>\n</table>\n<p>23 rows × 23 columns</p>\n</div>"
     },
     "execution_count": 4,
     "metadata": {},
     "output_type": "execute_result"
    }
   ],
   "source": [
    "schedule2023"
   ],
   "metadata": {
    "collapsed": false,
    "ExecuteTime": {
     "end_time": "2023-06-07T02:18:02.584786Z",
     "start_time": "2023-06-07T02:18:02.560602Z"
    }
   }
  },
  {
   "cell_type": "code",
   "execution_count": 7,
   "outputs": [
    {
     "name": "stderr",
     "output_type": "stream",
     "text": [
      "core           INFO \tLoading data for Bahrain Grand Prix - Qualifying [v3.0.3]\n",
      "req            INFO \tUsing cached data for driver_info\n",
      "req            INFO \tUsing cached data for session_status_data\n",
      "req            INFO \tUsing cached data for track_status_data\n",
      "req            INFO \tUsing cached data for timing_data\n",
      "req            INFO \tUsing cached data for timing_app_data\n",
      "core           INFO \tProcessing timing data...\n",
      "req            INFO \tUsing cached data for car_data\n",
      "req            INFO \tUsing cached data for position_data\n",
      "req            INFO \tUsing cached data for weather_data\n",
      "req            INFO \tUsing cached data for race_control_messages\n",
      "core           INFO \tFinished loading data for 20 drivers: ['1', '11', '16', '55', '14', '63', '44', '18', '31', '27', '4', '77', '24', '22', '23', '2', '20', '81', '21', '10']\n",
      "core           INFO \tLoading data for Bahrain Grand Prix - Qualifying [v3.0.3]\n",
      "req            INFO \tUsing cached data for driver_info\n",
      "req            INFO \tUsing cached data for session_status_data\n",
      "req            INFO \tUsing cached data for track_status_data\n",
      "req            INFO \tUsing cached data for timing_data\n",
      "req            INFO \tUsing cached data for timing_app_data\n",
      "core           INFO \tProcessing timing data...\n",
      "req            INFO \tUsing cached data for car_data\n",
      "req            INFO \tUsing cached data for position_data\n",
      "req            INFO \tUsing cached data for weather_data\n",
      "req            INFO \tUsing cached data for race_control_messages\n",
      "core           INFO \tFinished loading data for 20 drivers: ['1', '11', '16', '55', '14', '63', '44', '18', '31', '27', '4', '77', '24', '22', '23', '2', '20', '81', '21', '10']\n",
      "core           INFO \tLoading data for Saudi Arabian Grand Prix - Qualifying [v3.0.3]\n",
      "req            INFO \tUsing cached data for driver_info\n",
      "req            INFO \tUsing cached data for session_status_data\n",
      "req            INFO \tUsing cached data for track_status_data\n",
      "req            INFO \tUsing cached data for timing_data\n",
      "req            INFO \tUsing cached data for timing_app_data\n",
      "core           INFO \tProcessing timing data...\n",
      "req            INFO \tUsing cached data for car_data\n",
      "req            INFO \tUsing cached data for position_data\n",
      "req            INFO \tUsing cached data for weather_data\n",
      "req            INFO \tUsing cached data for race_control_messages\n",
      "core           INFO \tFinished loading data for 20 drivers: ['11', '16', '14', '63', '55', '18', '31', '44', '81', '10', '27', '24', '20', '77', '1', '22', '23', '21', '4', '2']\n",
      "core           INFO \tLoading data for Australian Grand Prix - Qualifying [v3.0.3]\n",
      "req            INFO \tUsing cached data for driver_info\n",
      "req            INFO \tUsing cached data for session_status_data\n",
      "req            INFO \tUsing cached data for track_status_data\n",
      "req            INFO \tUsing cached data for timing_data\n",
      "req            INFO \tUsing cached data for timing_app_data\n",
      "core           INFO \tProcessing timing data...\n",
      "req            INFO \tUsing cached data for car_data\n",
      "req            INFO \tUsing cached data for position_data\n",
      "req            INFO \tUsing cached data for weather_data\n",
      "req            INFO \tUsing cached data for race_control_messages\n",
      "core           INFO \tFinished loading data for 20 drivers: ['1', '63', '44', '14', '55', '18', '16', '23', '10', '27', '31', '22', '4', '20', '21', '81', '24', '2', '77', '11']\n",
      "core           INFO \tLoading data for Azerbaijan Grand Prix - Qualifying [v3.0.3]\n",
      "req            INFO \tUsing cached data for driver_info\n",
      "req            INFO \tUsing cached data for session_status_data\n",
      "req            INFO \tUsing cached data for track_status_data\n",
      "req            INFO \tUsing cached data for timing_data\n",
      "req            INFO \tUsing cached data for timing_app_data\n",
      "core           INFO \tProcessing timing data...\n",
      "req            INFO \tUsing cached data for car_data\n",
      "req            INFO \tUsing cached data for position_data\n",
      "req            INFO \tUsing cached data for weather_data\n",
      "req            INFO \tUsing cached data for race_control_messages\n",
      "core           INFO \tFinished loading data for 20 drivers: ['16', '1', '11', '55', '44', '14', '4', '22', '18', '81', '63', '31', '23', '77', '2', '24', '27', '20', '10', '21']\n",
      "core           INFO \tLoading data for Miami Grand Prix - Qualifying [v3.0.3]\n",
      "req            INFO \tUsing cached data for driver_info\n",
      "req            INFO \tUsing cached data for session_status_data\n",
      "req            INFO \tUsing cached data for track_status_data\n",
      "req            INFO \tUsing cached data for timing_data\n",
      "req            INFO \tUsing cached data for timing_app_data\n",
      "core           INFO \tProcessing timing data...\n",
      "req            INFO \tUsing cached data for car_data\n",
      "req            INFO \tUsing cached data for position_data\n",
      "req            INFO \tUsing cached data for weather_data\n",
      "req            INFO \tUsing cached data for race_control_messages\n",
      "core           INFO \tFinished loading data for 20 drivers: ['11', '14', '55', '20', '10', '63', '16', '31', '1', '77', '23', '27', '44', '24', '21', '4', '22', '18', '81', '2']\n",
      "core           INFO \tLoading data for Monaco Grand Prix - Qualifying [v3.0.3]\n",
      "req            INFO \tUsing cached data for driver_info\n",
      "req            INFO \tUsing cached data for session_status_data\n",
      "req            INFO \tUsing cached data for track_status_data\n",
      "req            INFO \tUsing cached data for timing_data\n",
      "req            INFO \tUsing cached data for timing_app_data\n",
      "core           INFO \tProcessing timing data...\n",
      "req            INFO \tUsing cached data for car_data\n",
      "req            INFO \tUsing cached data for position_data\n",
      "req            INFO \tUsing cached data for weather_data\n",
      "req            INFO \tUsing cached data for race_control_messages\n",
      "core           INFO \tFinished loading data for 20 drivers: ['1', '14', '16', '31', '55', '44', '10', '63', '22', '4', '81', '21', '23', '18', '77', '2', '20', '27', '24', '11']\n",
      "core           INFO \tLoading data for Spanish Grand Prix - Qualifying [v3.0.3]\n",
      "req            INFO \tUsing cached data for driver_info\n",
      "req            INFO \tUsing cached data for session_status_data\n",
      "req            INFO \tUsing cached data for track_status_data\n",
      "req            INFO \tUsing cached data for timing_data\n",
      "req            INFO \tUsing cached data for timing_app_data\n",
      "core           INFO \tProcessing timing data...\n",
      "req            INFO \tUsing cached data for car_data\n",
      "req            INFO \tUsing cached data for position_data\n",
      "req            INFO \tUsing cached data for weather_data\n",
      "req            INFO \tUsing cached data for race_control_messages\n",
      "core           INFO \tFinished loading data for 20 drivers: ['1', '55', '4', '10', '44', '18', '31', '27', '14', '81', '11', '63', '24', '21', '22', '77', '20', '23', '16', '2']\n",
      "core           INFO \tLoading data for Canadian Grand Prix - Qualifying [v3.0.3]\n",
      "req            INFO \tNo cached data found for driver_info. Loading data...\n",
      "_api           INFO \tFetching driver list...\n",
      "core        WARNING \tFailed to load extended driver information!\n",
      "core        WARNING \tNo result data for this session available on Ergast! (This is expected for recent sessions)\n",
      "logger      WARNING \tFailed to load results data!\n",
      "req            INFO \tNo cached data found for session_status_data. Loading data...\n",
      "_api           INFO \tFetching session status data...\n",
      "logger      WARNING \tFailed to load session status data!\n",
      "req            INFO \tNo cached data found for track_status_data. Loading data...\n",
      "_api           INFO \tFetching track status data...\n",
      "logger      WARNING \tFailed to load track status data!\n",
      "req            INFO \tNo cached data found for timing_data. Loading data...\n",
      "_api           INFO \tFetching timing data...\n",
      "logger      WARNING \tFailed to load timing data!\n",
      "req            INFO \tNo cached data found for car_data. Loading data...\n",
      "_api           INFO \tFetching car data...\n",
      "logger      WARNING \tFailed to load telemetry data!\n",
      "req            INFO \tNo cached data found for weather_data. Loading data...\n",
      "_api           INFO \tFetching weather data...\n",
      "logger      WARNING \tFailed to load weather data!\n",
      "req            INFO \tNo cached data found for race_control_messages. Loading data...\n",
      "_api           INFO \tFetching race control messages...\n",
      "logger      WARNING \tFailed to load race control messages!\n"
     ]
    },
    {
     "name": "stdout",
     "output_type": "stream",
     "text": [
      "No data for Montréal in 2023\n"
     ]
    },
    {
     "name": "stderr",
     "output_type": "stream",
     "text": [
      "core           INFO \tLoading data for Canadian Grand Prix - Qualifying [v3.0.3]\n",
      "req            INFO \tUsing cached data for driver_info\n",
      "req            INFO \tUsing cached data for session_status_data\n",
      "req            INFO \tUsing cached data for track_status_data\n",
      "req            INFO \tUsing cached data for timing_data\n",
      "req            INFO \tUsing cached data for timing_app_data\n",
      "core           INFO \tProcessing timing data...\n",
      "req            INFO \tUsing cached data for car_data\n",
      "req            INFO \tUsing cached data for position_data\n",
      "req            INFO \tUsing cached data for weather_data\n",
      "req            INFO \tUsing cached data for race_control_messages\n",
      "core           INFO \tFinished loading data for 20 drivers: ['1', '14', '55', '44', '20', '47', '31', '63', '3', '24', '77', '23', '11', '4', '16', '10', '5', '18', '6', '22']\n",
      "core           INFO \tLoading data for Austrian Grand Prix - Qualifying [v3.0.3]\n",
      "req            INFO \tNo cached data found for driver_info. Loading data...\n",
      "_api           INFO \tFetching driver list...\n",
      "core        WARNING \tFailed to load extended driver information!\n",
      "core        WARNING \tNo result data for this session available on Ergast! (This is expected for recent sessions)\n",
      "logger      WARNING \tFailed to load results data!\n",
      "req            INFO \tNo cached data found for session_status_data. Loading data...\n",
      "_api           INFO \tFetching session status data...\n",
      "logger      WARNING \tFailed to load session status data!\n",
      "req            INFO \tNo cached data found for track_status_data. Loading data...\n",
      "_api           INFO \tFetching track status data...\n",
      "logger      WARNING \tFailed to load track status data!\n",
      "req            INFO \tNo cached data found for timing_data. Loading data...\n",
      "_api           INFO \tFetching timing data...\n",
      "logger      WARNING \tFailed to load timing data!\n",
      "req            INFO \tNo cached data found for car_data. Loading data...\n",
      "_api           INFO \tFetching car data...\n",
      "logger      WARNING \tFailed to load telemetry data!\n",
      "req            INFO \tNo cached data found for weather_data. Loading data...\n",
      "_api           INFO \tFetching weather data...\n",
      "logger      WARNING \tFailed to load weather data!\n",
      "req            INFO \tNo cached data found for race_control_messages. Loading data...\n",
      "_api           INFO \tFetching race control messages...\n",
      "logger      WARNING \tFailed to load race control messages!\n",
      "core           INFO \tLoading data for Austrian Grand Prix - Qualifying [v3.0.3]\n",
      "req            INFO \tUsing cached data for driver_info\n"
     ]
    },
    {
     "name": "stdout",
     "output_type": "stream",
     "text": [
      "No data for Spielberg in 2023\n"
     ]
    },
    {
     "name": "stderr",
     "output_type": "stream",
     "text": [
      "req            INFO \tUsing cached data for session_status_data\n",
      "req            INFO \tUsing cached data for track_status_data\n",
      "req            INFO \tUsing cached data for timing_data\n",
      "req            INFO \tUsing cached data for timing_app_data\n",
      "core           INFO \tProcessing timing data...\n",
      "req            INFO \tUsing cached data for car_data\n",
      "req            INFO \tUsing cached data for position_data\n",
      "req            INFO \tUsing cached data for weather_data\n",
      "req            INFO \tUsing cached data for race_control_messages\n",
      "core           INFO \tFinished loading data for 20 drivers: ['1', '16', '55', '63', '31', '20', '47', '14', '44', '10', '23', '77', '11', '22', '4', '3', '18', '24', '6', '5']\n",
      "core           INFO \tLoading data for British Grand Prix - Qualifying [v3.0.3]\n",
      "req            INFO \tNo cached data found for driver_info. Loading data...\n",
      "_api           INFO \tFetching driver list...\n",
      "core        WARNING \tFailed to load extended driver information!\n",
      "core        WARNING \tNo result data for this session available on Ergast! (This is expected for recent sessions)\n",
      "logger      WARNING \tFailed to load results data!\n",
      "req            INFO \tNo cached data found for session_status_data. Loading data...\n",
      "_api           INFO \tFetching session status data...\n",
      "logger      WARNING \tFailed to load session status data!\n",
      "req            INFO \tNo cached data found for track_status_data. Loading data...\n",
      "_api           INFO \tFetching track status data...\n",
      "logger      WARNING \tFailed to load track status data!\n",
      "req            INFO \tNo cached data found for timing_data. Loading data...\n",
      "_api           INFO \tFetching timing data...\n",
      "logger      WARNING \tFailed to load timing data!\n",
      "req            INFO \tNo cached data found for car_data. Loading data...\n",
      "_api           INFO \tFetching car data...\n",
      "logger      WARNING \tFailed to load telemetry data!\n",
      "req            INFO \tNo cached data found for weather_data. Loading data...\n",
      "_api           INFO \tFetching weather data...\n",
      "logger      WARNING \tFailed to load weather data!\n",
      "req            INFO \tNo cached data found for race_control_messages. Loading data...\n",
      "_api           INFO \tFetching race control messages...\n",
      "logger      WARNING \tFailed to load race control messages!\n",
      "core           INFO \tLoading data for British Grand Prix - Qualifying [v3.0.3]\n",
      "req            INFO \tUsing cached data for driver_info\n"
     ]
    },
    {
     "name": "stdout",
     "output_type": "stream",
     "text": [
      "No data for Silverstone in 2023\n"
     ]
    },
    {
     "name": "stderr",
     "output_type": "stream",
     "text": [
      "req            INFO \tUsing cached data for session_status_data\n",
      "req            INFO \tUsing cached data for track_status_data\n",
      "req            INFO \tUsing cached data for timing_data\n",
      "req            INFO \tUsing cached data for timing_app_data\n",
      "core           INFO \tProcessing timing data...\n",
      "req            INFO \tUsing cached data for car_data\n",
      "req            INFO \tUsing cached data for position_data\n",
      "req            INFO \tUsing cached data for weather_data\n",
      "req            INFO \tUsing cached data for race_control_messages\n",
      "core           INFO \tFinished loading data for 20 drivers: ['55', '1', '16', '11', '44', '4', '14', '63', '24', '6', '10', '77', '22', '3', '31', '23', '20', '5', '47', '18']\n",
      "core           INFO \tLoading data for Hungarian Grand Prix - Qualifying [v3.0.3]\n",
      "req            INFO \tNo cached data found for driver_info. Loading data...\n",
      "_api           INFO \tFetching driver list...\n",
      "core        WARNING \tFailed to load extended driver information!\n",
      "core        WARNING \tNo result data for this session available on Ergast! (This is expected for recent sessions)\n",
      "logger      WARNING \tFailed to load results data!\n",
      "req            INFO \tNo cached data found for session_status_data. Loading data...\n",
      "_api           INFO \tFetching session status data...\n",
      "logger      WARNING \tFailed to load session status data!\n",
      "req            INFO \tNo cached data found for track_status_data. Loading data...\n",
      "_api           INFO \tFetching track status data...\n",
      "logger      WARNING \tFailed to load track status data!\n",
      "req            INFO \tNo cached data found for timing_data. Loading data...\n",
      "_api           INFO \tFetching timing data...\n",
      "logger      WARNING \tFailed to load timing data!\n",
      "req            INFO \tNo cached data found for car_data. Loading data...\n",
      "_api           INFO \tFetching car data...\n",
      "logger      WARNING \tFailed to load telemetry data!\n",
      "req            INFO \tNo cached data found for weather_data. Loading data...\n",
      "_api           INFO \tFetching weather data...\n",
      "logger      WARNING \tFailed to load weather data!\n",
      "req            INFO \tNo cached data found for race_control_messages. Loading data...\n",
      "_api           INFO \tFetching race control messages...\n",
      "logger      WARNING \tFailed to load race control messages!\n",
      "core           INFO \tLoading data for Hungarian Grand Prix - Qualifying [v3.0.3]\n",
      "req            INFO \tUsing cached data for driver_info\n"
     ]
    },
    {
     "name": "stdout",
     "output_type": "stream",
     "text": [
      "No data for Budapest in 2023\n"
     ]
    },
    {
     "name": "stderr",
     "output_type": "stream",
     "text": [
      "req            INFO \tUsing cached data for session_status_data\n",
      "req            INFO \tUsing cached data for track_status_data\n",
      "req            INFO \tUsing cached data for timing_data\n",
      "req            INFO \tUsing cached data for timing_app_data\n",
      "core           INFO \tProcessing timing data...\n",
      "req            INFO \tUsing cached data for car_data\n",
      "req            INFO \tUsing cached data for position_data\n",
      "req            INFO \tUsing cached data for weather_data\n",
      "req            INFO \tUsing cached data for race_control_messages\n",
      "core           INFO \tFinished loading data for 20 drivers: ['63', '55', '16', '4', '31', '14', '44', '77', '3', '1', '11', '24', '20', '18', '47', '22', '23', '5', '10', '6']\n",
      "core           INFO \tLoading data for Belgian Grand Prix - Qualifying [v3.0.3]\n",
      "req            INFO \tNo cached data found for driver_info. Loading data...\n",
      "_api           INFO \tFetching driver list...\n",
      "core        WARNING \tFailed to load extended driver information!\n",
      "core        WARNING \tNo result data for this session available on Ergast! (This is expected for recent sessions)\n",
      "logger      WARNING \tFailed to load results data!\n",
      "req            INFO \tNo cached data found for session_status_data. Loading data...\n",
      "_api           INFO \tFetching session status data...\n",
      "logger      WARNING \tFailed to load session status data!\n",
      "req            INFO \tNo cached data found for track_status_data. Loading data...\n",
      "_api           INFO \tFetching track status data...\n",
      "logger      WARNING \tFailed to load track status data!\n",
      "req            INFO \tNo cached data found for timing_data. Loading data...\n",
      "_api           INFO \tFetching timing data...\n",
      "logger      WARNING \tFailed to load timing data!\n",
      "req            INFO \tNo cached data found for car_data. Loading data...\n",
      "_api           INFO \tFetching car data...\n",
      "logger      WARNING \tFailed to load telemetry data!\n",
      "req            INFO \tNo cached data found for weather_data. Loading data...\n",
      "_api           INFO \tFetching weather data...\n",
      "logger      WARNING \tFailed to load weather data!\n",
      "req            INFO \tNo cached data found for race_control_messages. Loading data...\n",
      "_api           INFO \tFetching race control messages...\n",
      "logger      WARNING \tFailed to load race control messages!\n",
      "core           INFO \tLoading data for Belgian Grand Prix - Qualifying [v3.0.3]\n",
      "req            INFO \tUsing cached data for driver_info\n"
     ]
    },
    {
     "name": "stdout",
     "output_type": "stream",
     "text": [
      "No data for Spa-Francorchamps in 2023\n"
     ]
    },
    {
     "name": "stderr",
     "output_type": "stream",
     "text": [
      "req            INFO \tUsing cached data for session_status_data\n",
      "req            INFO \tUsing cached data for track_status_data\n",
      "req            INFO \tUsing cached data for timing_data\n",
      "req            INFO \tUsing cached data for timing_app_data\n",
      "core           INFO \tProcessing timing data...\n",
      "req            INFO \tUsing cached data for car_data\n",
      "req            INFO \tUsing cached data for position_data\n",
      "req            INFO \tUsing cached data for weather_data\n",
      "req            INFO \tUsing cached data for race_control_messages\n",
      "core           INFO \tFinished loading data for 20 drivers: ['1', '55', '11', '16', '31', '14', '44', '63', '23', '4', '3', '10', '24', '18', '47', '5', '6', '20', '22', '77']\n",
      "core           INFO \tLoading data for Dutch Grand Prix - Qualifying [v3.0.3]\n",
      "req            INFO \tNo cached data found for driver_info. Loading data...\n",
      "_api           INFO \tFetching driver list...\n",
      "core        WARNING \tFailed to load extended driver information!\n",
      "core        WARNING \tNo result data for this session available on Ergast! (This is expected for recent sessions)\n",
      "logger      WARNING \tFailed to load results data!\n",
      "req            INFO \tNo cached data found for session_status_data. Loading data...\n",
      "_api           INFO \tFetching session status data...\n",
      "logger      WARNING \tFailed to load session status data!\n",
      "req            INFO \tNo cached data found for track_status_data. Loading data...\n",
      "_api           INFO \tFetching track status data...\n",
      "logger      WARNING \tFailed to load track status data!\n",
      "req            INFO \tNo cached data found for timing_data. Loading data...\n",
      "_api           INFO \tFetching timing data...\n",
      "logger      WARNING \tFailed to load timing data!\n",
      "req            INFO \tNo cached data found for car_data. Loading data...\n",
      "_api           INFO \tFetching car data...\n",
      "logger      WARNING \tFailed to load telemetry data!\n",
      "req            INFO \tNo cached data found for weather_data. Loading data...\n",
      "_api           INFO \tFetching weather data...\n",
      "logger      WARNING \tFailed to load weather data!\n",
      "req            INFO \tNo cached data found for race_control_messages. Loading data...\n",
      "_api           INFO \tFetching race control messages...\n",
      "logger      WARNING \tFailed to load race control messages!\n",
      "core           INFO \tLoading data for Dutch Grand Prix - Qualifying [v3.0.3]\n",
      "req            INFO \tUsing cached data for driver_info\n"
     ]
    },
    {
     "name": "stdout",
     "output_type": "stream",
     "text": [
      "No data for Zandvoort in 2023\n"
     ]
    },
    {
     "name": "stderr",
     "output_type": "stream",
     "text": [
      "req            INFO \tUsing cached data for session_status_data\n",
      "req            INFO \tUsing cached data for track_status_data\n",
      "req            INFO \tUsing cached data for timing_data\n",
      "req            INFO \tUsing cached data for timing_app_data\n",
      "core           INFO \tProcessing timing data...\n",
      "req            INFO \tUsing cached data for car_data\n",
      "req            INFO \tUsing cached data for position_data\n",
      "req            INFO \tUsing cached data for weather_data\n",
      "req            INFO \tUsing cached data for race_control_messages\n",
      "core           INFO \tFinished loading data for 20 drivers: ['1', '16', '55', '44', '11', '63', '4', '47', '22', '18', '10', '31', '14', '24', '23', '77', '3', '20', '5', '6']\n",
      "core           INFO \tLoading data for Italian Grand Prix - Qualifying [v3.0.3]\n",
      "req            INFO \tNo cached data found for driver_info. Loading data...\n",
      "_api           INFO \tFetching driver list...\n",
      "core        WARNING \tFailed to load extended driver information!\n",
      "core        WARNING \tNo result data for this session available on Ergast! (This is expected for recent sessions)\n",
      "logger      WARNING \tFailed to load results data!\n",
      "req            INFO \tNo cached data found for session_status_data. Loading data...\n",
      "_api           INFO \tFetching session status data...\n",
      "logger      WARNING \tFailed to load session status data!\n",
      "req            INFO \tNo cached data found for track_status_data. Loading data...\n",
      "_api           INFO \tFetching track status data...\n",
      "logger      WARNING \tFailed to load track status data!\n",
      "req            INFO \tNo cached data found for timing_data. Loading data...\n",
      "_api           INFO \tFetching timing data...\n",
      "logger      WARNING \tFailed to load timing data!\n",
      "req            INFO \tNo cached data found for car_data. Loading data...\n",
      "_api           INFO \tFetching car data...\n",
      "logger      WARNING \tFailed to load telemetry data!\n",
      "req            INFO \tNo cached data found for weather_data. Loading data...\n",
      "_api           INFO \tFetching weather data...\n",
      "logger      WARNING \tFailed to load weather data!\n",
      "req            INFO \tNo cached data found for race_control_messages. Loading data...\n",
      "_api           INFO \tFetching race control messages...\n",
      "logger      WARNING \tFailed to load race control messages!\n",
      "core           INFO \tLoading data for Italian Grand Prix - Qualifying [v3.0.3]\n",
      "req            INFO \tUsing cached data for driver_info\n"
     ]
    },
    {
     "name": "stdout",
     "output_type": "stream",
     "text": [
      "No data for Monza in 2023\n"
     ]
    },
    {
     "name": "stderr",
     "output_type": "stream",
     "text": [
      "req            INFO \tUsing cached data for session_status_data\n",
      "req            INFO \tUsing cached data for track_status_data\n",
      "req            INFO \tUsing cached data for timing_data\n",
      "req            INFO \tUsing cached data for timing_app_data\n",
      "core           INFO \tProcessing timing data...\n",
      "req            INFO \tUsing cached data for car_data\n",
      "req            INFO \tUsing cached data for position_data\n",
      "req            INFO \tUsing cached data for weather_data\n",
      "req            INFO \tUsing cached data for race_control_messages\n",
      "core           INFO \tFinished loading data for 20 drivers: ['16', '1', '55', '11', '44', '63', '4', '3', '10', '14', '31', '77', '45', '24', '22', '6', '5', '18', '20', '47']\n",
      "core           INFO \tLoading data for Singapore Grand Prix - Qualifying [v3.0.3]\n",
      "req            INFO \tNo cached data found for driver_info. Loading data...\n",
      "_api           INFO \tFetching driver list...\n",
      "core        WARNING \tFailed to load extended driver information!\n",
      "core        WARNING \tNo result data for this session available on Ergast! (This is expected for recent sessions)\n",
      "logger      WARNING \tFailed to load results data!\n",
      "req            INFO \tNo cached data found for session_status_data. Loading data...\n",
      "_api           INFO \tFetching session status data...\n",
      "logger      WARNING \tFailed to load session status data!\n",
      "req            INFO \tNo cached data found for track_status_data. Loading data...\n",
      "_api           INFO \tFetching track status data...\n",
      "logger      WARNING \tFailed to load track status data!\n",
      "req            INFO \tNo cached data found for timing_data. Loading data...\n",
      "_api           INFO \tFetching timing data...\n",
      "logger      WARNING \tFailed to load timing data!\n",
      "req            INFO \tNo cached data found for car_data. Loading data...\n",
      "_api           INFO \tFetching car data...\n",
      "logger      WARNING \tFailed to load telemetry data!\n",
      "req            INFO \tNo cached data found for weather_data. Loading data...\n",
      "_api           INFO \tFetching weather data...\n",
      "logger      WARNING \tFailed to load weather data!\n",
      "req            INFO \tNo cached data found for race_control_messages. Loading data...\n",
      "_api           INFO \tFetching race control messages...\n",
      "logger      WARNING \tFailed to load race control messages!\n",
      "core           INFO \tLoading data for Singapore Grand Prix - Qualifying [v3.0.3]\n",
      "req            INFO \tUsing cached data for driver_info\n"
     ]
    },
    {
     "name": "stdout",
     "output_type": "stream",
     "text": [
      "No data for Marina Bay in 2023\n"
     ]
    },
    {
     "name": "stderr",
     "output_type": "stream",
     "text": [
      "req            INFO \tUsing cached data for session_status_data\n",
      "req            INFO \tUsing cached data for track_status_data\n",
      "req            INFO \tUsing cached data for timing_data\n",
      "req            INFO \tUsing cached data for timing_app_data\n",
      "core           INFO \tProcessing timing data...\n",
      "req            INFO \tUsing cached data for car_data\n",
      "req            INFO \tUsing cached data for position_data\n",
      "req            INFO \tUsing cached data for weather_data\n",
      "req            INFO \tUsing cached data for race_control_messages\n",
      "core           INFO \tFinished loading data for 20 drivers: ['16', '11', '44', '55', '14', '4', '10', '1', '20', '22', '63', '18', '47', '5', '24', '77', '3', '31', '23', '6']\n",
      "core           INFO \tLoading data for Japanese Grand Prix - Qualifying [v3.0.3]\n",
      "req            INFO \tNo cached data found for driver_info. Loading data...\n",
      "_api           INFO \tFetching driver list...\n",
      "core        WARNING \tFailed to load extended driver information!\n",
      "core        WARNING \tNo result data for this session available on Ergast! (This is expected for recent sessions)\n",
      "logger      WARNING \tFailed to load results data!\n",
      "req            INFO \tNo cached data found for session_status_data. Loading data...\n",
      "_api           INFO \tFetching session status data...\n",
      "logger      WARNING \tFailed to load session status data!\n",
      "req            INFO \tNo cached data found for track_status_data. Loading data...\n",
      "_api           INFO \tFetching track status data...\n",
      "logger      WARNING \tFailed to load track status data!\n",
      "req            INFO \tNo cached data found for timing_data. Loading data...\n",
      "_api           INFO \tFetching timing data...\n",
      "logger      WARNING \tFailed to load timing data!\n",
      "req            INFO \tNo cached data found for car_data. Loading data...\n",
      "_api           INFO \tFetching car data...\n",
      "logger      WARNING \tFailed to load telemetry data!\n",
      "req            INFO \tNo cached data found for weather_data. Loading data...\n",
      "_api           INFO \tFetching weather data...\n",
      "logger      WARNING \tFailed to load weather data!\n",
      "req            INFO \tNo cached data found for race_control_messages. Loading data...\n",
      "_api           INFO \tFetching race control messages...\n",
      "logger      WARNING \tFailed to load race control messages!\n",
      "core           INFO \tLoading data for Japanese Grand Prix - Qualifying [v3.0.3]\n",
      "req            INFO \tUsing cached data for driver_info\n"
     ]
    },
    {
     "name": "stdout",
     "output_type": "stream",
     "text": [
      "No data for Suzuka in 2023\n"
     ]
    },
    {
     "name": "stderr",
     "output_type": "stream",
     "text": [
      "req            INFO \tUsing cached data for session_status_data\n",
      "req            INFO \tUsing cached data for track_status_data\n",
      "req            INFO \tUsing cached data for timing_data\n",
      "req            INFO \tUsing cached data for timing_app_data\n",
      "core           INFO \tProcessing timing data...\n",
      "req            INFO \tUsing cached data for car_data\n",
      "req            INFO \tUsing cached data for position_data\n",
      "req            INFO \tUsing cached data for weather_data\n",
      "req            INFO \tUsing cached data for race_control_messages\n",
      "core           INFO \tFinished loading data for 20 drivers: ['1', '16', '55', '11', '31', '44', '14', '63', '5', '4', '3', '77', '22', '24', '47', '23', '10', '20', '18', '6']\n",
      "core           INFO \tLoading data for Qatar Grand Prix - Qualifying [v3.0.3]\n",
      "req            INFO \tNo cached data found for driver_info. Loading data...\n",
      "_api           INFO \tFetching driver list...\n",
      "core        WARNING \tFailed to load extended driver information!\n",
      "core        WARNING \tNo result data for this session available on Ergast! (This is expected for recent sessions)\n",
      "logger      WARNING \tFailed to load results data!\n",
      "req            INFO \tNo cached data found for session_status_data. Loading data...\n",
      "_api           INFO \tFetching session status data...\n",
      "logger      WARNING \tFailed to load session status data!\n",
      "req            INFO \tNo cached data found for track_status_data. Loading data...\n",
      "_api           INFO \tFetching track status data...\n",
      "logger      WARNING \tFailed to load track status data!\n",
      "req            INFO \tNo cached data found for timing_data. Loading data...\n",
      "_api           INFO \tFetching timing data...\n",
      "logger      WARNING \tFailed to load timing data!\n",
      "req            INFO \tNo cached data found for car_data. Loading data...\n",
      "_api           INFO \tFetching car data...\n",
      "logger      WARNING \tFailed to load telemetry data!\n",
      "req            INFO \tNo cached data found for weather_data. Loading data...\n",
      "_api           INFO \tFetching weather data...\n",
      "logger      WARNING \tFailed to load weather data!\n",
      "req            INFO \tNo cached data found for race_control_messages. Loading data...\n",
      "_api           INFO \tFetching race control messages...\n",
      "logger      WARNING \tFailed to load race control messages!\n",
      "core           INFO \tLoading data for Spanish Grand Prix - Qualifying [v3.0.3]\n",
      "req            INFO \tUsing cached data for driver_info\n"
     ]
    },
    {
     "name": "stdout",
     "output_type": "stream",
     "text": [
      "No data for Lusail in 2023\n"
     ]
    },
    {
     "name": "stderr",
     "output_type": "stream",
     "text": [
      "req            INFO \tUsing cached data for session_status_data\n",
      "req            INFO \tUsing cached data for track_status_data\n",
      "req            INFO \tUsing cached data for timing_data\n",
      "req            INFO \tUsing cached data for timing_app_data\n",
      "core           INFO \tProcessing timing data...\n",
      "req            INFO \tUsing cached data for car_data\n",
      "req            INFO \tUsing cached data for position_data\n",
      "req            INFO \tUsing cached data for weather_data\n",
      "req            INFO \tUsing cached data for race_control_messages\n",
      "core           INFO \tFinished loading data for 20 drivers: ['16', '1', '55', '63', '11', '44', '77', '20', '3', '47', '4', '31', '22', '10', '24', '5', '14', '18', '23', '6']\n",
      "core           INFO \tLoading data for United States Grand Prix - Qualifying [v3.0.3]\n",
      "req            INFO \tNo cached data found for driver_info. Loading data...\n",
      "_api           INFO \tFetching driver list...\n",
      "core        WARNING \tFailed to load extended driver information!\n",
      "core        WARNING \tNo result data for this session available on Ergast! (This is expected for recent sessions)\n",
      "logger      WARNING \tFailed to load results data!\n",
      "req            INFO \tNo cached data found for session_status_data. Loading data...\n",
      "_api           INFO \tFetching session status data...\n",
      "logger      WARNING \tFailed to load session status data!\n",
      "req            INFO \tNo cached data found for track_status_data. Loading data...\n",
      "_api           INFO \tFetching track status data...\n",
      "logger      WARNING \tFailed to load track status data!\n",
      "req            INFO \tNo cached data found for timing_data. Loading data...\n",
      "_api           INFO \tFetching timing data...\n",
      "logger      WARNING \tFailed to load timing data!\n",
      "req            INFO \tNo cached data found for car_data. Loading data...\n",
      "_api           INFO \tFetching car data...\n",
      "logger      WARNING \tFailed to load telemetry data!\n",
      "req            INFO \tNo cached data found for weather_data. Loading data...\n",
      "_api           INFO \tFetching weather data...\n",
      "logger      WARNING \tFailed to load weather data!\n",
      "req            INFO \tNo cached data found for race_control_messages. Loading data...\n",
      "_api           INFO \tFetching race control messages...\n",
      "logger      WARNING \tFailed to load race control messages!\n",
      "core           INFO \tLoading data for United States Grand Prix - Qualifying [v3.0.3]\n",
      "req            INFO \tUsing cached data for driver_info\n"
     ]
    },
    {
     "name": "stdout",
     "output_type": "stream",
     "text": [
      "No data for Austin in 2023\n"
     ]
    },
    {
     "name": "stderr",
     "output_type": "stream",
     "text": [
      "req            INFO \tUsing cached data for session_status_data\n",
      "req            INFO \tUsing cached data for track_status_data\n",
      "req            INFO \tUsing cached data for timing_data\n",
      "req            INFO \tUsing cached data for timing_app_data\n",
      "core           INFO \tProcessing timing data...\n",
      "req            INFO \tUsing cached data for car_data\n",
      "req            INFO \tUsing cached data for position_data\n",
      "req            INFO \tUsing cached data for weather_data\n",
      "req            INFO \tUsing cached data for race_control_messages\n",
      "core           INFO \tFinished loading data for 20 drivers: ['55', '16', '1', '11', '44', '63', '18', '4', '14', '77', '23', '5', '10', '24', '22', '20', '3', '31', '47', '6']\n",
      "core           INFO \tLoading data for Mexico City Grand Prix - Qualifying [v3.0.3]\n",
      "req            INFO \tNo cached data found for driver_info. Loading data...\n",
      "_api           INFO \tFetching driver list...\n",
      "core        WARNING \tFailed to load extended driver information!\n",
      "core        WARNING \tNo result data for this session available on Ergast! (This is expected for recent sessions)\n",
      "logger      WARNING \tFailed to load results data!\n",
      "req            INFO \tNo cached data found for session_status_data. Loading data...\n",
      "_api           INFO \tFetching session status data...\n",
      "logger      WARNING \tFailed to load session status data!\n",
      "req            INFO \tNo cached data found for track_status_data. Loading data...\n",
      "_api           INFO \tFetching track status data...\n",
      "logger      WARNING \tFailed to load track status data!\n",
      "req            INFO \tNo cached data found for timing_data. Loading data...\n",
      "_api           INFO \tFetching timing data...\n",
      "logger      WARNING \tFailed to load timing data!\n",
      "req            INFO \tNo cached data found for car_data. Loading data...\n",
      "_api           INFO \tFetching car data...\n",
      "logger      WARNING \tFailed to load telemetry data!\n",
      "req            INFO \tNo cached data found for weather_data. Loading data...\n",
      "_api           INFO \tFetching weather data...\n",
      "logger      WARNING \tFailed to load weather data!\n",
      "req            INFO \tNo cached data found for race_control_messages. Loading data...\n",
      "_api           INFO \tFetching race control messages...\n",
      "logger      WARNING \tFailed to load race control messages!\n",
      "core           INFO \tLoading data for Mexico City Grand Prix - Qualifying [v3.0.3]\n",
      "req            INFO \tUsing cached data for driver_info\n"
     ]
    },
    {
     "name": "stdout",
     "output_type": "stream",
     "text": [
      "No data for Mexico City in 2023\n"
     ]
    },
    {
     "name": "stderr",
     "output_type": "stream",
     "text": [
      "req            INFO \tUsing cached data for session_status_data\n",
      "req            INFO \tUsing cached data for track_status_data\n",
      "req            INFO \tUsing cached data for timing_data\n",
      "req            INFO \tUsing cached data for timing_app_data\n",
      "core           INFO \tProcessing timing data...\n",
      "req            INFO \tUsing cached data for car_data\n",
      "req            INFO \tUsing cached data for position_data\n",
      "req            INFO \tUsing cached data for weather_data\n",
      "req            INFO \tUsing cached data for race_control_messages\n",
      "core           INFO \tFinished loading data for 20 drivers: ['1', '63', '44', '11', '55', '77', '16', '4', '14', '31', '3', '24', '22', '10', '20', '47', '5', '18', '23', '6']\n",
      "core           INFO \tLoading data for São Paulo Grand Prix - Qualifying [v3.0.3]\n",
      "req            INFO \tNo cached data found for driver_info. Loading data...\n",
      "_api           INFO \tFetching driver list...\n",
      "core        WARNING \tFailed to load extended driver information!\n",
      "core        WARNING \tNo result data for this session available on Ergast! (This is expected for recent sessions)\n",
      "logger      WARNING \tFailed to load results data!\n",
      "req            INFO \tNo cached data found for session_status_data. Loading data...\n",
      "_api           INFO \tFetching session status data...\n",
      "logger      WARNING \tFailed to load session status data!\n",
      "req            INFO \tNo cached data found for track_status_data. Loading data...\n",
      "_api           INFO \tFetching track status data...\n",
      "logger      WARNING \tFailed to load track status data!\n",
      "req            INFO \tNo cached data found for timing_data. Loading data...\n",
      "_api           INFO \tFetching timing data...\n",
      "logger      WARNING \tFailed to load timing data!\n",
      "req            INFO \tNo cached data found for car_data. Loading data...\n",
      "_api           INFO \tFetching car data...\n",
      "logger      WARNING \tFailed to load telemetry data!\n",
      "req            INFO \tNo cached data found for weather_data. Loading data...\n",
      "_api           INFO \tFetching weather data...\n",
      "logger      WARNING \tFailed to load weather data!\n",
      "req            INFO \tNo cached data found for race_control_messages. Loading data...\n",
      "_api           INFO \tFetching race control messages...\n",
      "logger      WARNING \tFailed to load race control messages!\n",
      "core           INFO \tLoading data for São Paulo Grand Prix - Qualifying [v3.0.3]\n",
      "req            INFO \tUsing cached data for driver_info\n"
     ]
    },
    {
     "name": "stdout",
     "output_type": "stream",
     "text": [
      "No data for São Paulo in 2023\n"
     ]
    },
    {
     "name": "stderr",
     "output_type": "stream",
     "text": [
      "req            INFO \tUsing cached data for session_status_data\n",
      "req            INFO \tUsing cached data for track_status_data\n",
      "req            INFO \tUsing cached data for timing_data\n",
      "req            INFO \tUsing cached data for timing_app_data\n",
      "core           INFO \tProcessing timing data...\n",
      "req            INFO \tUsing cached data for car_data\n",
      "req            INFO \tUsing cached data for position_data\n",
      "req            INFO \tUsing cached data for weather_data\n",
      "req            INFO \tUsing cached data for race_control_messages\n",
      "core           INFO \tFinished loading data for 20 drivers: ['20', '1', '63', '4', '55', '31', '14', '44', '11', '16', '23', '10', '5', '3', '18', '6', '24', '77', '22', '47']\n",
      "core           INFO \tLoading data for Las Vegas Grand Prix - Qualifying [v3.0.3]\n",
      "req            INFO \tNo cached data found for driver_info. Loading data...\n",
      "_api           INFO \tFetching driver list...\n",
      "core        WARNING \tFailed to load extended driver information!\n",
      "core        WARNING \tNo result data for this session available on Ergast! (This is expected for recent sessions)\n",
      "logger      WARNING \tFailed to load results data!\n",
      "req            INFO \tNo cached data found for session_status_data. Loading data...\n",
      "_api           INFO \tFetching session status data...\n",
      "logger      WARNING \tFailed to load session status data!\n",
      "req            INFO \tNo cached data found for track_status_data. Loading data...\n",
      "_api           INFO \tFetching track status data...\n",
      "logger      WARNING \tFailed to load track status data!\n",
      "req            INFO \tNo cached data found for timing_data. Loading data...\n",
      "_api           INFO \tFetching timing data...\n",
      "logger      WARNING \tFailed to load timing data!\n",
      "req            INFO \tNo cached data found for car_data. Loading data...\n",
      "_api           INFO \tFetching car data...\n",
      "logger      WARNING \tFailed to load telemetry data!\n",
      "req            INFO \tNo cached data found for weather_data. Loading data...\n",
      "_api           INFO \tFetching weather data...\n",
      "logger      WARNING \tFailed to load weather data!\n",
      "req            INFO \tNo cached data found for race_control_messages. Loading data...\n",
      "_api           INFO \tFetching race control messages...\n",
      "logger      WARNING \tFailed to load race control messages!\n",
      "core           INFO \tLoading data for Abu Dhabi Grand Prix - Qualifying [v3.0.3]\n",
      "req            INFO \tUsing cached data for driver_info\n"
     ]
    },
    {
     "name": "stdout",
     "output_type": "stream",
     "text": [
      "No data for Las Vegas in 2023\n"
     ]
    },
    {
     "name": "stderr",
     "output_type": "stream",
     "text": [
      "req            INFO \tUsing cached data for session_status_data\n",
      "req            INFO \tUsing cached data for track_status_data\n",
      "req            INFO \tUsing cached data for timing_data\n",
      "req            INFO \tUsing cached data for timing_app_data\n",
      "core           INFO \tProcessing timing data...\n",
      "req            INFO \tUsing cached data for car_data\n",
      "req            INFO \tUsing cached data for position_data\n",
      "req            INFO \tUsing cached data for weather_data\n",
      "req            INFO \tUsing cached data for race_control_messages\n",
      "core           INFO \tFinished loading data for 20 drivers: ['1', '11', '16', '55', '44', '63', '4', '31', '5', '3', '14', '22', '47', '18', '24', '20', '10', '77', '23', '6']\n",
      "core           INFO \tLoading data for Abu Dhabi Grand Prix - Qualifying [v3.0.3]\n",
      "req            INFO \tNo cached data found for driver_info. Loading data...\n",
      "_api           INFO \tFetching driver list...\n",
      "core        WARNING \tFailed to load extended driver information!\n",
      "core        WARNING \tNo result data for this session available on Ergast! (This is expected for recent sessions)\n",
      "logger      WARNING \tFailed to load results data!\n",
      "req            INFO \tNo cached data found for session_status_data. Loading data...\n",
      "_api           INFO \tFetching session status data...\n",
      "logger      WARNING \tFailed to load session status data!\n",
      "req            INFO \tNo cached data found for track_status_data. Loading data...\n",
      "_api           INFO \tFetching track status data...\n",
      "logger      WARNING \tFailed to load track status data!\n",
      "req            INFO \tNo cached data found for timing_data. Loading data...\n",
      "_api           INFO \tFetching timing data...\n",
      "logger      WARNING \tFailed to load timing data!\n",
      "req            INFO \tNo cached data found for car_data. Loading data...\n",
      "_api           INFO \tFetching car data...\n",
      "logger      WARNING \tFailed to load telemetry data!\n",
      "req            INFO \tNo cached data found for weather_data. Loading data...\n",
      "_api           INFO \tFetching weather data...\n",
      "logger      WARNING \tFailed to load weather data!\n",
      "req            INFO \tNo cached data found for race_control_messages. Loading data...\n",
      "_api           INFO \tFetching race control messages...\n",
      "logger      WARNING \tFailed to load race control messages!\n",
      "core           INFO \tLoading data for Abu Dhabi Grand Prix - Qualifying [v3.0.3]\n",
      "req            INFO \tUsing cached data for driver_info\n",
      "req            INFO \tUsing cached data for session_status_data\n",
      "req            INFO \tUsing cached data for track_status_data\n",
      "req            INFO \tUsing cached data for timing_data\n",
      "req            INFO \tUsing cached data for timing_app_data\n",
      "core           INFO \tProcessing timing data...\n"
     ]
    },
    {
     "name": "stdout",
     "output_type": "stream",
     "text": [
      "No data for Yas Island in 2023\n"
     ]
    },
    {
     "name": "stderr",
     "output_type": "stream",
     "text": [
      "req            INFO \tUsing cached data for car_data\n",
      "req            INFO \tUsing cached data for position_data\n",
      "req            INFO \tUsing cached data for weather_data\n",
      "req            INFO \tUsing cached data for race_control_messages\n",
      "core           INFO \tFinished loading data for 20 drivers: ['1', '11', '16', '55', '44', '63', '4', '31', '5', '3', '14', '22', '47', '18', '24', '20', '10', '77', '23', '6']\n"
     ]
    }
   ],
   "source": [
    "# Get all the qualifying for the 2023 season if the session has not been run substitute for the 2022 session if it wasn't run in 2022 too just skip it as null\n",
    "events = []\n",
    "events23 = []\n",
    "events22=[]\n",
    "for index, row in schedule2023.iterrows():\n",
    "    event = row['Location']\n",
    "    event_name = row['EventName']\n",
    "    events23.append(event_name)\n",
    "    session = fastf1.get_session(2023, event, 'Q')\n",
    "    try:\n",
    "        session.load()\n",
    "        events.append(session)\n",
    "    except:\n",
    "        print('No data for ' + event+ ' in 2023')\n",
    "        try:\n",
    "            session = fastf1.get_session(2022, event, 'Q')\n",
    "            session.load()\n",
    "            if(session.event['EventName'] == event_name):\n",
    "                events.append(session)\n",
    "            else:\n",
    "                events.append(event_name)\n",
    "\n",
    "        except:\n",
    "            print('No data for ' + event+ ' in 2022')\n",
    "            continue"
   ],
   "metadata": {
    "collapsed": false,
    "ExecuteTime": {
     "end_time": "2023-06-07T02:24:57.717736Z",
     "start_time": "2023-06-07T02:23:27.760563Z"
    }
   }
  },
  {
   "cell_type": "code",
   "execution_count": 8,
   "outputs": [
    {
     "data": {
      "text/plain": "[2023 Season Round 1: Bahrain Grand Prix - Qualifying,\n 2023 Season Round 1: Bahrain Grand Prix - Qualifying,\n 2023 Season Round 2: Saudi Arabian Grand Prix - Qualifying,\n 2023 Season Round 3: Australian Grand Prix - Qualifying,\n 2023 Season Round 4: Azerbaijan Grand Prix - Qualifying,\n 2023 Season Round 5: Miami Grand Prix - Qualifying,\n 2023 Season Round 6: Monaco Grand Prix - Qualifying,\n 2023 Season Round 7: Spanish Grand Prix - Qualifying,\n 2022 Season Round 9: Canadian Grand Prix - Qualifying,\n 2022 Season Round 11: Austrian Grand Prix - Qualifying,\n 2022 Season Round 10: British Grand Prix - Qualifying,\n 2022 Season Round 13: Hungarian Grand Prix - Qualifying,\n 2022 Season Round 14: Belgian Grand Prix - Qualifying,\n 2022 Season Round 15: Dutch Grand Prix - Qualifying,\n 2022 Season Round 16: Italian Grand Prix - Qualifying,\n 2022 Season Round 17: Singapore Grand Prix - Qualifying,\n 2022 Season Round 18: Japanese Grand Prix - Qualifying,\n 'Qatar Grand Prix',\n 2022 Season Round 19: United States Grand Prix - Qualifying,\n 2022 Season Round 20: Mexico City Grand Prix - Qualifying,\n 2022 Season Round 21: São Paulo Grand Prix - Qualifying,\n 'Las Vegas Grand Prix',\n 2022 Season Round 22: Abu Dhabi Grand Prix - Qualifying]"
     },
     "execution_count": 8,
     "metadata": {},
     "output_type": "execute_result"
    }
   ],
   "source": [
    "events"
   ],
   "metadata": {
    "collapsed": false,
    "ExecuteTime": {
     "end_time": "2023-06-07T02:25:43.173170Z",
     "start_time": "2023-06-07T02:25:43.161333Z"
    }
   }
  },
  {
   "cell_type": "code",
   "execution_count": 9,
   "outputs": [
    {
     "data": {
      "text/plain": "['Pre-Season Testing',\n 'Bahrain Grand Prix',\n 'Saudi Arabian Grand Prix',\n 'Australian Grand Prix',\n 'Azerbaijan Grand Prix',\n 'Miami Grand Prix',\n 'Monaco Grand Prix',\n 'Spanish Grand Prix',\n 'Canadian Grand Prix',\n 'Austrian Grand Prix',\n 'British Grand Prix',\n 'Hungarian Grand Prix',\n 'Belgian Grand Prix',\n 'Dutch Grand Prix',\n 'Italian Grand Prix',\n 'Singapore Grand Prix',\n 'Japanese Grand Prix',\n 'Qatar Grand Prix',\n 'United States Grand Prix',\n 'Mexico City Grand Prix',\n 'São Paulo Grand Prix',\n 'Las Vegas Grand Prix',\n 'Abu Dhabi Grand Prix']"
     },
     "execution_count": 9,
     "metadata": {},
     "output_type": "execute_result"
    }
   ],
   "source": [
    "events23"
   ],
   "metadata": {
    "collapsed": false,
    "ExecuteTime": {
     "end_time": "2023-06-07T02:25:52.634433Z",
     "start_time": "2023-06-07T02:25:52.622905Z"
    }
   }
  },
  {
   "cell_type": "code",
   "execution_count": 11,
   "outputs": [],
   "source": [
    "# Create a JSON with fastest lap time per driver, fasest driver, the array with the speed of laps and the array of the fastest lap data\n",
    "def save_event(fastestDriver, ver_lap, per_lap, df, data, event_name):\n",
    "    event_json = {\n",
    "        'event': event_name,\n",
    "        'fastestLap': {\n",
    "            'driver': fastestDriver,\n",
    "        },\n",
    "        'lapTimes': {\n",
    "            'VER': str(ver_lap['LapTime']),\n",
    "            'PER': str(per_lap['LapTime'])\n",
    "        },\n",
    "        'lapsSpeed': df.to_dict(orient='records'),\n",
    "        'fastestLapData': data\n",
    "    }\n",
    "\n",
    "    # Save the JSON in a file as name of the event in a new direcotry called events\n",
    "    directory = \"events\"\n",
    "\n",
    "    # Create the directory if it doesn't exist\n",
    "    if not os.path.exists(directory):\n",
    "        os.makedirs(directory)\n",
    "\n",
    "    # Specify the file path within the directory and save it as the event name\n",
    "    file_path = os.path.join(directory, event_name + '.json')\n",
    "\n",
    "    # Open the file in write mode\n",
    "    with open(file_path, 'w') as json_file:\n",
    "        # Write the JSON data to the file\n",
    "        json.dump(event_json, json_file)\n",
    "\n",
    "def empty_event(event_name):\n",
    "    event_json = {\n",
    "        'event': event_name,\n",
    "        'fastestLap': {\n",
    "            'driver': '',\n",
    "        },\n",
    "        'lapTimes': {\n",
    "            'VER': '',\n",
    "            'PER': ''\n",
    "        },\n",
    "        'lapsSpeed': [],\n",
    "        'fastestLapData': []\n",
    "    }\n",
    "\n",
    "    # Save the JSON in a file as name of the event in a new direcotry called events\n",
    "    directory = \"events\"\n",
    "\n",
    "    # Create the directory if it doesn't exist\n",
    "    if not os.path.exists(directory):\n",
    "        os.makedirs(directory)\n",
    "\n",
    "    # Specify the file path within the directory and save it as the event name\n",
    "    file_path = os.path.join(directory, event_name + '.json')\n",
    "\n",
    "    # Open the file in write mode\n",
    "    with open(file_path, 'w') as json_file:\n",
    "        # Write the JSON data to the file\n",
    "        json.dump(event_json, json_file)"
   ],
   "metadata": {
    "collapsed": false,
    "ExecuteTime": {
     "end_time": "2023-06-07T02:29:52.199894Z",
     "start_time": "2023-06-07T02:29:52.197445Z"
    }
   }
  },
  {
   "cell_type": "code",
   "execution_count": 13,
   "outputs": [],
   "source": [
    "\n",
    "for event in events:\n",
    "    # Create the matrix for the laps speed comparison\n",
    "    if isinstance(event, str):\n",
    "        empty_event(event)\n",
    "        continue\n",
    "    event_name = event.event['EventName']\n",
    "    ver_laps = session.laps.pick_driver('VER')\n",
    "    per_laps = session.laps.pick_driver('PER')\n",
    "    ver_lap = ver_laps.pick_fastest()\n",
    "    per_lap = per_laps.pick_fastest()\n",
    "    ver_tel = ver_lap.get_car_data().add_distance()\n",
    "    per_tel = per_lap.get_car_data().add_distance()\n",
    "    ver_max_speed = ver_tel['Speed'].max()\n",
    "    per_max_speed = per_tel['Speed'].max()\n",
    "    # PD with the speed of the laps\n",
    "    df = pd.DataFrame()\n",
    "    df['VerDistance'] = ver_tel['Distance']\n",
    "    df['VerSpeed'] = ver_tel['Speed']\n",
    "    df['PerDistance'] = per_tel['Distance']\n",
    "    df['PerSpeed'] = per_tel['Speed']\n",
    "\n",
    "    # Fastest lap data\n",
    "    data = []\n",
    "    fastestDriver = ''\n",
    "\n",
    "    # Create the points and speed matrix for the fastest laptime\n",
    "    if ver_lap['LapTime'] <= per_lap['LapTime']:\n",
    "        data = ver_lap.telemetry[['X', 'Y', 'Z','Speed']].to_dict(orient='records')\n",
    "        fastestDriver = 'VER'\n",
    "    else:\n",
    "        data = per_lap.telemetry[['X', 'Y', 'Z','Speed']].to_dict(orient='records')\n",
    "        fastestDriver = 'PER'\n",
    "\n",
    "    # Save the event\n",
    "    save_event(fastestDriver, ver_lap, per_lap, df, data, event_name)\n",
    "\n",
    "\n"
   ],
   "metadata": {
    "collapsed": false,
    "ExecuteTime": {
     "end_time": "2023-06-07T02:30:33.261165Z",
     "start_time": "2023-06-07T02:30:28.436170Z"
    }
   }
  },
  {
   "cell_type": "code",
   "execution_count": null,
   "outputs": [],
   "source": [],
   "metadata": {
    "collapsed": false,
    "is_executing": true
   }
  }
 ],
 "metadata": {
  "kernelspec": {
   "display_name": "Python 3",
   "language": "python",
   "name": "python3"
  },
  "language_info": {
   "codemirror_mode": {
    "name": "ipython",
    "version": 2
   },
   "file_extension": ".py",
   "mimetype": "text/x-python",
   "name": "python",
   "nbconvert_exporter": "python",
   "pygments_lexer": "ipython2",
   "version": "2.7.6"
  }
 },
 "nbformat": 4,
 "nbformat_minor": 0
}
