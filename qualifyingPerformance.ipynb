{
 "cells": [
  {
   "cell_type": "code",
   "execution_count": null,
   "metadata": {
    "collapsed": true
   },
   "outputs": [],
   "source": [
    "import fastf1 as ff1\n",
    "import matplotlib.pyplot as plt\n",
    "import numpy as np\n",
    "import pandas as pd\n",
    "from fastf1 import plotting\n",
    "import plotly.graph_objects as go"
   ]
  },
  {
   "cell_type": "code",
   "execution_count": null,
   "metadata": {},
   "outputs": [],
   "source": [
    "ff1.Cache.enable_cache('cache')\n",
    "plotting.setup_mpl()"
   ]
  },
  {
   "cell_type": "code",
   "execution_count": null,
   "metadata": {},
   "outputs": [],
   "source": [
    "# Function to return all the sessions of a season\n",
    "# Include an enumerator for race or qualifying if it is race then its An R if its is qualifying then a Q\n",
    "def get_season_sessions(year, session_type):\n",
    "    schedule = ff1.get_event_schedule(year)\n",
    "    sessions = []\n",
    "    for _, event in schedule.iterrows():\n",
    "        session = ff1.get_session(year, event['Location'], session_type)\n",
    "        session.load()\n",
    "        sessions.append(session)\n",
    "        for session in sessions:\n",
    "            session.results['Position'] = np.arange(1, len(session.results) + 1)\n",
    "    return sessions"
   ]
  },
  {
   "cell_type": "code",
   "execution_count": null,
   "outputs": [],
   "source": [
    "import concurrent.futures\n",
    "\n",
    "years = [2023, 2022, 2021, 2020, 2019, 2018]\n",
    "\n",
    "def process_sessions(year, session_type):\n",
    "    sessions = get_season_sessions(year, session_type)\n",
    "    return sessions\n",
    "\n",
    "# Create a ThreadPoolExecutor\n",
    "executor = concurrent.futures.ThreadPoolExecutor()\n",
    "\n",
    "# Create dictionaries to store the results for R sessions and Q sessions\n",
    "r_sessions_results = {}\n",
    "q_sessions_results = {}\n",
    "\n",
    "# Submit the function calls for R and Q sessions on individual threads for each year\n",
    "r_futures = {executor.submit(process_sessions, year, 'R'): year for year in years}\n",
    "q_futures = {executor.submit(process_sessions, year, 'Q'): year for year in years}\n",
    "\n",
    "# Retrieve the results for R sessions from completed threads\n",
    "for future in concurrent.futures.as_completed(r_futures):\n",
    "    year = r_futures[future]\n",
    "    try:\n",
    "        result = future.result()\n",
    "        r_sessions_results[year] = result\n",
    "    except Exception as e:\n",
    "        print(f\"Error processing R sessions for year {year}: {str(e)}\")\n",
    "\n",
    "# Retrieve the results for Q sessions from completed threads\n",
    "for future in concurrent.futures.as_completed(q_futures):\n",
    "    year = q_futures[future]\n",
    "    try:\n",
    "        result = future.result()\n",
    "        q_sessions_results[year] = result\n",
    "    except Exception as e:\n",
    "        print(f\"Error processing Q sessions for year {year}: {str(e)}\")\n",
    "\n",
    "# Access the results for R sessions and Q sessions for each year\n",
    "for year in years:\n",
    "    r_sessions = r_sessions_results.get(year, [])\n",
    "    q_sessions = q_sessions_results.get(year, [])\n",
    "    print(f\"R Sessions for year {year}: {r_sessions}\")\n",
    "    print(f\"Q Sessions for year {year}: {q_sessions}\")\n"
   ],
   "metadata": {
    "collapsed": false
   }
  },
  {
   "cell_type": "code",
   "execution_count": null,
   "outputs": [],
   "source": [
    "year = 2022\n",
    "r_sessions = get_season_sessions(year, 'R')\n",
    "q_sessions = get_season_sessions(year, 'Q')"
   ],
   "metadata": {
    "collapsed": false
   }
  },
  {
   "cell_type": "code",
   "execution_count": null,
   "outputs": [],
   "source": [
    "q_sessions[0].results"
   ],
   "metadata": {
    "collapsed": false
   }
  },
  {
   "cell_type": "code",
   "execution_count": null,
   "outputs": [],
   "source": [
    "laps = [session.laps for session in sessions]\n",
    "laps = pd.concat(laps)\n",
    "laps.columns"
   ],
   "metadata": {
    "collapsed": false
   }
  },
  {
   "cell_type": "code",
   "execution_count": null,
   "metadata": {},
   "outputs": [],
   "source": [
    "ranking_qualifiers = []\n",
    "\n",
    "for i, laps in enumerate(laps):\n",
    "    quali_laps_copy = laps.copy()\n",
    "    quali_laps_copy['LapTime'] = quali_laps_copy['LapTime'].dt.total_seconds()\n",
    "    fastest_laps = quali_laps_copy.groupby(['Driver', 'Team'])['LapTime'].min()\n",
    "    fastest_laps = fastest_laps.reset_index()\n",
    "    fastest_laps['Rank'] = fastest_laps['LapTime'].fillna(100000000).rank().astype(int)\n",
    "    fastest_laps = fastest_laps.sort_values('Rank')\n",
    "    ranking_qualifiers.append(fastest_laps)\n"
   ]
  },
  {
   "cell_type": "code",
   "execution_count": null,
   "outputs": [],
   "source": [
    "team_average_ranks = []\n",
    "for team in fastest_laps['Team'].unique():\n",
    "    team_data = fastest_laps[fastest_laps['Team'] == team]\n",
    "    team_average_rank = team_data['Rank'].mean()\n",
    "    team_average_ranks.append((team, team_average_rank))\n",
    "\n",
    "team_average_ranks_df = pd.DataFrame(team_average_ranks, columns=['Team', 'Average Rank'])\n"
   ],
   "metadata": {
    "collapsed": false
   }
  },
  {
   "cell_type": "code",
   "execution_count": null,
   "metadata": {},
   "outputs": [],
   "source": [
    "# Collect all unique drivers and their teams\n",
    "drivers_teams = {}\n",
    "for df in ranking_qualifiers:\n",
    "    for _, row in df.iterrows():\n",
    "        drivers_teams[row['Driver']] = row['Team']"
   ]
  },
  {
   "cell_type": "code",
   "execution_count": null,
   "metadata": {},
   "outputs": [],
   "source": [
    "fig = go.Figure()\n",
    "\n",
    "for driver, team in drivers_teams.items():\n",
    "    ranks = []\n",
    "    for i, df in enumerate(ranking_qualifiers):\n",
    "        rank = df[df['Driver'] == driver]['Rank'].values\n",
    "        if len(rank) > 0:\n",
    "            ranks.append(rank[0])\n",
    "        else:\n",
    "            #ranks.append(20)\n",
    "            ranks.append(np.nan)  # Driver didn't participate in this qualifier\n",
    "\n",
    "    # Compute cumulative average\n",
    "    cumulative_avg = np.cumsum(ranks) / np.arange(1, len(ranks) + 1)\n",
    "\n",
    "    fig.add_trace(go.Scatter(x=list(range(1, len(ranking_qualifiers) + 1)), y=cumulative_avg, mode='lines+markers', name=driver, marker=dict(color=plotting.team_color(team))))\n",
    "\n",
    "fig.update_layout(\n",
    "    title=\"Driver Average Ranking over Qualifiers\",\n",
    "    xaxis_title=\"Qualifier Number\",\n",
    "    yaxis_title=\"Average Rank\",\n",
    "    yaxis=dict(autorange=\"reversed\"), # This is for the y-axis to be in reverse order\n",
    "    hovermode=\"x\"\n",
    ")\n",
    "\n",
    "fig.show()\n",
    "\n"
   ]
  },
  {
   "cell_type": "code",
   "execution_count": null,
   "outputs": [],
   "source": [
    "fig = go.Figure()\n",
    "\n",
    "# We use the teams directly from the dataframe 'fastest_laps'\n",
    "for team in fastest_laps['Team'].unique():\n",
    "    ranks = []\n",
    "    for i, df in enumerate(ranking_qualifiers):\n",
    "        team_data = df[df['Team'] == team]\n",
    "        # Calculate average rank for this team in this qualifier\n",
    "        avg_rank = team_data['Rank'].mean()\n",
    "        ranks.append(avg_rank)\n",
    "\n",
    "    # Compute cumulative average\n",
    "    cumulative_avg = np.cumsum(ranks) / np.arange(1, len(ranks) + 1)\n",
    "\n",
    "    fig.add_trace(go.Scatter(x=list(range(1, len(ranking_qualifiers) + 1)), y=cumulative_avg, mode='lines+markers', name=team, marker=dict(color=plotting.team_color(team))))\n",
    "\n",
    "fig.update_layout(\n",
    "    title=\"Team Average Ranking over Qualifiers\",\n",
    "    xaxis_title=\"Qualifier Number\",\n",
    "    yaxis_title=\"Average Rank\",\n",
    "    yaxis=dict(autorange=\"reversed\"),  # This is for the y-axis to be in reverse order\n",
    "    hovermode=\"x\"\n",
    ")\n",
    "\n",
    "fig.show()\n"
   ],
   "metadata": {
    "collapsed": false
   }
  },
  {
   "cell_type": "code",
   "execution_count": null,
   "outputs": [],
   "source": [],
   "metadata": {
    "collapsed": false
   }
  }
 ],
 "metadata": {
  "kernelspec": {
   "display_name": "Python 3 (ipykernel)",
   "language": "python",
   "name": "python3"
  },
  "language_info": {
   "codemirror_mode": {
    "name": "ipython",
    "version": 3
   },
   "file_extension": ".py",
   "mimetype": "text/x-python",
   "name": "python",
   "nbconvert_exporter": "python",
   "pygments_lexer": "ipython3",
   "version": "3.9.16"
  }
 },
 "nbformat": 4,
 "nbformat_minor": 1
}
